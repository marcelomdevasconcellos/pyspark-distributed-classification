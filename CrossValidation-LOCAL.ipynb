{
 "cells": [
  {
   "cell_type": "code",
   "execution_count": 1,
   "id": "7e777a81",
   "metadata": {},
   "outputs": [],
   "source": [
    "import pandas as pd\n",
    "from spark_session import LocalSparkSession\n",
    "from dataset import Dataset\n",
    "from mr_id3 import MapReduceIDR3\n",
    "from pyspark.mllib.tree import DecisionTree, DecisionTreeModel\n",
    "from crossvalidation_pyspark import CrossValidationPySpark\n",
    "from crossvalidation_sklearn import CrossValidationSkLearn\n",
    "from pyspark.ml.tuning import ParamGridBuilder\n",
    "from pyspark.ml.classification import DecisionTreeClassifier"
   ]
  },
  {
   "cell_type": "code",
   "execution_count": 2,
   "id": "7fc354fd",
   "metadata": {},
   "outputs": [
    {
     "name": "stdout",
     "output_type": "stream",
     "text": [
      "CPU times: user 2 µs, sys: 1e+03 ns, total: 3 µs\n",
      "Wall time: 6.44 µs\n"
     ]
    }
   ],
   "source": [
    "%time\n",
    "num_fields = [\n",
    "    'age', 'fnlwgt', 'education_num', 'capital_gain', 'capital_loss',\n",
    "    'hours_per_week', ]\n",
    "\n",
    "categorical_fields = [\n",
    "    'workclass', 'education',\n",
    "    'marital_status', 'occupation', 'relationship',\n",
    "    'race', 'sex', 'native_country', ]"
   ]
  },
  {
   "cell_type": "code",
   "execution_count": 3,
   "id": "1c8513c7",
   "metadata": {},
   "outputs": [
    {
     "name": "stdout",
     "output_type": "stream",
     "text": [
      "CPU times: user 2 µs, sys: 1 µs, total: 3 µs\n",
      "Wall time: 6.44 µs\n"
     ]
    }
   ],
   "source": [
    "%time\n",
    "target = 'label'\n",
    "filename = 'dataset/adult.data'"
   ]
  },
  {
   "cell_type": "code",
   "execution_count": 4,
   "id": "6b438fa7",
   "metadata": {},
   "outputs": [
    {
     "name": "stdout",
     "output_type": "stream",
     "text": [
      "CPU times: user 3 µs, sys: 1e+03 ns, total: 4 µs\n",
      "Wall time: 6.44 µs\n"
     ]
    }
   ],
   "source": [
    "%time\n",
    "number_of_cores = 4\n",
    "dataset_size = 1000\n",
    "dataset_sizes = list(range(1,200, 20))\n",
    "metrics = []"
   ]
  },
  {
   "cell_type": "code",
   "execution_count": 5,
   "id": "7cdf6869",
   "metadata": {},
   "outputs": [
    {
     "name": "stderr",
     "output_type": "stream",
     "text": [
      "2022-10-15 20:31:47,448 [INFO] LocalSparkSession : Starting with 4 clusters\n"
     ]
    },
    {
     "name": "stdout",
     "output_type": "stream",
     "text": [
      "CPU times: user 3 µs, sys: 1 µs, total: 4 µs\n",
      "Wall time: 7.15 µs\n"
     ]
    },
    {
     "name": "stderr",
     "output_type": "stream",
     "text": [
      "Setting default log level to \"WARN\".\n",
      "To adjust logging level use sc.setLogLevel(newLevel). For SparkR, use setLogLevel(newLevel).\n"
     ]
    },
    {
     "name": "stdout",
     "output_type": "stream",
     "text": [
      "22/10/15 20:31:49 WARN NativeCodeLoader: Unable to load native-hadoop library for your platform... using builtin-java classes where applicable\n"
     ]
    }
   ],
   "source": [
    "%time\n",
    "spark = LocalSparkSession(number_of_cores)\n",
    "spark.start()"
   ]
  },
  {
   "cell_type": "code",
   "execution_count": 6,
   "id": "59e6d0df",
   "metadata": {},
   "outputs": [
    {
     "name": "stderr",
     "output_type": "stream",
     "text": [
      "2022-10-15 20:31:51,785 [INFO] Dataset : Starting\n",
      "2022-10-15 20:31:51,790 [INFO] Dataset : Loading Dataset dataset/adult.data\n"
     ]
    },
    {
     "name": "stdout",
     "output_type": "stream",
     "text": [
      "CPU times: user 6 µs, sys: 0 ns, total: 6 µs\n",
      "Wall time: 12.4 µs\n"
     ]
    },
    {
     "name": "stderr",
     "output_type": "stream",
     "text": [
      "2022-10-15 20:31:55,469 [INFO] Dataset : One Hot Encode Categorical Fields\n",
      "                                                                                \r"
     ]
    }
   ],
   "source": [
    "%time\n",
    "dataset = Dataset(spark.spark, filename, num_fields, categorical_fields, target)\n",
    "dataset.load()\n",
    "dataset.one_hot_encode_categorical_fields()"
   ]
  },
  {
   "cell_type": "code",
   "execution_count": 7,
   "id": "89e2a9cc",
   "metadata": {},
   "outputs": [],
   "source": [
    "metrics = []"
   ]
  },
  {
   "cell_type": "code",
   "execution_count": 8,
   "id": "3a0dd889",
   "metadata": {},
   "outputs": [],
   "source": [
    "dt = DecisionTreeClassifier()"
   ]
  },
  {
   "cell_type": "code",
   "execution_count": 9,
   "id": "6e6d272b",
   "metadata": {},
   "outputs": [
    {
     "name": "stderr",
     "output_type": "stream",
     "text": [
      "2022-10-15 20:32:04,033 [INFO] Dataset : Multiplying Dataset by 1x\n",
      "2022-10-15 20:32:04,217 [INFO] MapReduceIDR3 : Starting\n",
      "2022-10-15 20:32:04,220 [INFO] CrossValidationSkLearn : Setting X and y\n",
      "2022-10-15 20:32:07,375 [INFO] CrossValidationPySpark : Training                \n",
      "2022-10-15 20:32:07,676 [INFO] CrossValidationPySpark : Training time 0.299632 seconds\n",
      "2022-10-15 20:32:07,677 [INFO] CrossValidationPySpark : Getting metrics\n",
      "2022-10-15 20:32:07,680 [INFO] Dataset : Multiplying Dataset by 21x\n",
      "2022-10-15 20:32:09,631 [INFO] MapReduceIDR3 : Starting\n",
      "2022-10-15 20:32:09,633 [INFO] CrossValidationSkLearn : Setting X and y\n",
      "2022-10-15 20:32:21,848 [INFO] CrossValidationPySpark : Training                \n",
      "2022-10-15 20:32:22,659 [INFO] CrossValidationPySpark : Training time 0.809146 seconds\n",
      "2022-10-15 20:32:22,660 [INFO] CrossValidationPySpark : Getting metrics\n",
      "2022-10-15 20:32:22,662 [INFO] Dataset : Multiplying Dataset by 41x\n",
      "2022-10-15 20:32:27,477 [INFO] MapReduceIDR3 : Starting\n",
      "2022-10-15 20:32:27,478 [INFO] CrossValidationSkLearn : Setting X and y\n",
      "2022-10-15 20:32:47,050 [INFO] CrossValidationPySpark : Training                \n",
      "2022-10-15 20:32:48,671 [INFO] CrossValidationPySpark : Training time 1.619979 seconds\n",
      "2022-10-15 20:32:48,673 [INFO] CrossValidationPySpark : Getting metrics\n",
      "2022-10-15 20:32:48,676 [INFO] Dataset : Multiplying Dataset by 61x\n",
      "2022-10-15 20:32:58,990 [INFO] MapReduceIDR3 : Starting\n",
      "2022-10-15 20:32:58,994 [INFO] CrossValidationSkLearn : Setting X and y\n",
      "2022-10-15 20:33:35,192 [INFO] CrossValidationPySpark : Training                \n",
      "2022-10-15 20:33:37,295 [INFO] CrossValidationPySpark : Training time 2.100421 seconds\n",
      "2022-10-15 20:33:37,296 [INFO] CrossValidationPySpark : Getting metrics\n",
      "2022-10-15 20:33:37,297 [INFO] Dataset : Multiplying Dataset by 81x\n",
      "2022-10-15 20:33:53,223 [INFO] MapReduceIDR3 : Starting\n",
      "2022-10-15 20:33:53,225 [INFO] CrossValidationSkLearn : Setting X and y\n",
      "ERROR:root:KeyboardInterrupt while sending command.               (12 + 4) / 82]\n",
      "Traceback (most recent call last):\n",
      "  File \"/usr/local/lib/python3.8/dist-packages/py4j/java_gateway.py\", line 1038, in send_command\n",
      "    response = connection.send_command(command)\n",
      "  File \"/usr/local/lib/python3.8/dist-packages/py4j/clientserver.py\", line 511, in send_command\n",
      "    answer = smart_decode(self.stream.readline()[:-1])\n",
      "  File \"/usr/lib/python3.8/socket.py\", line 669, in readinto\n",
      "    return self._sock.recv_into(b)\n",
      "KeyboardInterrupt\n",
      "[Stage 16:=====================>                                  (31 + 4) / 82]\r"
     ]
    },
    {
     "ename": "KeyboardInterrupt",
     "evalue": "",
     "output_type": "error",
     "traceback": [
      "\u001B[0;31m---------------------------------------------------------------------------\u001B[0m",
      "\u001B[0;31mKeyboardInterrupt\u001B[0m                         Traceback (most recent call last)",
      "Cell \u001B[0;32mIn [9], line 15\u001B[0m\n\u001B[1;32m      5\u001B[0m \u001B[38;5;66;03m# PySpark\u001B[39;00m\n\u001B[1;32m      6\u001B[0m \u001B[38;5;66;03m#     crossvalidation_pyspark = CrossValidationPySpark(df)\u001B[39;00m\n\u001B[1;32m      7\u001B[0m \u001B[38;5;66;03m#     parameters = ParamGridBuilder() \\\u001B[39;00m\n\u001B[0;32m   (...)\u001B[0m\n\u001B[1;32m     12\u001B[0m \n\u001B[1;32m     13\u001B[0m \u001B[38;5;66;03m# SKLearn\u001B[39;00m\n\u001B[1;32m     14\u001B[0m crossvalidation_sklearn \u001B[38;5;241m=\u001B[39m CrossValidationSkLearn(df)\n\u001B[0;32m---> 15\u001B[0m \u001B[43mcrossvalidation_sklearn\u001B[49m\u001B[38;5;241;43m.\u001B[39;49m\u001B[43mset_x_y\u001B[49m\u001B[43m(\u001B[49m\u001B[43m)\u001B[49m\n\u001B[1;32m     16\u001B[0m parameters \u001B[38;5;241m=\u001B[39m \u001B[38;5;28mdict\u001B[39m(\n\u001B[1;32m     17\u001B[0m     \u001B[38;5;66;03m#df__criterion=['entropy', ],\u001B[39;00m\n\u001B[1;32m     18\u001B[0m     dt__max_depth\u001B[38;5;241m=\u001B[39m[\u001B[38;5;241m10\u001B[39m, \u001B[38;5;241m20\u001B[39m, \u001B[38;5;241m30\u001B[39m, \u001B[38;5;241m40\u001B[39m, \u001B[38;5;241m50\u001B[39m, \u001B[38;5;241m60\u001B[39m, \u001B[38;5;241m70\u001B[39m],\n\u001B[1;32m     19\u001B[0m     \u001B[38;5;66;03m#dt__min_samples_split=[1, 2, 3],\u001B[39;00m\n\u001B[1;32m     20\u001B[0m     \u001B[38;5;66;03m#dt__max_features=[16, 32, 64]\u001B[39;00m\n\u001B[1;32m     21\u001B[0m )\n\u001B[1;32m     22\u001B[0m crossvalidation_sklearn\u001B[38;5;241m.\u001B[39mtrain(parameters)\n",
      "File \u001B[0;32m/classification_distribuee/crossvalidation_sklearn.py:30\u001B[0m, in \u001B[0;36mCrossValidationSkLearn.set_x_y\u001B[0;34m(self)\u001B[0m\n\u001B[1;32m     28\u001B[0m \u001B[38;5;28;01mdef\u001B[39;00m \u001B[38;5;21mset_x_y\u001B[39m(\u001B[38;5;28mself\u001B[39m):\n\u001B[1;32m     29\u001B[0m     log(\u001B[38;5;124mf\u001B[39m\u001B[38;5;124m'\u001B[39m\u001B[38;5;124mCrossValidationSkLearn : Setting X and y\u001B[39m\u001B[38;5;124m'\u001B[39m)\n\u001B[0;32m---> 30\u001B[0m     \u001B[38;5;28mself\u001B[39m\u001B[38;5;241m.\u001B[39mX \u001B[38;5;241m=\u001B[39m \u001B[38;5;28;43mself\u001B[39;49m\u001B[38;5;241;43m.\u001B[39;49m\u001B[43mdf\u001B[49m\u001B[38;5;241;43m.\u001B[39;49m\u001B[43mtoPandas\u001B[49m\u001B[43m(\u001B[49m\u001B[43m)\u001B[49m\u001B[38;5;241m.\u001B[39mdrop(columns\u001B[38;5;241m=\u001B[39m[\u001B[38;5;124m'\u001B[39m\u001B[38;5;124mlabel\u001B[39m\u001B[38;5;124m'\u001B[39m, ])\n\u001B[1;32m     31\u001B[0m     \u001B[38;5;28mself\u001B[39m\u001B[38;5;241m.\u001B[39my \u001B[38;5;241m=\u001B[39m \u001B[38;5;28mself\u001B[39m\u001B[38;5;241m.\u001B[39mdf\u001B[38;5;241m.\u001B[39mtoPandas()[\u001B[38;5;124m'\u001B[39m\u001B[38;5;124mlabel\u001B[39m\u001B[38;5;124m'\u001B[39m]\n",
      "File \u001B[0;32m/usr/local/lib/python3.8/dist-packages/pyspark/sql/pandas/conversion.py:205\u001B[0m, in \u001B[0;36mPandasConversionMixin.toPandas\u001B[0;34m(self)\u001B[0m\n\u001B[1;32m    202\u001B[0m             \u001B[38;5;28;01mraise\u001B[39;00m\n\u001B[1;32m    204\u001B[0m \u001B[38;5;66;03m# Below is toPandas without Arrow optimization.\u001B[39;00m\n\u001B[0;32m--> 205\u001B[0m pdf \u001B[38;5;241m=\u001B[39m pd\u001B[38;5;241m.\u001B[39mDataFrame\u001B[38;5;241m.\u001B[39mfrom_records(\u001B[38;5;28;43mself\u001B[39;49m\u001B[38;5;241;43m.\u001B[39;49m\u001B[43mcollect\u001B[49m\u001B[43m(\u001B[49m\u001B[43m)\u001B[49m, columns\u001B[38;5;241m=\u001B[39m\u001B[38;5;28mself\u001B[39m\u001B[38;5;241m.\u001B[39mcolumns)\n\u001B[1;32m    206\u001B[0m column_counter \u001B[38;5;241m=\u001B[39m Counter(\u001B[38;5;28mself\u001B[39m\u001B[38;5;241m.\u001B[39mcolumns)\n\u001B[1;32m    208\u001B[0m corrected_dtypes: List[Optional[Type]] \u001B[38;5;241m=\u001B[39m [\u001B[38;5;28;01mNone\u001B[39;00m] \u001B[38;5;241m*\u001B[39m \u001B[38;5;28mlen\u001B[39m(\u001B[38;5;28mself\u001B[39m\u001B[38;5;241m.\u001B[39mschema)\n",
      "File \u001B[0;32m/usr/local/lib/python3.8/dist-packages/pyspark/sql/dataframe.py:817\u001B[0m, in \u001B[0;36mDataFrame.collect\u001B[0;34m(self)\u001B[0m\n\u001B[1;32m    807\u001B[0m \u001B[38;5;124;03m\"\"\"Returns all the records as a list of :class:`Row`.\u001B[39;00m\n\u001B[1;32m    808\u001B[0m \n\u001B[1;32m    809\u001B[0m \u001B[38;5;124;03m.. versionadded:: 1.3.0\u001B[39;00m\n\u001B[0;32m   (...)\u001B[0m\n\u001B[1;32m    814\u001B[0m \u001B[38;5;124;03m[Row(age=2, name='Alice'), Row(age=5, name='Bob')]\u001B[39;00m\n\u001B[1;32m    815\u001B[0m \u001B[38;5;124;03m\"\"\"\u001B[39;00m\n\u001B[1;32m    816\u001B[0m \u001B[38;5;28;01mwith\u001B[39;00m SCCallSiteSync(\u001B[38;5;28mself\u001B[39m\u001B[38;5;241m.\u001B[39m_sc):\n\u001B[0;32m--> 817\u001B[0m     sock_info \u001B[38;5;241m=\u001B[39m \u001B[38;5;28;43mself\u001B[39;49m\u001B[38;5;241;43m.\u001B[39;49m\u001B[43m_jdf\u001B[49m\u001B[38;5;241;43m.\u001B[39;49m\u001B[43mcollectToPython\u001B[49m\u001B[43m(\u001B[49m\u001B[43m)\u001B[49m\n\u001B[1;32m    818\u001B[0m \u001B[38;5;28;01mreturn\u001B[39;00m \u001B[38;5;28mlist\u001B[39m(_load_from_socket(sock_info, BatchedSerializer(CPickleSerializer())))\n",
      "File \u001B[0;32m/usr/local/lib/python3.8/dist-packages/py4j/java_gateway.py:1320\u001B[0m, in \u001B[0;36mJavaMember.__call__\u001B[0;34m(self, *args)\u001B[0m\n\u001B[1;32m   1313\u001B[0m args_command, temp_args \u001B[38;5;241m=\u001B[39m \u001B[38;5;28mself\u001B[39m\u001B[38;5;241m.\u001B[39m_build_args(\u001B[38;5;241m*\u001B[39margs)\n\u001B[1;32m   1315\u001B[0m command \u001B[38;5;241m=\u001B[39m proto\u001B[38;5;241m.\u001B[39mCALL_COMMAND_NAME \u001B[38;5;241m+\u001B[39m\\\n\u001B[1;32m   1316\u001B[0m     \u001B[38;5;28mself\u001B[39m\u001B[38;5;241m.\u001B[39mcommand_header \u001B[38;5;241m+\u001B[39m\\\n\u001B[1;32m   1317\u001B[0m     args_command \u001B[38;5;241m+\u001B[39m\\\n\u001B[1;32m   1318\u001B[0m     proto\u001B[38;5;241m.\u001B[39mEND_COMMAND_PART\n\u001B[0;32m-> 1320\u001B[0m answer \u001B[38;5;241m=\u001B[39m \u001B[38;5;28;43mself\u001B[39;49m\u001B[38;5;241;43m.\u001B[39;49m\u001B[43mgateway_client\u001B[49m\u001B[38;5;241;43m.\u001B[39;49m\u001B[43msend_command\u001B[49m\u001B[43m(\u001B[49m\u001B[43mcommand\u001B[49m\u001B[43m)\u001B[49m\n\u001B[1;32m   1321\u001B[0m return_value \u001B[38;5;241m=\u001B[39m get_return_value(\n\u001B[1;32m   1322\u001B[0m     answer, \u001B[38;5;28mself\u001B[39m\u001B[38;5;241m.\u001B[39mgateway_client, \u001B[38;5;28mself\u001B[39m\u001B[38;5;241m.\u001B[39mtarget_id, \u001B[38;5;28mself\u001B[39m\u001B[38;5;241m.\u001B[39mname)\n\u001B[1;32m   1324\u001B[0m \u001B[38;5;28;01mfor\u001B[39;00m temp_arg \u001B[38;5;129;01min\u001B[39;00m temp_args:\n",
      "File \u001B[0;32m/usr/local/lib/python3.8/dist-packages/py4j/java_gateway.py:1038\u001B[0m, in \u001B[0;36mGatewayClient.send_command\u001B[0;34m(self, command, retry, binary)\u001B[0m\n\u001B[1;32m   1036\u001B[0m connection \u001B[38;5;241m=\u001B[39m \u001B[38;5;28mself\u001B[39m\u001B[38;5;241m.\u001B[39m_get_connection()\n\u001B[1;32m   1037\u001B[0m \u001B[38;5;28;01mtry\u001B[39;00m:\n\u001B[0;32m-> 1038\u001B[0m     response \u001B[38;5;241m=\u001B[39m \u001B[43mconnection\u001B[49m\u001B[38;5;241;43m.\u001B[39;49m\u001B[43msend_command\u001B[49m\u001B[43m(\u001B[49m\u001B[43mcommand\u001B[49m\u001B[43m)\u001B[49m\n\u001B[1;32m   1039\u001B[0m     \u001B[38;5;28;01mif\u001B[39;00m binary:\n\u001B[1;32m   1040\u001B[0m         \u001B[38;5;28;01mreturn\u001B[39;00m response, \u001B[38;5;28mself\u001B[39m\u001B[38;5;241m.\u001B[39m_create_connection_guard(connection)\n",
      "File \u001B[0;32m/usr/local/lib/python3.8/dist-packages/py4j/clientserver.py:511\u001B[0m, in \u001B[0;36mClientServerConnection.send_command\u001B[0;34m(self, command)\u001B[0m\n\u001B[1;32m    509\u001B[0m \u001B[38;5;28;01mtry\u001B[39;00m:\n\u001B[1;32m    510\u001B[0m     \u001B[38;5;28;01mwhile\u001B[39;00m \u001B[38;5;28;01mTrue\u001B[39;00m:\n\u001B[0;32m--> 511\u001B[0m         answer \u001B[38;5;241m=\u001B[39m smart_decode(\u001B[38;5;28;43mself\u001B[39;49m\u001B[38;5;241;43m.\u001B[39;49m\u001B[43mstream\u001B[49m\u001B[38;5;241;43m.\u001B[39;49m\u001B[43mreadline\u001B[49m\u001B[43m(\u001B[49m\u001B[43m)\u001B[49m[:\u001B[38;5;241m-\u001B[39m\u001B[38;5;241m1\u001B[39m])\n\u001B[1;32m    512\u001B[0m         logger\u001B[38;5;241m.\u001B[39mdebug(\u001B[38;5;124m\"\u001B[39m\u001B[38;5;124mAnswer received: \u001B[39m\u001B[38;5;132;01m{0}\u001B[39;00m\u001B[38;5;124m\"\u001B[39m\u001B[38;5;241m.\u001B[39mformat(answer))\n\u001B[1;32m    513\u001B[0m         \u001B[38;5;66;03m# Happens when a the other end is dead. There might be an empty\u001B[39;00m\n\u001B[1;32m    514\u001B[0m         \u001B[38;5;66;03m# answer before the socket raises an error.\u001B[39;00m\n",
      "File \u001B[0;32m/usr/lib/python3.8/socket.py:669\u001B[0m, in \u001B[0;36mSocketIO.readinto\u001B[0;34m(self, b)\u001B[0m\n\u001B[1;32m    667\u001B[0m \u001B[38;5;28;01mwhile\u001B[39;00m \u001B[38;5;28;01mTrue\u001B[39;00m:\n\u001B[1;32m    668\u001B[0m     \u001B[38;5;28;01mtry\u001B[39;00m:\n\u001B[0;32m--> 669\u001B[0m         \u001B[38;5;28;01mreturn\u001B[39;00m \u001B[38;5;28;43mself\u001B[39;49m\u001B[38;5;241;43m.\u001B[39;49m\u001B[43m_sock\u001B[49m\u001B[38;5;241;43m.\u001B[39;49m\u001B[43mrecv_into\u001B[49m\u001B[43m(\u001B[49m\u001B[43mb\u001B[49m\u001B[43m)\u001B[49m\n\u001B[1;32m    670\u001B[0m     \u001B[38;5;28;01mexcept\u001B[39;00m timeout:\n\u001B[1;32m    671\u001B[0m         \u001B[38;5;28mself\u001B[39m\u001B[38;5;241m.\u001B[39m_timeout_occurred \u001B[38;5;241m=\u001B[39m \u001B[38;5;28;01mTrue\u001B[39;00m\n",
      "\u001B[0;31mKeyboardInterrupt\u001B[0m: "
     ]
    }
   ],
   "source": [
    "for dataset_size in dataset_sizes:\n",
    "    df = dataset.multiply_dataset(dataset_size)\n",
    "    df_pandas = df.toPandas()\n",
    "    metric_dict = {'dataset_size': dataset_size, }\n",
    "    \n",
    "    # PySpark\n",
    "    crossvalidation_pyspark = CrossValidationPySpark(df)\n",
    "    parameters = ParamGridBuilder() \\\n",
    "        .addGrid(dt.maxDepth, [10, 20, 30, 40, 50, 60, 70]).build()\n",
    "    crossvalidation_pyspark.train(parameters)\n",
    "    m = crossvalidation_pyspark.get_metrics()\n",
    "    metric_dict['pyspark'] = m['time']\n",
    "    \n",
    "    # SKLearn\n",
    "    crossvalidation_sklearn = CrossValidationSkLearn(df_pandas)\n",
    "    crossvalidation_sklearn.set_x_y()\n",
    "    parameters = dict(\n",
    "        #df__criterion=['entropy', ],\n",
    "        dt__max_depth=[10, 20, 30, 40, 50, 60, 70],\n",
    "        #dt__min_samples_split=[1, 2, 3],\n",
    "        #dt__max_features=[16, 32, 64]\n",
    "    )\n",
    "    crossvalidation_sklearn.train(parameters)\n",
    "    m = crossvalidation_sklearn.get_metrics()\n",
    "    metric_dict['sklearn'] = m['time']\n",
    "    \n",
    "    metrics.append(metric_dict)"
   ]
  },
  {
   "cell_type": "code",
   "execution_count": null,
   "id": "19553753",
   "metadata": {},
   "outputs": [],
   "source": []
  },
  {
   "cell_type": "markdown",
   "id": "c671e4ae",
   "metadata": {},
   "source": [
    "# CrossValidationPySpark"
   ]
  },
  {
   "cell_type": "code",
   "execution_count": null,
   "id": "a00196a4",
   "metadata": {},
   "outputs": [],
   "source": [
    "# %time\n",
    "# crossvalidation_pyspark = CrossValidationPySpark(df)"
   ]
  },
  {
   "cell_type": "code",
   "execution_count": null,
   "id": "b3dcdbcb",
   "metadata": {},
   "outputs": [],
   "source": [
    "# parameters = ParamGridBuilder() \\\n",
    "#     .addGrid(dt.maxDepth, [10, 20, 30, 40, 50, 60, 70]).build()"
   ]
  },
  {
   "cell_type": "code",
   "execution_count": null,
   "id": "6a9eda03",
   "metadata": {},
   "outputs": [],
   "source": [
    "# %time\n",
    "# crossvalidation_pyspark.train(parameters)"
   ]
  },
  {
   "cell_type": "code",
   "execution_count": null,
   "id": "4cf737e0",
   "metadata": {},
   "outputs": [],
   "source": [
    "# m = crossvalidation_pyspark.get_metrics()\n",
    "# m['Algorithm'] = 'PySpark'\n",
    "# metrics.append(m)"
   ]
  },
  {
   "cell_type": "markdown",
   "id": "9554deb3",
   "metadata": {},
   "source": [
    "# CrossValidationSkLearn"
   ]
  },
  {
   "cell_type": "code",
   "execution_count": null,
   "id": "ff5bdd5b",
   "metadata": {},
   "outputs": [],
   "source": [
    "# %time\n",
    "# crossvalidation_sklearn = CrossValidationSkLearn(df)\n",
    "# crossvalidation_sklearn.set_x_y()"
   ]
  },
  {
   "cell_type": "code",
   "execution_count": null,
   "id": "a988cb18",
   "metadata": {},
   "outputs": [],
   "source": [
    "# parameters = dict(\n",
    "#     #df__criterion=['entropy', ],\n",
    "#     dt__max_depth=[10, 20, 30, 40, 50, 60, 70],\n",
    "#     #dt__min_samples_split=[1, 2, 3],\n",
    "#     #dt__max_features=[16, 32, 64]\n",
    "# )"
   ]
  },
  {
   "cell_type": "code",
   "execution_count": null,
   "id": "097ab17b",
   "metadata": {},
   "outputs": [],
   "source": [
    "# %time\n",
    "# crossvalidation_sklearn.train(parameters)"
   ]
  },
  {
   "cell_type": "code",
   "execution_count": null,
   "id": "ec9a284c",
   "metadata": {},
   "outputs": [],
   "source": [
    "# m = crossvalidation_sklearn.get_metrics()\n",
    "# m['Algorithm'] = 'SkLearn'\n",
    "# metrics.append(m)"
   ]
  },
  {
   "cell_type": "markdown",
   "id": "78b419e4",
   "metadata": {},
   "source": [
    "# Results"
   ]
  },
  {
   "cell_type": "code",
   "execution_count": null,
   "id": "630f89d7",
   "metadata": {},
   "outputs": [],
   "source": [
    "%time\n",
    "df = pd.DataFrame.from_dict(metrics)"
   ]
  },
  {
   "cell_type": "code",
   "execution_count": null,
   "id": "e76dfa80",
   "metadata": {},
   "outputs": [],
   "source": [
    "df"
   ]
  },
  {
   "cell_type": "code",
   "execution_count": null,
   "id": "5513cdbc",
   "metadata": {},
   "outputs": [],
   "source": []
  },
  {
   "cell_type": "code",
   "execution_count": null,
   "id": "2b1c388d",
   "metadata": {},
   "outputs": [],
   "source": []
  }
 ],
 "metadata": {
  "kernelspec": {
   "display_name": "Python 3 (ipykernel)",
   "language": "python",
   "name": "python3"
  },
  "language_info": {
   "codemirror_mode": {
    "name": "ipython",
    "version": 3
   },
   "file_extension": ".py",
   "mimetype": "text/x-python",
   "name": "python",
   "nbconvert_exporter": "python",
   "pygments_lexer": "ipython3",
   "version": "3.8.10"
  }
 },
 "nbformat": 4,
 "nbformat_minor": 5
}

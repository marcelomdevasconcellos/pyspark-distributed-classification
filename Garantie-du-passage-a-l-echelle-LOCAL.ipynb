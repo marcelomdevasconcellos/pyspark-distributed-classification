{
 "cells": [
  {
   "cell_type": "code",
   "execution_count": 1,
   "metadata": {},
   "outputs": [],
   "source": [
    "import sys\n",
    "import pandas as pd\n",
    "from spark_session import LocalSparkSession\n",
    "from dataset import Dataset\n",
    "from mr_id3 import MapReduceIDR3\n",
    "from pyspark.mllib.tree import DecisionTree"
   ]
  },
  {
   "cell_type": "code",
   "execution_count": 2,
   "metadata": {},
   "outputs": [],
   "source": [
    "from log import log\n",
    "from sklearn.impute import SimpleImputer\n",
    "from pyspark.sql.functions import lit\n",
    "from pyspark.sql.functions import col, sum\n",
    "from pyspark.sql.functions import udf, col\n",
    "from pyspark.sql.types import IntegerType\n",
    "from pyspark.sql import SparkSession\n",
    "from pyspark import SparkContext\n",
    "from decisiontree_pyspark import DecisionTreePySpark\n",
    "from pyspark.mllib.tree import DecisionTree, DecisionTreeModel\n",
    "from pyspark.mllib.util import MLUtils\n",
    "from pyspark.mllib.regression import LabeledPoint\n",
    "from pyspark.sql.types import StructType, StructField, IntegerType, StringType, LongType\n",
    "from pyspark.ml.feature import StringIndexer\n",
    "from pyspark.ml.feature import VectorAssembler"
   ]
  },
  {
   "cell_type": "code",
   "execution_count": 3,
   "metadata": {},
   "outputs": [
    {
     "name": "stdout",
     "output_type": "stream",
     "text": [
      "CPU times: user 2 µs, sys: 1e+03 ns, total: 3 µs\n",
      "Wall time: 5.72 µs\n"
     ]
    }
   ],
   "source": [
    "%time\n",
    "num_fields = [\n",
    "    'age', 'fnlwgt', 'education_num', 'capital_gain', 'capital_loss',\n",
    "    'hours_per_week', ]\n",
    "\n",
    "categorical_fields = [\n",
    "    'workclass', 'education',\n",
    "    'marital_status', 'occupation', 'relationship',\n",
    "    'race', 'sex', 'native_country', ]"
   ]
  },
  {
   "cell_type": "code",
   "execution_count": 4,
   "metadata": {},
   "outputs": [
    {
     "name": "stdout",
     "output_type": "stream",
     "text": [
      "CPU times: user 2 µs, sys: 1 µs, total: 3 µs\n",
      "Wall time: 5.01 µs\n"
     ]
    }
   ],
   "source": [
    "%time\n",
    "target = 'label'\n",
    "filename = 'dataset/adult.data'"
   ]
  },
  {
   "cell_type": "code",
   "execution_count": 5,
   "metadata": {},
   "outputs": [
    {
     "name": "stdout",
     "output_type": "stream",
     "text": [
      "CPU times: user 2 µs, sys: 1e+03 ns, total: 3 µs\n",
      "Wall time: 5.25 µs\n"
     ]
    }
   ],
   "source": [
    "%time\n",
    "numbers_of_cores = [4, ]\n",
    "multiplication_factors = [1, 10, 20, 30, 40, 50, 60, 70, 80, 90, 100, ]\n",
    "metrics = []"
   ]
  },
  {
   "cell_type": "code",
   "execution_count": 6,
   "metadata": {
    "scrolled": true
   },
   "outputs": [
    {
     "name": "stderr",
     "output_type": "stream",
     "text": [
      "2022-10-16 18:17:51,841 [INFO] LocalSparkSession : Starting with 4 clusters\n"
     ]
    },
    {
     "name": "stdout",
     "output_type": "stream",
     "text": [
      "CPU times: user 3 µs, sys: 0 ns, total: 3 µs\n",
      "Wall time: 6.2 µs\n",
      "22/10/16 18:17:53 WARN Utils: Your hostname, Mac-Pro-de-MARCELO.local resolves to a loopback address: 127.0.0.1; using 192.168.0.62 instead (on interface en2)\n",
      "22/10/16 18:17:53 WARN Utils: Set SPARK_LOCAL_IP if you need to bind to another address\n"
     ]
    },
    {
     "name": "stderr",
     "output_type": "stream",
     "text": [
      "Setting default log level to \"WARN\".\n",
      "To adjust logging level use sc.setLogLevel(newLevel). For SparkR, use setLogLevel(newLevel).\n"
     ]
    },
    {
     "name": "stdout",
     "output_type": "stream",
     "text": [
      "22/10/16 18:17:54 WARN NativeCodeLoader: Unable to load native-hadoop library for your platform... using builtin-java classes where applicable\n"
     ]
    },
    {
     "name": "stderr",
     "output_type": "stream",
     "text": [
      "2022-10-16 18:17:55,997 [INFO] Dataset : Starting\n",
      "2022-10-16 18:17:55,998 [INFO] Dataset : Loading Dataset dataset/adult_1x.data\n",
      "2022-10-16 18:17:59,170 [INFO] Dataset : Select Only Numerical Features\n",
      "2022-10-16 18:17:59,234 [INFO] DecisionTreePySpark : Starting\n",
      "2022-10-16 18:17:59,235 [INFO] DecisionTreePySpark : Training\n",
      "2022-10-16 18:17:59,235 [INFO] DecisionTreePySpark : Setting Labeled Point\n",
      "2022-10-16 18:18:00,001 [INFO] DecisionTreePySpark : Splitting\n",
      "2022-10-16 18:18:00,002 [INFO] DecisionTreePySpark : Assembling\n",
      "2022-10-16 18:18:05,880 [INFO] DecisionTreePySpark : Training time 5.639004 seconds\n",
      "2022-10-16 18:18:05,881 [INFO] DecisionTreePySpark : Get metrics\n"
     ]
    },
    {
     "ename": "KeyError",
     "evalue": "'f'",
     "output_type": "error",
     "traceback": [
      "\u001b[0;31m---------------------------------------------------------------------------\u001b[0m",
      "\u001b[0;31mKeyError\u001b[0m                                  Traceback (most recent call last)",
      "Input \u001b[0;32mIn [6]\u001b[0m, in \u001b[0;36m<cell line: 2>\u001b[0;34m()\u001b[0m\n\u001b[1;32m     25\u001b[0m     metric[\u001b[38;5;124m'\u001b[39m\u001b[38;5;124mnumber_of_cores\u001b[39m\u001b[38;5;124m'\u001b[39m] \u001b[38;5;241m=\u001b[39m number_of_cores\n\u001b[1;32m     26\u001b[0m     metrics\u001b[38;5;241m.\u001b[39mappend(metric)\n\u001b[0;32m---> 28\u001b[0m     log(\u001b[38;5;124mf\u001b[39m\u001b[38;5;124m\"\u001b[39m\u001b[38;5;124mMetrics: Clusters \u001b[39m\u001b[38;5;132;01m{\u001b[39;00mmetric[\u001b[38;5;124m'\u001b[39m\u001b[38;5;124mnumber_of_cores\u001b[39m\u001b[38;5;124m'\u001b[39m]\u001b[38;5;132;01m}\u001b[39;00m\u001b[38;5;124m - Dataset size \u001b[39m\u001b[38;5;132;01m{\u001b[39;00mmetric[\u001b[38;5;124m'\u001b[39m\u001b[38;5;124mf\u001b[39m\u001b[38;5;124m'\u001b[39m]\u001b[38;5;132;01m}\u001b[39;00m\u001b[38;5;124mx - Time \u001b[39m\u001b[38;5;132;01m{\u001b[39;00mmetric[\u001b[38;5;124m'\u001b[39m\u001b[38;5;124mtime\u001b[39m\u001b[38;5;124m'\u001b[39m]\u001b[38;5;132;01m}\u001b[39;00m\u001b[38;5;124m seconds\u001b[39m\u001b[38;5;124m\"\u001b[39m)\n\u001b[1;32m     30\u001b[0m spark\u001b[38;5;241m.\u001b[39mstop()\n",
      "\u001b[0;31mKeyError\u001b[0m: 'f'"
     ]
    }
   ],
   "source": [
    "%time\n",
    "for number_of_cores in numbers_of_cores:\n",
    "\n",
    "    spark = LocalSparkSession(number_of_cores)\n",
    "    spark.start()\n",
    "\n",
    "    for f in multiplication_factors:\n",
    "\n",
    "        dataset = Dataset(\n",
    "            spark.spark, \n",
    "            f'dataset/adult_{f}x.data',\n",
    "            num_fields, categorical_fields, target)\n",
    "        dataset.load()\n",
    "        dataset.select_only_numerical_features()\n",
    "        \n",
    "        df = dataset.df\n",
    "\n",
    "        mr_id3 = DecisionTreePySpark(df)\n",
    "        mr_id3.train()\n",
    "\n",
    "        metric = mr_id3.get_metrics()\n",
    "        metric['length_rows'] = df.count()\n",
    "        metric['dataset_size_num'] = f\n",
    "        metric['dataset_size'] = sys.getsizeof(df)\n",
    "        metric['number_of_cores'] = number_of_cores\n",
    "        metrics.append(metric)\n",
    "        \n",
    "        log(f\"Metrics: Clusters {metric['number_of_cores']} - Dataset size {metric['f']}x - Time {metric['time']} seconds\")\n",
    "\n",
    "    spark.stop()"
   ]
  },
  {
   "cell_type": "code",
   "execution_count": null,
   "metadata": {},
   "outputs": [],
   "source": [
    "%time\n",
    "df = pd.DataFrame.from_dict(metrics)"
   ]
  },
  {
   "cell_type": "code",
   "execution_count": null,
   "metadata": {},
   "outputs": [],
   "source": [
    "df"
   ]
  },
  {
   "cell_type": "code",
   "execution_count": null,
   "metadata": {},
   "outputs": [],
   "source": [
    "%time\n",
    "df[['dataset_size_num', 'time']].plot()"
   ]
  },
  {
   "cell_type": "code",
   "execution_count": null,
   "metadata": {},
   "outputs": [],
   "source": []
  }
 ],
 "metadata": {
  "kernelspec": {
   "display_name": "Python 3 (ipykernel)",
   "language": "python",
   "name": "python3"
  },
  "language_info": {
   "codemirror_mode": {
    "name": "ipython",
    "version": 3
   },
   "file_extension": ".py",
   "mimetype": "text/x-python",
   "name": "python",
   "nbconvert_exporter": "python",
   "pygments_lexer": "ipython3",
   "version": "3.9.12"
  }
 },
 "nbformat": 4,
 "nbformat_minor": 1
}

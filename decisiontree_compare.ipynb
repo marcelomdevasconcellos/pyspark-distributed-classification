{
 "cells": [
  {
   "cell_type": "code",
   "execution_count": 1,
   "id": "7e777a81",
   "metadata": {},
   "outputs": [],
   "source": [
    "import sys\n",
    "import pandas as pd\n",
    "from spark_session import LocalSparkSession\n",
    "from dataset import Dataset\n",
    "from mr_id3 import MapReduceIDR3\n",
    "from pyspark.mllib.tree import DecisionTree, DecisionTreeModel\n",
    "from decisiontree_pyspark import DecisionTreePySpark\n",
    "from decisiontree_sklearn import DecisionTreeSklearn\n",
    "from pyspark.ml.tuning import ParamGridBuilder\n",
    "from pyspark.mllib.tree import DecisionTree"
   ]
  },
  {
   "cell_type": "code",
   "execution_count": 2,
   "id": "7fc354fd",
   "metadata": {},
   "outputs": [
    {
     "name": "stdout",
     "output_type": "stream",
     "text": [
      "CPU times: user 2 µs, sys: 1 µs, total: 3 µs\n",
      "Wall time: 5.96 µs\n"
     ]
    }
   ],
   "source": [
    "%time\n",
    "num_fields = [\n",
    "    'age', 'fnlwgt', 'education_num', 'capital_gain', 'capital_loss',\n",
    "    'hours_per_week', ]\n",
    "\n",
    "categorical_fields = [\n",
    "    'workclass', 'education',\n",
    "    'marital_status', 'occupation', 'relationship',\n",
    "    'race', 'sex', 'native_country', ]"
   ]
  },
  {
   "cell_type": "code",
   "execution_count": 3,
   "id": "1c8513c7",
   "metadata": {},
   "outputs": [
    {
     "name": "stdout",
     "output_type": "stream",
     "text": [
      "CPU times: user 2 µs, sys: 1 µs, total: 3 µs\n",
      "Wall time: 5.96 µs\n"
     ]
    }
   ],
   "source": [
    "%time\n",
    "target = 'label'\n",
    "filename = 'dataset/adult.data'"
   ]
  },
  {
   "cell_type": "code",
   "execution_count": 4,
   "id": "6b438fa7",
   "metadata": {},
   "outputs": [
    {
     "name": "stdout",
     "output_type": "stream",
     "text": [
      "CPU times: user 2 µs, sys: 1e+03 ns, total: 3 µs\n",
      "Wall time: 5.96 µs\n"
     ]
    }
   ],
   "source": [
    "%time\n",
    "number_of_cores = 8\n",
    "dataset_size = 1000\n",
    "dataset_sizes = list(range(1, 5))\n",
    "metrics = []"
   ]
  },
  {
   "cell_type": "code",
   "execution_count": 5,
   "id": "7cdf6869",
   "metadata": {},
   "outputs": [
    {
     "name": "stderr",
     "output_type": "stream",
     "text": [
      "2022-10-16 11:02:09,218 [INFO] LocalSparkSession : Starting with 8 clusters\n"
     ]
    },
    {
     "name": "stdout",
     "output_type": "stream",
     "text": [
      "CPU times: user 2 µs, sys: 1 µs, total: 3 µs\n",
      "Wall time: 6.2 µs\n",
      "22/10/16 11:02:11 WARN Utils: Your hostname, Mac-Pro-de-MARCELO.local resolves to a loopback address: 127.0.0.1; using 192.168.0.62 instead (on interface en2)\n",
      "22/10/16 11:02:11 WARN Utils: Set SPARK_LOCAL_IP if you need to bind to another address\n"
     ]
    },
    {
     "name": "stderr",
     "output_type": "stream",
     "text": [
      "Setting default log level to \"WARN\".\n",
      "To adjust logging level use sc.setLogLevel(newLevel). For SparkR, use setLogLevel(newLevel).\n"
     ]
    },
    {
     "name": "stdout",
     "output_type": "stream",
     "text": [
      "22/10/16 11:02:11 WARN NativeCodeLoader: Unable to load native-hadoop library for your platform... using builtin-java classes where applicable\n",
      "22/10/16 11:02:12 WARN Utils: Service 'SparkUI' could not bind on port 4040. Attempting port 4041.\n"
     ]
    }
   ],
   "source": [
    "%time\n",
    "spark = LocalSparkSession(number_of_cores)\n",
    "spark.start()"
   ]
  },
  {
   "cell_type": "code",
   "execution_count": 6,
   "id": "59e6d0df",
   "metadata": {},
   "outputs": [
    {
     "name": "stderr",
     "output_type": "stream",
     "text": [
      "2022-10-16 11:02:13,684 [INFO] Dataset : Starting\n",
      "2022-10-16 11:02:13,686 [INFO] Dataset : Loading Dataset dataset/adult.data\n"
     ]
    },
    {
     "name": "stdout",
     "output_type": "stream",
     "text": [
      "CPU times: user 3 µs, sys: 0 ns, total: 3 µs\n",
      "Wall time: 5.96 µs\n"
     ]
    },
    {
     "name": "stderr",
     "output_type": "stream",
     "text": [
      "2022-10-16 11:02:17,021 [INFO] Dataset : Select Only Numerical Features\n"
     ]
    }
   ],
   "source": [
    "%time\n",
    "dataset = Dataset(spark.spark, filename, num_fields, categorical_fields, target)\n",
    "dataset.load()\n",
    "dataset.select_only_numerical_features()"
   ]
  },
  {
   "cell_type": "code",
   "execution_count": 7,
   "id": "89e2a9cc",
   "metadata": {},
   "outputs": [],
   "source": [
    "metrics = []"
   ]
  },
  {
   "cell_type": "code",
   "execution_count": 8,
   "id": "6e6d272b",
   "metadata": {},
   "outputs": [
    {
     "name": "stderr",
     "output_type": "stream",
     "text": [
      "2022-10-16 11:02:17,105 [INFO] Dataset : Multiplying Dataset by 1x\n",
      "2022-10-16 11:02:19,598 [INFO] DecisionTreePySpark : Starting                   \n",
      "2022-10-16 11:02:19,599 [INFO] DecisionTreePySpark : Training\n",
      "2022-10-16 11:02:19,601 [INFO] DecisionTreePySpark : Setting Labeled Point\n",
      "2022-10-16 11:02:19,663 [INFO] DecisionTreePySpark : Splitting\n",
      "2022-10-16 11:02:19,664 [INFO] DecisionTreePySpark : Assembling\n",
      "2022-10-16 11:02:24,778 [INFO] DecisionTreePySpark : Training time 4.872275 seconds\n",
      "2022-10-16 11:02:24,779 [INFO] DecisionTreePySpark : Get metrics\n",
      "2022-10-16 11:02:24,780 [INFO] DecisionTreeSklearn : Starting\n",
      "2022-10-16 11:02:24,781 [INFO] DecisionTreeSklearn : Training\n",
      "2022-10-16 11:02:24,783 [INFO] DecisionTreeSklearn : Setting X and y\n",
      "2022-10-16 11:02:24,786 [INFO] DecisionTreeSklearn : Splitting\n",
      "2022-10-16 11:02:24,800 [INFO] DecisionTreeSklearn : Training time 0.006059 seconds\n",
      "2022-10-16 11:02:24,801 [INFO] DecisionTreeSklearn : Getting metrics\n",
      "2022-10-16 11:02:24,802 [INFO] Dataset : Multiplying Dataset by 2x\n",
      "2022-10-16 11:02:25,685 [INFO] DecisionTreePySpark : Starting\n",
      "2022-10-16 11:02:25,686 [INFO] DecisionTreePySpark : Training\n",
      "2022-10-16 11:02:25,687 [INFO] DecisionTreePySpark : Setting Labeled Point\n",
      "2022-10-16 11:02:25,746 [INFO] DecisionTreePySpark : Splitting\n",
      "2022-10-16 11:02:25,747 [INFO] DecisionTreePySpark : Assembling\n",
      "2022-10-16 11:02:27,608 [INFO] DecisionTreePySpark : Training time 1.757722 seconds\n",
      "2022-10-16 11:02:27,609 [INFO] DecisionTreePySpark : Get metrics\n",
      "2022-10-16 11:02:27,610 [INFO] DecisionTreeSklearn : Starting\n",
      "2022-10-16 11:02:27,611 [INFO] DecisionTreeSklearn : Training\n",
      "2022-10-16 11:02:27,612 [INFO] DecisionTreeSklearn : Setting X and y\n",
      "2022-10-16 11:02:27,615 [INFO] DecisionTreeSklearn : Splitting\n",
      "2022-10-16 11:02:27,623 [INFO] DecisionTreeSklearn : Training time 0.00487 seconds\n",
      "2022-10-16 11:02:27,625 [INFO] DecisionTreeSklearn : Getting metrics\n",
      "2022-10-16 11:02:27,626 [INFO] Dataset : Multiplying Dataset by 3x\n",
      "2022-10-16 11:02:28,400 [INFO] DecisionTreePySpark : Starting\n",
      "2022-10-16 11:02:28,401 [INFO] DecisionTreePySpark : Training\n",
      "2022-10-16 11:02:28,402 [INFO] DecisionTreePySpark : Setting Labeled Point\n",
      "2022-10-16 11:02:28,451 [INFO] DecisionTreePySpark : Splitting\n",
      "2022-10-16 11:02:28,452 [INFO] DecisionTreePySpark : Assembling\n",
      "2022-10-16 11:02:30,783 [INFO] DecisionTreePySpark : Training time 2.248352 seconds\n",
      "2022-10-16 11:02:30,784 [INFO] DecisionTreePySpark : Get metrics\n",
      "2022-10-16 11:02:30,785 [INFO] DecisionTreeSklearn : Starting\n",
      "2022-10-16 11:02:30,785 [INFO] DecisionTreeSklearn : Training\n",
      "2022-10-16 11:02:30,787 [INFO] DecisionTreeSklearn : Setting X and y\n",
      "2022-10-16 11:02:30,789 [INFO] DecisionTreeSklearn : Splitting\n",
      "2022-10-16 11:02:30,797 [INFO] DecisionTreeSklearn : Training time 0.003585 seconds\n",
      "2022-10-16 11:02:30,798 [INFO] DecisionTreeSklearn : Getting metrics\n",
      "2022-10-16 11:02:30,798 [INFO] Dataset : Multiplying Dataset by 4x\n",
      "2022-10-16 11:02:31,324 [INFO] DecisionTreePySpark : Starting\n",
      "2022-10-16 11:02:31,325 [INFO] DecisionTreePySpark : Training\n",
      "2022-10-16 11:02:31,326 [INFO] DecisionTreePySpark : Setting Labeled Point\n",
      "2022-10-16 11:02:31,371 [INFO] DecisionTreePySpark : Splitting\n",
      "2022-10-16 11:02:31,372 [INFO] DecisionTreePySpark : Assembling\n",
      "2022-10-16 11:02:33,007 [INFO] DecisionTreePySpark : Training time 1.565294 seconds\n",
      "2022-10-16 11:02:33,008 [INFO] DecisionTreePySpark : Get metrics\n",
      "2022-10-16 11:02:33,008 [INFO] DecisionTreeSklearn : Starting\n",
      "2022-10-16 11:02:33,009 [INFO] DecisionTreeSklearn : Training\n",
      "2022-10-16 11:02:33,010 [INFO] DecisionTreeSklearn : Setting X and y\n",
      "2022-10-16 11:02:33,012 [INFO] DecisionTreeSklearn : Splitting\n",
      "2022-10-16 11:02:33,024 [INFO] DecisionTreeSklearn : Training time 0.008626 seconds\n",
      "2022-10-16 11:02:33,026 [INFO] DecisionTreeSklearn : Getting metrics\n"
     ]
    }
   ],
   "source": [
    "for dataset_size in dataset_sizes:\n",
    "    df = dataset.multiply_dataset(dataset_size)\n",
    "    df_pandas = df.toPandas()\n",
    "    metric_dict = {'dataset_size_num': dataset_size, 'dataset_size': sys.getsizeof(df_pandas)}\n",
    "    \n",
    "    # PySpark\n",
    "    dt_pyspark = DecisionTreePySpark(df)\n",
    "    dt_pyspark.train()\n",
    "    m = dt_pyspark.get_metrics()\n",
    "    metric_dict['pyspark'] = m['time']\n",
    "    \n",
    "    # SKLearn\n",
    "    dt_sklearn = DecisionTreeSklearn(df_pandas)\n",
    "    dt_sklearn.train()\n",
    "    m = dt_sklearn.get_metrics()\n",
    "    metric_dict['sklearn'] = m['time']\n",
    "    \n",
    "    metrics.append(metric_dict)"
   ]
  },
  {
   "cell_type": "code",
   "execution_count": null,
   "id": "19553753",
   "metadata": {},
   "outputs": [],
   "source": []
  },
  {
   "cell_type": "markdown",
   "id": "c671e4ae",
   "metadata": {},
   "source": [
    "# CrossValidationPySpark"
   ]
  },
  {
   "cell_type": "code",
   "execution_count": 9,
   "id": "a00196a4",
   "metadata": {},
   "outputs": [],
   "source": [
    "# %time\n",
    "# crossvalidation_pyspark = CrossValidationPySpark(df)"
   ]
  },
  {
   "cell_type": "code",
   "execution_count": 10,
   "id": "b3dcdbcb",
   "metadata": {},
   "outputs": [],
   "source": [
    "# parameters = ParamGridBuilder() \\\n",
    "#     .addGrid(dt.maxDepth, [10, 20, 30, 40, 50, 60, 70]).build()"
   ]
  },
  {
   "cell_type": "code",
   "execution_count": 11,
   "id": "6a9eda03",
   "metadata": {},
   "outputs": [],
   "source": [
    "# %time\n",
    "# crossvalidation_pyspark.train(parameters)"
   ]
  },
  {
   "cell_type": "code",
   "execution_count": 12,
   "id": "4cf737e0",
   "metadata": {},
   "outputs": [],
   "source": [
    "# m = crossvalidation_pyspark.get_metrics()\n",
    "# m['Algorithm'] = 'PySpark'\n",
    "# metrics.append(m)"
   ]
  },
  {
   "cell_type": "markdown",
   "id": "9554deb3",
   "metadata": {},
   "source": [
    "# CrossValidationSkLearn"
   ]
  },
  {
   "cell_type": "code",
   "execution_count": 13,
   "id": "ff5bdd5b",
   "metadata": {},
   "outputs": [],
   "source": [
    "# %time\n",
    "# crossvalidation_sklearn = CrossValidationSkLearn(df)\n",
    "# crossvalidation_sklearn.set_x_y()"
   ]
  },
  {
   "cell_type": "code",
   "execution_count": 14,
   "id": "a988cb18",
   "metadata": {},
   "outputs": [],
   "source": [
    "# parameters = dict(\n",
    "#     #df__criterion=['entropy', ],\n",
    "#     dt__max_depth=[10, 20, 30, 40, 50, 60, 70],\n",
    "#     #dt__min_samples_split=[1, 2, 3],\n",
    "#     #dt__max_features=[16, 32, 64]\n",
    "# )"
   ]
  },
  {
   "cell_type": "code",
   "execution_count": 15,
   "id": "097ab17b",
   "metadata": {},
   "outputs": [],
   "source": [
    "# %time\n",
    "# crossvalidation_sklearn.train(parameters)"
   ]
  },
  {
   "cell_type": "code",
   "execution_count": 16,
   "id": "ec9a284c",
   "metadata": {},
   "outputs": [],
   "source": [
    "# m = crossvalidation_sklearn.get_metrics()\n",
    "# m['Algorithm'] = 'SkLearn'\n",
    "# metrics.append(m)"
   ]
  },
  {
   "cell_type": "markdown",
   "id": "78b419e4",
   "metadata": {},
   "source": [
    "# Results"
   ]
  },
  {
   "cell_type": "code",
   "execution_count": 17,
   "id": "630f89d7",
   "metadata": {},
   "outputs": [
    {
     "name": "stdout",
     "output_type": "stream",
     "text": [
      "CPU times: user 3 µs, sys: 0 ns, total: 3 µs\n",
      "Wall time: 5.72 µs\n"
     ]
    }
   ],
   "source": [
    "%time\n",
    "df = pd.DataFrame.from_dict(metrics)"
   ]
  },
  {
   "cell_type": "code",
   "execution_count": 18,
   "id": "e76dfa80",
   "metadata": {},
   "outputs": [
    {
     "data": {
      "text/html": [
       "<div>\n",
       "<style scoped>\n",
       "    .dataframe tbody tr th:only-of-type {\n",
       "        vertical-align: middle;\n",
       "    }\n",
       "\n",
       "    .dataframe tbody tr th {\n",
       "        vertical-align: top;\n",
       "    }\n",
       "\n",
       "    .dataframe thead th {\n",
       "        text-align: right;\n",
       "    }\n",
       "</style>\n",
       "<table border=\"1\" class=\"dataframe\">\n",
       "  <thead>\n",
       "    <tr style=\"text-align: right;\">\n",
       "      <th></th>\n",
       "      <th>dataset_size_num</th>\n",
       "      <th>dataset_size</th>\n",
       "      <th>pyspark</th>\n",
       "      <th>sklearn</th>\n",
       "    </tr>\n",
       "  </thead>\n",
       "  <tbody>\n",
       "    <tr>\n",
       "      <th>0</th>\n",
       "      <td>1</td>\n",
       "      <td>22544</td>\n",
       "      <td>4.872275</td>\n",
       "      <td>0.006059</td>\n",
       "    </tr>\n",
       "    <tr>\n",
       "      <th>1</th>\n",
       "      <td>2</td>\n",
       "      <td>33744</td>\n",
       "      <td>1.757722</td>\n",
       "      <td>0.004870</td>\n",
       "    </tr>\n",
       "    <tr>\n",
       "      <th>2</th>\n",
       "      <td>3</td>\n",
       "      <td>44944</td>\n",
       "      <td>2.248352</td>\n",
       "      <td>0.003585</td>\n",
       "    </tr>\n",
       "    <tr>\n",
       "      <th>3</th>\n",
       "      <td>4</td>\n",
       "      <td>56144</td>\n",
       "      <td>1.565294</td>\n",
       "      <td>0.008626</td>\n",
       "    </tr>\n",
       "  </tbody>\n",
       "</table>\n",
       "</div>"
      ],
      "text/plain": [
       "   dataset_size_num  dataset_size   pyspark   sklearn\n",
       "0                 1         22544  4.872275  0.006059\n",
       "1                 2         33744  1.757722  0.004870\n",
       "2                 3         44944  2.248352  0.003585\n",
       "3                 4         56144  1.565294  0.008626"
      ]
     },
     "execution_count": 18,
     "metadata": {},
     "output_type": "execute_result"
    }
   ],
   "source": [
    "df"
   ]
  },
  {
   "cell_type": "code",
   "execution_count": null,
   "id": "5513cdbc",
   "metadata": {},
   "outputs": [],
   "source": []
  },
  {
   "cell_type": "code",
   "execution_count": null,
   "id": "2b1c388d",
   "metadata": {},
   "outputs": [],
   "source": []
  }
 ],
 "metadata": {
  "kernelspec": {
   "display_name": "Python 3 (ipykernel)",
   "language": "python",
   "name": "python3"
  },
  "language_info": {
   "codemirror_mode": {
    "name": "ipython",
    "version": 3
   },
   "file_extension": ".py",
   "mimetype": "text/x-python",
   "name": "python",
   "nbconvert_exporter": "python",
   "pygments_lexer": "ipython3",
   "version": "3.9.12"
  }
 },
 "nbformat": 4,
 "nbformat_minor": 5
}

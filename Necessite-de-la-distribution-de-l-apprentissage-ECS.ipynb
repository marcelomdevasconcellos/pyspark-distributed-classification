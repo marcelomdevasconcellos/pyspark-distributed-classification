{
 "cells": [
  {
   "cell_type": "code",
   "execution_count": 1,
   "metadata": {},
   "outputs": [],
   "source": [
    "import pandas as pd\n",
    "from spark_session import LocalSparkSession\n",
    "from dataset import Dataset\n",
    "from mr_id3 import MapReduceIDR3\n",
    "from pyspark.mllib.tree import DecisionTree"
   ]
  },
  {
   "cell_type": "code",
   "execution_count": 2,
   "metadata": {},
   "outputs": [],
   "source": [
    "from log import log\n",
    "from sklearn.impute import SimpleImputer\n",
    "from pyspark.sql.functions import lit\n",
    "from pyspark.sql.functions import col, sum\n",
    "from pyspark.sql.functions import udf, col\n",
    "from pyspark.sql.types import IntegerType\n",
    "from pyspark.sql import SparkSession\n",
    "from pyspark import SparkContext\n",
    "from pyspark.mllib.tree import DecisionTree, DecisionTreeModel\n",
    "from pyspark.mllib.util import MLUtils\n",
    "from pyspark.mllib.regression import LabeledPoint\n",
    "from pyspark.sql.types import StructType, StructField, IntegerType, StringType, LongType\n",
    "from pyspark.ml.feature import StringIndexer\n",
    "from pyspark.ml.feature import VectorAssembler"
   ]
  },
  {
   "cell_type": "code",
   "execution_count": 3,
   "metadata": {},
   "outputs": [
    {
     "name": "stdout",
     "output_type": "stream",
     "text": [
      "CPU times: user 3 µs, sys: 1 µs, total: 4 µs\n",
      "Wall time: 6.91 µs\n"
     ]
    }
   ],
   "source": [
    "%time\n",
    "num_fields = [\n",
    "    'age', 'fnlwgt', 'education_num', 'capital_gain', 'capital_loss',\n",
    "    'hours_per_week', ]\n",
    "\n",
    "categorical_fields = [\n",
    "    'workclass', 'education',\n",
    "    'marital_status', 'occupation', 'relationship',\n",
    "    'race', 'sex', 'native_country', ]"
   ]
  },
  {
   "cell_type": "code",
   "execution_count": 4,
   "metadata": {},
   "outputs": [
    {
     "name": "stdout",
     "output_type": "stream",
     "text": [
      "CPU times: user 2 µs, sys: 1e+03 ns, total: 3 µs\n",
      "Wall time: 6.91 µs\n"
     ]
    }
   ],
   "source": [
    "%time\n",
    "target = 'label'\n",
    "filename = 'dataset/adult.data'"
   ]
  },
  {
   "cell_type": "code",
   "execution_count": 5,
   "metadata": {},
   "outputs": [
    {
     "name": "stdout",
     "output_type": "stream",
     "text": [
      "CPU times: user 3 µs, sys: 1 µs, total: 4 µs\n",
      "Wall time: 6.91 µs\n"
     ]
    }
   ],
   "source": [
    "%time\n",
    "numbers_of_cores = list(range(1, 5))\n",
    "dataset_sizes = [20, ]\n",
    "metrics = []"
   ]
  },
  {
   "cell_type": "code",
   "execution_count": 6,
   "metadata": {
    "scrolled": false
   },
   "outputs": [
    {
     "name": "stderr",
     "output_type": "stream",
     "text": [
      "2022-10-15 19:27:24,638 [INFO] LocalSparkSession : Starting with 1 clusters\n"
     ]
    },
    {
     "name": "stdout",
     "output_type": "stream",
     "text": [
      "CPU times: user 3 µs, sys: 1 µs, total: 4 µs\n",
      "Wall time: 6.91 µs\n"
     ]
    },
    {
     "name": "stderr",
     "output_type": "stream",
     "text": [
      "Setting default log level to \"WARN\".\n",
      "To adjust logging level use sc.setLogLevel(newLevel). For SparkR, use setLogLevel(newLevel).\n"
     ]
    },
    {
     "name": "stdout",
     "output_type": "stream",
     "text": [
      "22/10/15 19:27:27 WARN NativeCodeLoader: Unable to load native-hadoop library for your platform... using builtin-java classes where applicable\n"
     ]
    },
    {
     "name": "stderr",
     "output_type": "stream",
     "text": [
      "2022-10-15 19:27:28,970 [INFO] Dataset : Starting\n",
      "2022-10-15 19:27:28,972 [INFO] Dataset : Loading Dataset dataset/adult.data\n",
      "2022-10-15 19:27:32,427 [INFO] Dataset : One Hot Encode Categorical Fields\n",
      "2022-10-15 19:27:40,991 [INFO] Dataset : Multiplying Dataset by 20x             \n",
      "2022-10-15 19:27:43,008 [INFO] MapReduceIDR3 : Starting\n",
      "2022-10-15 19:27:43,009 [INFO] MapReduceIDR3 : Setting Labeled Point\n",
      "2022-10-15 19:27:46,295 [INFO] MapReduceIDR3 : Splitting\n",
      "2022-10-15 19:27:46,296 [INFO] MapReduceIDR3 : Training\n",
      "2022-10-15 19:28:03,381 [INFO] MapReduceIDR3 : Training time 17.083935 seconds  \n",
      "2022-10-15 19:28:03,383 [INFO] MapReduceIDR3 : Get metrics\n",
      "2022-10-15 19:28:05,478 [INFO] Metrics: Clusters 1 - Dataset size 20x - Time 17.083935 seconds\n",
      "2022-10-15 19:28:05,488 [INFO] LocalSparkSession : Stopping\n",
      "2022-10-15 19:28:06,210 [INFO] LocalSparkSession : Starting with 2 clusters\n",
      "2022-10-15 19:28:06,361 [INFO] Dataset : Starting\n",
      "2022-10-15 19:28:06,363 [INFO] Dataset : Loading Dataset dataset/adult.data\n",
      "2022-10-15 19:28:06,435 [INFO] Dataset : One Hot Encode Categorical Fields\n",
      "2022-10-15 19:28:11,644 [INFO] Dataset : Multiplying Dataset by 20x             \n",
      "2022-10-15 19:28:13,464 [INFO] MapReduceIDR3 : Starting\n",
      "2022-10-15 19:28:13,466 [INFO] MapReduceIDR3 : Setting Labeled Point\n",
      "2022-10-15 19:28:15,400 [INFO] MapReduceIDR3 : Splitting\n",
      "2022-10-15 19:28:15,401 [INFO] MapReduceIDR3 : Training\n",
      "2022-10-15 19:28:25,130 [INFO] MapReduceIDR3 : Training time 9.726498 seconds   \n",
      "2022-10-15 19:28:25,131 [INFO] MapReduceIDR3 : Get metrics\n",
      "2022-10-15 19:28:26,534 [INFO] Metrics: Clusters 2 - Dataset size 20x - Time 9.726498 seconds\n",
      "2022-10-15 19:28:26,535 [INFO] LocalSparkSession : Stopping\n",
      "2022-10-15 19:28:27,032 [INFO] LocalSparkSession : Starting with 3 clusters\n",
      "2022-10-15 19:28:27,150 [INFO] Dataset : Starting\n",
      "2022-10-15 19:28:27,152 [INFO] Dataset : Loading Dataset dataset/adult.data\n",
      "2022-10-15 19:28:27,212 [INFO] Dataset : One Hot Encode Categorical Fields\n",
      "2022-10-15 19:28:31,975 [INFO] Dataset : Multiplying Dataset by 20x\n",
      "2022-10-15 19:28:33,692 [INFO] MapReduceIDR3 : Starting\n",
      "2022-10-15 19:28:33,693 [INFO] MapReduceIDR3 : Setting Labeled Point\n",
      "2022-10-15 19:28:34,928 [INFO] MapReduceIDR3 : Splitting\n",
      "2022-10-15 19:28:34,929 [INFO] MapReduceIDR3 : Training\n",
      "2022-10-15 19:28:42,709 [INFO] MapReduceIDR3 : Training time 7.778296 seconds   \n",
      "2022-10-15 19:28:42,710 [INFO] MapReduceIDR3 : Get metrics\n",
      "2022-10-15 19:28:43,852 [INFO] Metrics: Clusters 3 - Dataset size 20x - Time 7.778296 seconds\n",
      "2022-10-15 19:28:43,853 [INFO] LocalSparkSession : Stopping\n",
      "2022-10-15 19:28:44,652 [INFO] LocalSparkSession : Starting with 4 clusters\n",
      "2022-10-15 19:28:44,755 [INFO] Dataset : Starting\n",
      "2022-10-15 19:28:44,756 [INFO] Dataset : Loading Dataset dataset/adult.data\n",
      "2022-10-15 19:28:44,814 [INFO] Dataset : One Hot Encode Categorical Fields\n",
      "2022-10-15 19:28:49,334 [INFO] Dataset : Multiplying Dataset by 20x             \n",
      "2022-10-15 19:28:50,924 [INFO] MapReduceIDR3 : Starting\n",
      "2022-10-15 19:28:50,927 [INFO] MapReduceIDR3 : Setting Labeled Point\n",
      "2022-10-15 19:28:52,424 [INFO] MapReduceIDR3 : Splitting\n",
      "2022-10-15 19:28:52,425 [INFO] MapReduceIDR3 : Training\n",
      "2022-10-15 19:29:00,486 [INFO] MapReduceIDR3 : Training time 8.05999 seconds    \n",
      "2022-10-15 19:29:00,489 [INFO] MapReduceIDR3 : Get metrics\n",
      "2022-10-15 19:29:01,601 [INFO] Metrics: Clusters 4 - Dataset size 20x - Time 8.05999 seconds\n",
      "2022-10-15 19:29:01,604 [INFO] LocalSparkSession : Stopping\n"
     ]
    }
   ],
   "source": [
    "%time\n",
    "for number_of_cores in numbers_of_cores:\n",
    "\n",
    "    spark = LocalSparkSession(number_of_cores)\n",
    "    spark.start()\n",
    "\n",
    "    dataset = Dataset(spark.spark, filename, num_fields, categorical_fields, target)\n",
    "    dataset.load()\n",
    "    dataset.one_hot_encode_categorical_fields()\n",
    "\n",
    "    for dataset_size in dataset_sizes:\n",
    "        df = dataset.multiply_dataset(dataset_size)\n",
    "\n",
    "        mr_id3 = MapReduceIDR3(df)\n",
    "        mr_id3.set_labeled_point()\n",
    "        mr_id3.split()\n",
    "        mr_id3.train()\n",
    "\n",
    "        metric = mr_id3.get_metrics()\n",
    "        metric['length_rows'] = df.count()\n",
    "        metric['dataset_size'] = dataset_size\n",
    "        metric['number_of_cores'] = number_of_cores\n",
    "        metrics.append(metric)\n",
    "        log(f\"Metrics: Clusters {metric['number_of_cores']} - Dataset size {metric['dataset_size']}x - Time {metric['time']} seconds\")\n",
    "\n",
    "    spark.stop()"
   ]
  },
  {
   "cell_type": "code",
   "execution_count": 7,
   "metadata": {},
   "outputs": [
    {
     "name": "stdout",
     "output_type": "stream",
     "text": [
      "CPU times: user 2 µs, sys: 1e+03 ns, total: 3 µs\n",
      "Wall time: 6.91 µs\n"
     ]
    }
   ],
   "source": [
    "%time\n",
    "df = pd.DataFrame.from_dict(metrics)"
   ]
  },
  {
   "cell_type": "code",
   "execution_count": 8,
   "metadata": {},
   "outputs": [
    {
     "name": "stdout",
     "output_type": "stream",
     "text": [
      "CPU times: user 2 µs, sys: 1e+03 ns, total: 3 µs\n",
      "Wall time: 6.91 µs\n"
     ]
    },
    {
     "data": {
      "text/plain": [
       "<AxesSubplot: >"
      ]
     },
     "execution_count": 8,
     "metadata": {},
     "output_type": "execute_result"
    },
    {
     "data": {
      "image/png": "[encoded data removed]",
      "text/plain": [
       "<Figure size 640x480 with 1 Axes>"
      ]
     },
     "metadata": {},
     "output_type": "display_data"
    }
   ],
   "source": [
    "%time\n",
    "df[['number_of_cores', 'time']].plot()"
   ]
  },
  {
   "cell_type": "code",
   "execution_count": 9,
   "metadata": {},
   "outputs": [
    {
     "data": {
      "text/html": [
       "<div>\n",
       "<style scoped>\n",
       "    .dataframe tbody tr th:only-of-type {\n",
       "        vertical-align: middle;\n",
       "    }\n",
       "\n",
       "    .dataframe tbody tr th {\n",
       "        vertical-align: top;\n",
       "    }\n",
       "\n",
       "    .dataframe thead th {\n",
       "        text-align: right;\n",
       "    }\n",
       "</style>\n",
       "<table border=\"1\" class=\"dataframe\">\n",
       "  <thead>\n",
       "    <tr style=\"text-align: right;\">\n",
       "      <th></th>\n",
       "      <th>time</th>\n",
       "      <th>length_rows</th>\n",
       "      <th>dataset_size</th>\n",
       "      <th>number_of_cores</th>\n",
       "    </tr>\n",
       "  </thead>\n",
       "  <tbody>\n",
       "    <tr>\n",
       "      <th>0</th>\n",
       "      <td>17.083935</td>\n",
       "      <td>8400</td>\n",
       "      <td>20</td>\n",
       "      <td>1</td>\n",
       "    </tr>\n",
       "    <tr>\n",
       "      <th>1</th>\n",
       "      <td>9.726498</td>\n",
       "      <td>8400</td>\n",
       "      <td>20</td>\n",
       "      <td>2</td>\n",
       "    </tr>\n",
       "    <tr>\n",
       "      <th>2</th>\n",
       "      <td>7.778296</td>\n",
       "      <td>8400</td>\n",
       "      <td>20</td>\n",
       "      <td>3</td>\n",
       "    </tr>\n",
       "    <tr>\n",
       "      <th>3</th>\n",
       "      <td>8.059990</td>\n",
       "      <td>8400</td>\n",
       "      <td>20</td>\n",
       "      <td>4</td>\n",
       "    </tr>\n",
       "  </tbody>\n",
       "</table>\n",
       "</div>"
      ],
      "text/plain": [
       "        time  length_rows  dataset_size  number_of_cores\n",
       "0  17.083935         8400            20                1\n",
       "1   9.726498         8400            20                2\n",
       "2   7.778296         8400            20                3\n",
       "3   8.059990         8400            20                4"
      ]
     },
     "execution_count": 9,
     "metadata": {},
     "output_type": "execute_result"
    }
   ],
   "source": [
    "df"
   ]
  }
 ],
 "metadata": {
  "kernelspec": {
   "display_name": "Python 3 (ipykernel)",
   "language": "python",
   "name": "python3"
  },
  "language_info": {
   "codemirror_mode": {
    "name": "ipython",
    "version": 3
   },
   "file_extension": ".py",
   "mimetype": "text/x-python",
   "name": "python",
   "nbconvert_exporter": "python",
   "pygments_lexer": "ipython3",
   "version": "3.8.10"
  }
 },
 "nbformat": 4,
 "nbformat_minor": 1
}

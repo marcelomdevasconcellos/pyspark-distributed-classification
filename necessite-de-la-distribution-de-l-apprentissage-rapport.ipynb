{
 "cells": [
  {
   "cell_type": "code",
   "execution_count": 23,
   "id": "da790589",
   "metadata": {},
   "outputs": [],
   "source": [
    "import pandas as pd"
   ]
  },
  {
   "cell_type": "code",
   "execution_count": 24,
   "id": "e2544abb",
   "metadata": {},
   "outputs": [],
   "source": [
    "df = pd.read_csv('results/CLOUD_DATASIZE_1000.csv')"
   ]
  },
  {
   "cell_type": "code",
   "execution_count": 25,
   "id": "e279ab9b",
   "metadata": {},
   "outputs": [
    {
     "data": {
      "text/html": [
       "<div>\n",
       "<style scoped>\n",
       "    .dataframe tbody tr th:only-of-type {\n",
       "        vertical-align: middle;\n",
       "    }\n",
       "\n",
       "    .dataframe tbody tr th {\n",
       "        vertical-align: top;\n",
       "    }\n",
       "\n",
       "    .dataframe thead th {\n",
       "        text-align: right;\n",
       "    }\n",
       "</style>\n",
       "<table border=\"1\" class=\"dataframe\">\n",
       "  <thead>\n",
       "    <tr style=\"text-align: right;\">\n",
       "      <th></th>\n",
       "      <th>Unnamed: 0</th>\n",
       "      <th>time</th>\n",
       "      <th>dataset_rows</th>\n",
       "      <th>dataset_size_num</th>\n",
       "      <th>dataset_size</th>\n",
       "      <th>number_of_cores</th>\n",
       "    </tr>\n",
       "  </thead>\n",
       "  <tbody>\n",
       "    <tr>\n",
       "      <th>0</th>\n",
       "      <td>0</td>\n",
       "      <td>128.155302</td>\n",
       "      <td>32561000</td>\n",
       "      <td>1000</td>\n",
       "      <td>3606430033</td>\n",
       "      <td>4</td>\n",
       "    </tr>\n",
       "    <tr>\n",
       "      <th>1</th>\n",
       "      <td>1</td>\n",
       "      <td>79.853277</td>\n",
       "      <td>32561000</td>\n",
       "      <td>1000</td>\n",
       "      <td>3606430033</td>\n",
       "      <td>8</td>\n",
       "    </tr>\n",
       "    <tr>\n",
       "      <th>2</th>\n",
       "      <td>2</td>\n",
       "      <td>68.489299</td>\n",
       "      <td>32561000</td>\n",
       "      <td>1000</td>\n",
       "      <td>3606430033</td>\n",
       "      <td>12</td>\n",
       "    </tr>\n",
       "    <tr>\n",
       "      <th>3</th>\n",
       "      <td>3</td>\n",
       "      <td>62.441931</td>\n",
       "      <td>32561000</td>\n",
       "      <td>1000</td>\n",
       "      <td>3606430033</td>\n",
       "      <td>16</td>\n",
       "    </tr>\n",
       "    <tr>\n",
       "      <th>4</th>\n",
       "      <td>4</td>\n",
       "      <td>65.484197</td>\n",
       "      <td>32561000</td>\n",
       "      <td>1000</td>\n",
       "      <td>3606430033</td>\n",
       "      <td>20</td>\n",
       "    </tr>\n",
       "    <tr>\n",
       "      <th>5</th>\n",
       "      <td>5</td>\n",
       "      <td>65.901764</td>\n",
       "      <td>32561000</td>\n",
       "      <td>1000</td>\n",
       "      <td>3606430033</td>\n",
       "      <td>24</td>\n",
       "    </tr>\n",
       "    <tr>\n",
       "      <th>6</th>\n",
       "      <td>6</td>\n",
       "      <td>67.829139</td>\n",
       "      <td>32561000</td>\n",
       "      <td>1000</td>\n",
       "      <td>3606430033</td>\n",
       "      <td>28</td>\n",
       "    </tr>\n",
       "    <tr>\n",
       "      <th>7</th>\n",
       "      <td>7</td>\n",
       "      <td>63.900804</td>\n",
       "      <td>32561000</td>\n",
       "      <td>1000</td>\n",
       "      <td>3606430033</td>\n",
       "      <td>32</td>\n",
       "    </tr>\n",
       "  </tbody>\n",
       "</table>\n",
       "</div>"
      ],
      "text/plain": [
       "   Unnamed: 0        time  dataset_rows  dataset_size_num  dataset_size  \\\n",
       "0           0  128.155302      32561000              1000    3606430033   \n",
       "1           1   79.853277      32561000              1000    3606430033   \n",
       "2           2   68.489299      32561000              1000    3606430033   \n",
       "3           3   62.441931      32561000              1000    3606430033   \n",
       "4           4   65.484197      32561000              1000    3606430033   \n",
       "5           5   65.901764      32561000              1000    3606430033   \n",
       "6           6   67.829139      32561000              1000    3606430033   \n",
       "7           7   63.900804      32561000              1000    3606430033   \n",
       "\n",
       "   number_of_cores  \n",
       "0                4  \n",
       "1                8  \n",
       "2               12  \n",
       "3               16  \n",
       "4               20  \n",
       "5               24  \n",
       "6               28  \n",
       "7               32  "
      ]
     },
     "execution_count": 25,
     "metadata": {},
     "output_type": "execute_result"
    }
   ],
   "source": [
    "df"
   ]
  },
  {
   "cell_type": "code",
   "execution_count": 26,
   "id": "6afce30b",
   "metadata": {},
   "outputs": [],
   "source": [
    "df = df.round(2)"
   ]
  },
  {
   "cell_type": "code",
   "execution_count": 27,
   "id": "faa07e3b",
   "metadata": {},
   "outputs": [
    {
     "data": {
      "text/plain": [
       "<AxesSubplot:title={'center':'Training time by number of cores'}, xlabel='Number of cores', ylabel='Training time (s)'>"
      ]
     },
     "execution_count": 27,
     "metadata": {},
     "output_type": "execute_result"
    },
    {
     "data": {
      "image/png": "[encoded data removed]",
      "text/plain": [
       "<Figure size 1080x720 with 1 Axes>"
      ]
     },
     "metadata": {
      "needs_background": "light"
     },
     "output_type": "display_data"
    }
   ],
   "source": [
    "dftemp = df[['number_of_cores', 'time', ]]\n",
    "dftemp.columns=['Number of cores', 'Training time']\n",
    "dftemp.plot.line(\n",
    "    x='Number of cores', \n",
    "    xlabel=\"Number of cores\",\n",
    "    ylabel=\"Training time (s)\",\n",
    "    rot=0, \n",
    "    title='Training time by number of cores', \n",
    "    figsize=(15,10), \n",
    "    fontsize=12)"
   ]
  },
  {
   "cell_type": "code",
   "execution_count": null,
   "id": "0b01ef8b",
   "metadata": {},
   "outputs": [],
   "source": [
    "dftemp"
   ]
  },
  {
   "cell_type": "code",
   "execution_count": null,
   "id": "891ea338",
   "metadata": {},
   "outputs": [],
   "source": []
  }
 ],
 "metadata": {
  "kernelspec": {
   "display_name": "Python 3 (ipykernel)",
   "language": "python",
   "name": "python3"
  },
  "language_info": {
   "codemirror_mode": {
    "name": "ipython",
    "version": 3
   },
   "file_extension": ".py",
   "mimetype": "text/x-python",
   "name": "python",
   "nbconvert_exporter": "python",
   "pygments_lexer": "ipython3",
   "version": "3.9.12"
  }
 },
 "nbformat": 4,
 "nbformat_minor": 5
}

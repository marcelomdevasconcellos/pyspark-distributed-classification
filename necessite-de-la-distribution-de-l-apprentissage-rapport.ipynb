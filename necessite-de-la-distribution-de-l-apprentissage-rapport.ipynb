{
 "cells": [
  {
   "cell_type": "markdown",
   "id": "89f41cef",
   "metadata": {},
   "source": [
    "# Nécessité de la distribution de l’apprentissage dans le cas du BigData\n",
    "\n",
    "## CLOUD"
   ]
  },
  {
   "cell_type": "code",
   "execution_count": 1,
   "id": "da790589",
   "metadata": {},
   "outputs": [],
   "source": [
    "import pandas as pd"
   ]
  },
  {
   "cell_type": "code",
   "execution_count": 2,
   "id": "e2544abb",
   "metadata": {},
   "outputs": [
    {
     "data": {
      "text/html": [
       "<div>\n",
       "<style scoped>\n",
       "    .dataframe tbody tr th:only-of-type {\n",
       "        vertical-align: middle;\n",
       "    }\n",
       "\n",
       "    .dataframe tbody tr th {\n",
       "        vertical-align: top;\n",
       "    }\n",
       "\n",
       "    .dataframe thead th {\n",
       "        text-align: right;\n",
       "    }\n",
       "</style>\n",
       "<table border=\"1\" class=\"dataframe\">\n",
       "  <thead>\n",
       "    <tr style=\"text-align: right;\">\n",
       "      <th></th>\n",
       "      <th>Unnamed: 0</th>\n",
       "      <th>time</th>\n",
       "      <th>dataset_rows</th>\n",
       "      <th>dataset_size_num</th>\n",
       "      <th>dataset_size</th>\n",
       "      <th>number_of_cores</th>\n",
       "    </tr>\n",
       "  </thead>\n",
       "  <tbody>\n",
       "    <tr>\n",
       "      <th>0</th>\n",
       "      <td>0</td>\n",
       "      <td>128.16</td>\n",
       "      <td>32561000</td>\n",
       "      <td>1000</td>\n",
       "      <td>36.06</td>\n",
       "      <td>4</td>\n",
       "    </tr>\n",
       "    <tr>\n",
       "      <th>1</th>\n",
       "      <td>1</td>\n",
       "      <td>79.85</td>\n",
       "      <td>32561000</td>\n",
       "      <td>1000</td>\n",
       "      <td>36.06</td>\n",
       "      <td>8</td>\n",
       "    </tr>\n",
       "    <tr>\n",
       "      <th>2</th>\n",
       "      <td>2</td>\n",
       "      <td>68.49</td>\n",
       "      <td>32561000</td>\n",
       "      <td>1000</td>\n",
       "      <td>36.06</td>\n",
       "      <td>12</td>\n",
       "    </tr>\n",
       "    <tr>\n",
       "      <th>3</th>\n",
       "      <td>3</td>\n",
       "      <td>62.44</td>\n",
       "      <td>32561000</td>\n",
       "      <td>1000</td>\n",
       "      <td>36.06</td>\n",
       "      <td>16</td>\n",
       "    </tr>\n",
       "    <tr>\n",
       "      <th>4</th>\n",
       "      <td>4</td>\n",
       "      <td>65.48</td>\n",
       "      <td>32561000</td>\n",
       "      <td>1000</td>\n",
       "      <td>36.06</td>\n",
       "      <td>20</td>\n",
       "    </tr>\n",
       "    <tr>\n",
       "      <th>5</th>\n",
       "      <td>5</td>\n",
       "      <td>65.90</td>\n",
       "      <td>32561000</td>\n",
       "      <td>1000</td>\n",
       "      <td>36.06</td>\n",
       "      <td>24</td>\n",
       "    </tr>\n",
       "    <tr>\n",
       "      <th>6</th>\n",
       "      <td>6</td>\n",
       "      <td>67.83</td>\n",
       "      <td>32561000</td>\n",
       "      <td>1000</td>\n",
       "      <td>36.06</td>\n",
       "      <td>28</td>\n",
       "    </tr>\n",
       "    <tr>\n",
       "      <th>7</th>\n",
       "      <td>7</td>\n",
       "      <td>63.90</td>\n",
       "      <td>32561000</td>\n",
       "      <td>1000</td>\n",
       "      <td>36.06</td>\n",
       "      <td>32</td>\n",
       "    </tr>\n",
       "  </tbody>\n",
       "</table>\n",
       "</div>"
      ],
      "text/plain": [
       "   Unnamed: 0    time  dataset_rows  dataset_size_num  dataset_size  \\\n",
       "0           0  128.16      32561000              1000         36.06   \n",
       "1           1   79.85      32561000              1000         36.06   \n",
       "2           2   68.49      32561000              1000         36.06   \n",
       "3           3   62.44      32561000              1000         36.06   \n",
       "4           4   65.48      32561000              1000         36.06   \n",
       "5           5   65.90      32561000              1000         36.06   \n",
       "6           6   67.83      32561000              1000         36.06   \n",
       "7           7   63.90      32561000              1000         36.06   \n",
       "\n",
       "   number_of_cores  \n",
       "0                4  \n",
       "1                8  \n",
       "2               12  \n",
       "3               16  \n",
       "4               20  \n",
       "5               24  \n",
       "6               28  \n",
       "7               32  "
      ]
     },
     "execution_count": 2,
     "metadata": {},
     "output_type": "execute_result"
    }
   ],
   "source": [
    "df = pd.read_csv('results/Necessite-de-la-distribution-de-l-apprentissage_CLOUD_1000x.csv')\n",
    "df['dataset_size'] = df['dataset_size']/100000000\n",
    "df = df.round(2)\n",
    "df"
   ]
  },
  {
   "cell_type": "code",
   "execution_count": 3,
   "id": "faa07e3b",
   "metadata": {},
   "outputs": [
    {
     "data": {
      "text/plain": [
       "<AxesSubplot:title={'center':'Training time by number of cores'}, xlabel='Number of cores', ylabel='Training time (s)'>"
      ]
     },
     "execution_count": 3,
     "metadata": {},
     "output_type": "execute_result"
    },
    {
     "data": {
      "image/png": "[encoded data removed]",
      "text/plain": [
       "<Figure size 1080x720 with 1 Axes>"
      ]
     },
     "metadata": {
      "needs_background": "light"
     },
     "output_type": "display_data"
    }
   ],
   "source": [
    "dftemp = df[['number_of_cores', 'time', ]]\n",
    "dftemp.columns=['Number of cores', 'Training time (s)']\n",
    "dftemp.plot.line(\n",
    "    x='Number of cores', \n",
    "    xlabel=\"Number of cores\",\n",
    "    ylabel=\"Training time (s)\",\n",
    "    rot=0, \n",
    "    title='Training time by number of cores', \n",
    "    figsize=(15,10), \n",
    "    fontsize=12)"
   ]
  },
  {
   "cell_type": "code",
   "execution_count": 4,
   "id": "0b01ef8b",
   "metadata": {},
   "outputs": [
    {
     "data": {
      "text/html": [
       "<div>\n",
       "<style scoped>\n",
       "    .dataframe tbody tr th:only-of-type {\n",
       "        vertical-align: middle;\n",
       "    }\n",
       "\n",
       "    .dataframe tbody tr th {\n",
       "        vertical-align: top;\n",
       "    }\n",
       "\n",
       "    .dataframe thead th {\n",
       "        text-align: right;\n",
       "    }\n",
       "</style>\n",
       "<table border=\"1\" class=\"dataframe\">\n",
       "  <thead>\n",
       "    <tr style=\"text-align: right;\">\n",
       "      <th></th>\n",
       "      <th>Number of cores</th>\n",
       "      <th>Dataset Size (GB)</th>\n",
       "      <th>Training time (s)</th>\n",
       "    </tr>\n",
       "  </thead>\n",
       "  <tbody>\n",
       "    <tr>\n",
       "      <th>0</th>\n",
       "      <td>4</td>\n",
       "      <td>36.06</td>\n",
       "      <td>128.16</td>\n",
       "    </tr>\n",
       "    <tr>\n",
       "      <th>1</th>\n",
       "      <td>8</td>\n",
       "      <td>36.06</td>\n",
       "      <td>79.85</td>\n",
       "    </tr>\n",
       "    <tr>\n",
       "      <th>2</th>\n",
       "      <td>12</td>\n",
       "      <td>36.06</td>\n",
       "      <td>68.49</td>\n",
       "    </tr>\n",
       "    <tr>\n",
       "      <th>3</th>\n",
       "      <td>16</td>\n",
       "      <td>36.06</td>\n",
       "      <td>62.44</td>\n",
       "    </tr>\n",
       "    <tr>\n",
       "      <th>4</th>\n",
       "      <td>20</td>\n",
       "      <td>36.06</td>\n",
       "      <td>65.48</td>\n",
       "    </tr>\n",
       "    <tr>\n",
       "      <th>5</th>\n",
       "      <td>24</td>\n",
       "      <td>36.06</td>\n",
       "      <td>65.90</td>\n",
       "    </tr>\n",
       "    <tr>\n",
       "      <th>6</th>\n",
       "      <td>28</td>\n",
       "      <td>36.06</td>\n",
       "      <td>67.83</td>\n",
       "    </tr>\n",
       "    <tr>\n",
       "      <th>7</th>\n",
       "      <td>32</td>\n",
       "      <td>36.06</td>\n",
       "      <td>63.90</td>\n",
       "    </tr>\n",
       "  </tbody>\n",
       "</table>\n",
       "</div>"
      ],
      "text/plain": [
       "   Number of cores  Dataset Size (GB)  Training time (s)\n",
       "0                4              36.06             128.16\n",
       "1                8              36.06              79.85\n",
       "2               12              36.06              68.49\n",
       "3               16              36.06              62.44\n",
       "4               20              36.06              65.48\n",
       "5               24              36.06              65.90\n",
       "6               28              36.06              67.83\n",
       "7               32              36.06              63.90"
      ]
     },
     "execution_count": 4,
     "metadata": {},
     "output_type": "execute_result"
    }
   ],
   "source": [
    "dftemp = df[['number_of_cores', 'dataset_size', 'time', ]]\n",
    "dftemp.columns=['Number of cores', 'Dataset Size (GB)', 'Training time (s)']\n",
    "dftemp"
   ]
  },
  {
   "cell_type": "markdown",
   "id": "509a4845",
   "metadata": {},
   "source": [
    "## LOCAL "
   ]
  },
  {
   "cell_type": "code",
   "execution_count": 5,
   "id": "08334175",
   "metadata": {},
   "outputs": [
    {
     "data": {
      "text/html": [
       "<div>\n",
       "<style scoped>\n",
       "    .dataframe tbody tr th:only-of-type {\n",
       "        vertical-align: middle;\n",
       "    }\n",
       "\n",
       "    .dataframe tbody tr th {\n",
       "        vertical-align: top;\n",
       "    }\n",
       "\n",
       "    .dataframe thead th {\n",
       "        text-align: right;\n",
       "    }\n",
       "</style>\n",
       "<table border=\"1\" class=\"dataframe\">\n",
       "  <thead>\n",
       "    <tr style=\"text-align: right;\">\n",
       "      <th></th>\n",
       "      <th>Unnamed: 0</th>\n",
       "      <th>train_time</th>\n",
       "      <th>predict_time</th>\n",
       "      <th>time</th>\n",
       "      <th>dataset_rows</th>\n",
       "      <th>dataset_size_num</th>\n",
       "      <th>dataset_size</th>\n",
       "      <th>number_of_cores</th>\n",
       "    </tr>\n",
       "  </thead>\n",
       "  <tbody>\n",
       "    <tr>\n",
       "      <th>0</th>\n",
       "      <td>0</td>\n",
       "      <td>71.49</td>\n",
       "      <td>0</td>\n",
       "      <td>71.49</td>\n",
       "      <td>3256100</td>\n",
       "      <td>100</td>\n",
       "      <td>3.61</td>\n",
       "      <td>1</td>\n",
       "    </tr>\n",
       "    <tr>\n",
       "      <th>1</th>\n",
       "      <td>1</td>\n",
       "      <td>49.52</td>\n",
       "      <td>0</td>\n",
       "      <td>49.52</td>\n",
       "      <td>3256100</td>\n",
       "      <td>100</td>\n",
       "      <td>3.61</td>\n",
       "      <td>2</td>\n",
       "    </tr>\n",
       "    <tr>\n",
       "      <th>2</th>\n",
       "      <td>2</td>\n",
       "      <td>49.09</td>\n",
       "      <td>0</td>\n",
       "      <td>49.09</td>\n",
       "      <td>3256100</td>\n",
       "      <td>100</td>\n",
       "      <td>3.61</td>\n",
       "      <td>3</td>\n",
       "    </tr>\n",
       "    <tr>\n",
       "      <th>3</th>\n",
       "      <td>3</td>\n",
       "      <td>39.95</td>\n",
       "      <td>0</td>\n",
       "      <td>39.95</td>\n",
       "      <td>3256100</td>\n",
       "      <td>100</td>\n",
       "      <td>3.61</td>\n",
       "      <td>4</td>\n",
       "    </tr>\n",
       "  </tbody>\n",
       "</table>\n",
       "</div>"
      ],
      "text/plain": [
       "   Unnamed: 0  train_time  predict_time   time  dataset_rows  \\\n",
       "0           0       71.49             0  71.49       3256100   \n",
       "1           1       49.52             0  49.52       3256100   \n",
       "2           2       49.09             0  49.09       3256100   \n",
       "3           3       39.95             0  39.95       3256100   \n",
       "\n",
       "   dataset_size_num  dataset_size  number_of_cores  \n",
       "0               100          3.61                1  \n",
       "1               100          3.61                2  \n",
       "2               100          3.61                3  \n",
       "3               100          3.61                4  "
      ]
     },
     "execution_count": 5,
     "metadata": {},
     "output_type": "execute_result"
    }
   ],
   "source": [
    "df = pd.read_csv('results/Necessite-de-la-distribution-de-l-apprentissage_LOCAL_100x.csv')\n",
    "df['dataset_size'] = df['dataset_size']/100000000\n",
    "df = df.round(2)\n",
    "df"
   ]
  },
  {
   "cell_type": "code",
   "execution_count": 6,
   "id": "e9ba4c09",
   "metadata": {},
   "outputs": [
    {
     "data": {
      "text/plain": [
       "<AxesSubplot:title={'center':'Training time by number of cores'}, xlabel='Number of cores', ylabel='Training time (s)'>"
      ]
     },
     "execution_count": 6,
     "metadata": {},
     "output_type": "execute_result"
    },
    {
     "data": {
      "image/png": "[encoded data removed]",
      "text/plain": [
       "<Figure size 1080x720 with 1 Axes>"
      ]
     },
     "metadata": {
      "needs_background": "light"
     },
     "output_type": "display_data"
    }
   ],
   "source": [
    "dftemp = df[['number_of_cores', 'time', ]]\n",
    "dftemp.columns=['Number of cores', 'Training time (s)']\n",
    "dftemp.plot.line(\n",
    "    x='Number of cores', \n",
    "    xlabel=\"Number of cores\",\n",
    "    ylabel=\"Training time (s)\",\n",
    "    rot=0, \n",
    "    title='Training time by number of cores', \n",
    "    figsize=(15,10), \n",
    "    fontsize=12)"
   ]
  },
  {
   "cell_type": "code",
   "execution_count": 7,
   "id": "133c5cc5",
   "metadata": {},
   "outputs": [
    {
     "data": {
      "text/html": [
       "<div>\n",
       "<style scoped>\n",
       "    .dataframe tbody tr th:only-of-type {\n",
       "        vertical-align: middle;\n",
       "    }\n",
       "\n",
       "    .dataframe tbody tr th {\n",
       "        vertical-align: top;\n",
       "    }\n",
       "\n",
       "    .dataframe thead th {\n",
       "        text-align: right;\n",
       "    }\n",
       "</style>\n",
       "<table border=\"1\" class=\"dataframe\">\n",
       "  <thead>\n",
       "    <tr style=\"text-align: right;\">\n",
       "      <th></th>\n",
       "      <th>Number of cores</th>\n",
       "      <th>Dataset Size (GB)</th>\n",
       "      <th>Training time (s)</th>\n",
       "    </tr>\n",
       "  </thead>\n",
       "  <tbody>\n",
       "    <tr>\n",
       "      <th>0</th>\n",
       "      <td>1</td>\n",
       "      <td>3.61</td>\n",
       "      <td>71.49</td>\n",
       "    </tr>\n",
       "    <tr>\n",
       "      <th>1</th>\n",
       "      <td>2</td>\n",
       "      <td>3.61</td>\n",
       "      <td>49.52</td>\n",
       "    </tr>\n",
       "    <tr>\n",
       "      <th>2</th>\n",
       "      <td>3</td>\n",
       "      <td>3.61</td>\n",
       "      <td>49.09</td>\n",
       "    </tr>\n",
       "    <tr>\n",
       "      <th>3</th>\n",
       "      <td>4</td>\n",
       "      <td>3.61</td>\n",
       "      <td>39.95</td>\n",
       "    </tr>\n",
       "  </tbody>\n",
       "</table>\n",
       "</div>"
      ],
      "text/plain": [
       "   Number of cores  Dataset Size (GB)  Training time (s)\n",
       "0                1               3.61              71.49\n",
       "1                2               3.61              49.52\n",
       "2                3               3.61              49.09\n",
       "3                4               3.61              39.95"
      ]
     },
     "execution_count": 7,
     "metadata": {},
     "output_type": "execute_result"
    }
   ],
   "source": [
    "dftemp = df[['number_of_cores', 'dataset_size', 'time', ]]\n",
    "dftemp.columns=['Number of cores', 'Dataset Size (GB)', 'Training time (s)']\n",
    "dftemp"
   ]
  },
  {
   "cell_type": "markdown",
   "id": "7d2f2e25",
   "metadata": {},
   "source": [
    "## DOCKER "
   ]
  },
  {
   "cell_type": "code",
   "execution_count": 11,
   "id": "52a29a4e",
   "metadata": {},
   "outputs": [
    {
     "data": {
      "text/html": [
       "<div>\n",
       "<style scoped>\n",
       "    .dataframe tbody tr th:only-of-type {\n",
       "        vertical-align: middle;\n",
       "    }\n",
       "\n",
       "    .dataframe tbody tr th {\n",
       "        vertical-align: top;\n",
       "    }\n",
       "\n",
       "    .dataframe thead th {\n",
       "        text-align: right;\n",
       "    }\n",
       "</style>\n",
       "<table border=\"1\" class=\"dataframe\">\n",
       "  <thead>\n",
       "    <tr style=\"text-align: right;\">\n",
       "      <th></th>\n",
       "      <th>Unnamed: 0</th>\n",
       "      <th>train_time</th>\n",
       "      <th>predict_time</th>\n",
       "      <th>time</th>\n",
       "      <th>dataset_rows</th>\n",
       "      <th>dataset_size_num</th>\n",
       "      <th>dataset_size</th>\n",
       "      <th>number_of_cores</th>\n",
       "    </tr>\n",
       "  </thead>\n",
       "  <tbody>\n",
       "    <tr>\n",
       "      <th>0</th>\n",
       "      <td>0</td>\n",
       "      <td>53.99</td>\n",
       "      <td>0</td>\n",
       "      <td>53.99</td>\n",
       "      <td>3256100</td>\n",
       "      <td>100</td>\n",
       "      <td>3.61</td>\n",
       "      <td>1</td>\n",
       "    </tr>\n",
       "    <tr>\n",
       "      <th>1</th>\n",
       "      <td>1</td>\n",
       "      <td>37.06</td>\n",
       "      <td>0</td>\n",
       "      <td>37.06</td>\n",
       "      <td>3256100</td>\n",
       "      <td>100</td>\n",
       "      <td>3.61</td>\n",
       "      <td>2</td>\n",
       "    </tr>\n",
       "    <tr>\n",
       "      <th>2</th>\n",
       "      <td>2</td>\n",
       "      <td>36.61</td>\n",
       "      <td>0</td>\n",
       "      <td>36.61</td>\n",
       "      <td>3256100</td>\n",
       "      <td>100</td>\n",
       "      <td>3.61</td>\n",
       "      <td>3</td>\n",
       "    </tr>\n",
       "    <tr>\n",
       "      <th>3</th>\n",
       "      <td>3</td>\n",
       "      <td>31.51</td>\n",
       "      <td>0</td>\n",
       "      <td>31.51</td>\n",
       "      <td>3256100</td>\n",
       "      <td>100</td>\n",
       "      <td>3.61</td>\n",
       "      <td>4</td>\n",
       "    </tr>\n",
       "  </tbody>\n",
       "</table>\n",
       "</div>"
      ],
      "text/plain": [
       "   Unnamed: 0  train_time  predict_time   time  dataset_rows  \\\n",
       "0           0       53.99             0  53.99       3256100   \n",
       "1           1       37.06             0  37.06       3256100   \n",
       "2           2       36.61             0  36.61       3256100   \n",
       "3           3       31.51             0  31.51       3256100   \n",
       "\n",
       "   dataset_size_num  dataset_size  number_of_cores  \n",
       "0               100          3.61                1  \n",
       "1               100          3.61                2  \n",
       "2               100          3.61                3  \n",
       "3               100          3.61                4  "
      ]
     },
     "execution_count": 11,
     "metadata": {},
     "output_type": "execute_result"
    }
   ],
   "source": [
    "df = pd.read_csv('results/Necessite-de-la-distribution-de-l-apprentissage_DOCKER_100x.csv')\n",
    "df['dataset_size'] = df['dataset_size']/100000000\n",
    "df = df.round(2)\n",
    "df"
   ]
  },
  {
   "cell_type": "code",
   "execution_count": 12,
   "id": "349087df",
   "metadata": {},
   "outputs": [
    {
     "data": {
      "text/plain": [
       "<AxesSubplot:title={'center':'Training time by number of cores'}, xlabel='Number of cores', ylabel='Training time (s)'>"
      ]
     },
     "execution_count": 12,
     "metadata": {},
     "output_type": "execute_result"
    },
    {
     "data": {
      "image/png": "[encoded data removed]",
      "text/plain": [
       "<Figure size 1080x720 with 1 Axes>"
      ]
     },
     "metadata": {
      "needs_background": "light"
     },
     "output_type": "display_data"
    }
   ],
   "source": [
    "dftemp = df[['number_of_cores', 'time', ]]\n",
    "dftemp.columns=['Number of cores', 'Training time (s)']\n",
    "dftemp.plot.line(\n",
    "    x='Number of cores', \n",
    "    xlabel=\"Number of cores\",\n",
    "    ylabel=\"Training time (s)\",\n",
    "    rot=0, \n",
    "    title='Training time by number of cores', \n",
    "    figsize=(15,10), \n",
    "    fontsize=12)"
   ]
  },
  {
   "cell_type": "code",
   "execution_count": 13,
   "id": "b565096c",
   "metadata": {},
   "outputs": [
    {
     "data": {
      "text/html": [
       "<div>\n",
       "<style scoped>\n",
       "    .dataframe tbody tr th:only-of-type {\n",
       "        vertical-align: middle;\n",
       "    }\n",
       "\n",
       "    .dataframe tbody tr th {\n",
       "        vertical-align: top;\n",
       "    }\n",
       "\n",
       "    .dataframe thead th {\n",
       "        text-align: right;\n",
       "    }\n",
       "</style>\n",
       "<table border=\"1\" class=\"dataframe\">\n",
       "  <thead>\n",
       "    <tr style=\"text-align: right;\">\n",
       "      <th></th>\n",
       "      <th>Number of cores</th>\n",
       "      <th>Dataset Size (GB)</th>\n",
       "      <th>Training time (s)</th>\n",
       "    </tr>\n",
       "  </thead>\n",
       "  <tbody>\n",
       "    <tr>\n",
       "      <th>0</th>\n",
       "      <td>1</td>\n",
       "      <td>3.61</td>\n",
       "      <td>53.99</td>\n",
       "    </tr>\n",
       "    <tr>\n",
       "      <th>1</th>\n",
       "      <td>2</td>\n",
       "      <td>3.61</td>\n",
       "      <td>37.06</td>\n",
       "    </tr>\n",
       "    <tr>\n",
       "      <th>2</th>\n",
       "      <td>3</td>\n",
       "      <td>3.61</td>\n",
       "      <td>36.61</td>\n",
       "    </tr>\n",
       "    <tr>\n",
       "      <th>3</th>\n",
       "      <td>4</td>\n",
       "      <td>3.61</td>\n",
       "      <td>31.51</td>\n",
       "    </tr>\n",
       "  </tbody>\n",
       "</table>\n",
       "</div>"
      ],
      "text/plain": [
       "   Number of cores  Dataset Size (GB)  Training time (s)\n",
       "0                1               3.61              53.99\n",
       "1                2               3.61              37.06\n",
       "2                3               3.61              36.61\n",
       "3                4               3.61              31.51"
      ]
     },
     "execution_count": 13,
     "metadata": {},
     "output_type": "execute_result"
    }
   ],
   "source": [
    "dftemp = df[['number_of_cores', 'dataset_size', 'time', ]]\n",
    "dftemp.columns=['Number of cores', 'Dataset Size (GB)', 'Training time (s)']\n",
    "dftemp"
   ]
  },
  {
   "cell_type": "code",
   "execution_count": null,
   "id": "f4ed5f7e",
   "metadata": {},
   "outputs": [],
   "source": []
  }
 ],
 "metadata": {
  "kernelspec": {
   "display_name": "Python 3 (ipykernel)",
   "language": "python",
   "name": "python3"
  },
  "language_info": {
   "codemirror_mode": {
    "name": "ipython",
    "version": 3
   },
   "file_extension": ".py",
   "mimetype": "text/x-python",
   "name": "python",
   "nbconvert_exporter": "python",
   "pygments_lexer": "ipython3",
   "version": "3.9.12"
  }
 },
 "nbformat": 4,
 "nbformat_minor": 5
}

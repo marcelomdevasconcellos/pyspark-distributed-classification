{
 "cells": [
  {
   "cell_type": "code",
   "execution_count": 1,
   "id": "7e777a81",
   "metadata": {},
   "outputs": [],
   "source": [
    "import pandas as pd\n",
    "from spark_session import LocalSparkSession\n",
    "from dataset import Dataset\n",
    "from mr_id3 import MapReduceIDR3\n",
    "from pyspark.mllib.tree import DecisionTree, DecisionTreeModel\n",
    "from crossvalidation_pyspark import CrossValidationPySpark"
   ]
  },
  {
   "cell_type": "code",
   "execution_count": 2,
   "id": "7fc354fd",
   "metadata": {},
   "outputs": [],
   "source": [
    "num_fields = [\n",
    "    'age', 'fnlwgt', 'education_num', 'capital_gain', 'capital_loss',\n",
    "    'hours_per_week', ]\n",
    "\n",
    "categorical_fields = [\n",
    "    'workclass', 'education',\n",
    "    'marital_status', 'occupation', 'relationship',\n",
    "    'race', 'sex', 'native_country', ]"
   ]
  },
  {
   "cell_type": "code",
   "execution_count": 3,
   "id": "1c8513c7",
   "metadata": {},
   "outputs": [],
   "source": [
    "target = 'label'\n",
    "filename = '/Users/marcelovasconcellos/PycharmProjects/8INF919_Devoir1_Classification-distribuee-par-arbre-de-decision/dataset/adult.data'"
   ]
  },
  {
   "cell_type": "code",
   "execution_count": 4,
   "id": "6b438fa7",
   "metadata": {},
   "outputs": [],
   "source": [
    "clusters = [1, 2, 3, 4, ]  # list(range(1, 2))\n",
    "multiply = [5, ]  # list(range(1, 2))\n",
    "metrics = []"
   ]
  },
  {
   "cell_type": "code",
   "execution_count": 5,
   "id": "1a0f6f8e",
   "metadata": {},
   "outputs": [
    {
     "name": "stdout",
     "output_type": "stream",
     "text": [
      "22/10/12 17:07:43 WARN Utils: Your hostname, Mac-Pro-de-MARCELO.local resolves to a loopback address: 127.0.0.1; using 192.168.0.62 instead (on interface en2)\n",
      "22/10/12 17:07:43 WARN Utils: Set SPARK_LOCAL_IP if you need to bind to another address\n"
     ]
    },
    {
     "name": "stderr",
     "output_type": "stream",
     "text": [
      "Setting default log level to \"WARN\".\n",
      "To adjust logging level use sc.setLogLevel(newLevel). For SparkR, use setLogLevel(newLevel).\n"
     ]
    },
    {
     "name": "stdout",
     "output_type": "stream",
     "text": [
      "22/10/12 17:07:44 WARN NativeCodeLoader: Unable to load native-hadoop library for your platform... using builtin-java classes where applicable\n",
      "22/10/12 17:07:45 WARN Utils: Service 'SparkUI' could not bind on port 4040. Attempting port 4041.\n"
     ]
    }
   ],
   "source": [
    "spark = LocalSparkSession(4)\n",
    "spark.start()"
   ]
  },
  {
   "cell_type": "code",
   "execution_count": 6,
   "id": "7c562dd1",
   "metadata": {},
   "outputs": [
    {
     "name": "stderr",
     "output_type": "stream",
     "text": [
      "2022-10-12 17:07:46,319 [INFO] Dataset : Starting\n",
      "2022-10-12 17:07:46,323 [INFO] Dataset : Loading Dataset /Users/marcelovasconcellos/PycharmProjects/8INF919_Devoir1_Classification-distribuee-par-arbre-de-decision/dataset/adult.data\n",
      "                                                                                \r"
     ]
    },
    {
     "name": "stdout",
     "output_type": "stream",
     "text": [
      "22/10/12 17:07:56 WARN package: Truncated the string representation of a plan since it was too large. This behavior can be adjusted by setting 'spark.sql.debug.maxToStringFields'.\n",
      "+-----+---+----------------+------+---------+-------------+------------------+-----------------+-------------+-----+------+------------+------------+--------------+--------------+-------------+-------------+------------------+--------------+----------------+--------+-------+------------------+--------------------+\n",
      "|label|age|       workclass|fnlwgt|education|education_num|    marital_status|       occupation| relationship| race|   sex|capital_gain|capital_loss|hours_per_week|native_country|workclass_idx|education_idx|marital_status_idx|occupation_idx|relationship_idx|race_idx|sex_idx|native_country_idx|            features|\n",
      "+-----+---+----------------+------+---------+-------------+------------------+-----------------+-------------+-----+------+------------+------------+--------------+--------------+-------------+-------------+------------------+--------------+----------------+--------+-------+------------------+--------------------+\n",
      "|    0| 39|       State-gov| 77516|Bachelors|           13|     Never-married|     Adm-clerical|Not-in-family|White|  Male|        2174|           0|            40| United-States|          4.0|          2.0|               1.0|           3.0|             1.0|     0.0|    0.0|               0.0|[39.0,77516.0,13....|\n",
      "|    0| 50|Self-emp-not-inc| 83311|Bachelors|           13|Married-civ-spouse|  Exec-managerial|      Husband|White|  Male|           0|           0|            13| United-States|          1.0|          2.0|               0.0|           2.0|             0.0|     0.0|    0.0|               0.0|(14,[0,1,2,5,6,7,...|\n",
      "|    0| 38|         Private|215646|  HS-grad|            9|          Divorced|Handlers-cleaners|Not-in-family|White|  Male|           0|           0|            40| United-States|          0.0|          0.0|               2.0|           9.0|             1.0|     0.0|    0.0|               0.0|(14,[0,1,2,5,8,9,...|\n",
      "|    0| 53|         Private|234721|     11th|            7|Married-civ-spouse|Handlers-cleaners|      Husband|Black|  Male|           0|           0|            40| United-States|          0.0|          5.0|               0.0|           9.0|             0.0|     1.0|    0.0|               0.0|(14,[0,1,2,5,7,9,...|\n",
      "|    0| 28|         Private|338409|Bachelors|           13|Married-civ-spouse|   Prof-specialty|         Wife|Black|Female|           0|           0|            40|          Cuba|          0.0|          2.0|               0.0|           0.0|             4.0|     1.0|    1.0|               9.0|[28.0,338409.0,13...|\n",
      "+-----+---+----------------+------+---------+-------------+------------------+-----------------+-------------+-----+------+------------+------------+--------------+--------------+-------------+-------------+------------------+--------------+----------------+--------+-------+------------------+--------------------+\n",
      "only showing top 5 rows\n",
      "\n",
      "+--------------------+-----+\n",
      "|            features|label|\n",
      "+--------------------+-----+\n",
      "|[39.0,77516.0,13....|    0|\n",
      "|(14,[0,1,2,5,6,7,...|    0|\n",
      "|(14,[0,1,2,5,8,9,...|    0|\n",
      "|(14,[0,1,2,5,7,9,...|    0|\n",
      "|[28.0,338409.0,13...|    0|\n",
      "+--------------------+-----+\n",
      "only showing top 5 rows\n",
      "\n"
     ]
    }
   ],
   "source": [
    "dataset = Dataset(spark.spark, filename, num_fields, categorical_fields, target)\n",
    "dataset.load()\n",
    "dataset.string_indexer()\n",
    "dataset.multiply_dataset(1)"
   ]
  },
  {
   "cell_type": "code",
   "execution_count": 7,
   "id": "604d7b2f",
   "metadata": {},
   "outputs": [
    {
     "name": "stderr",
     "output_type": "stream",
     "text": [
      "2022-10-12 17:07:57,669 [INFO] MapReduceIDR3 : Starting\n"
     ]
    }
   ],
   "source": [
    "%time\n",
    "crossvalidation = CrossValidationPySpark(dataset)"
   ]
  },
  {
   "cell_type": "code",
   "execution_count": 8,
   "id": "6a9eda03",
   "metadata": {},
   "outputs": [
    {
     "name": "stderr",
     "output_type": "stream",
     "text": [
      "                                                                                \r"
     ]
    }
   ],
   "source": [
    "%time\n",
    "crossvalidation.train()"
   ]
  }
 ],
 "metadata": {
  "kernelspec": {
   "display_name": "Python 3 (ipykernel)",
   "language": "python",
   "name": "python3"
  },
  "language_info": {
   "codemirror_mode": {
    "name": "ipython",
    "version": 3
   },
   "file_extension": ".py",
   "mimetype": "text/x-python",
   "name": "python",
   "nbconvert_exporter": "python",
   "pygments_lexer": "ipython3",
   "version": "3.9.12"
  }
 },
 "nbformat": 4,
 "nbformat_minor": 5
}

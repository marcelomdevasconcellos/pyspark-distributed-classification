{
 "cells": [
  {
   "cell_type": "code",
   "execution_count": 1,
   "metadata": {},
   "outputs": [],
   "source": [
    "# !pip install findspark\n",
    "# !pip install pyspark"
   ]
  },
  {
   "cell_type": "code",
   "execution_count": 2,
   "metadata": {},
   "outputs": [],
   "source": [
    "# import findspark\n",
    "# findspark.init()"
   ]
  },
  {
   "cell_type": "code",
   "execution_count": 3,
   "metadata": {},
   "outputs": [],
   "source": [
    "# #Initializing PySpark\n",
    "# from pyspark import SparkContext, SparkConf\n",
    "\n",
    "# # #Spark Config\n",
    "# conf = SparkConf().setAppName(\"sample_app\")\n",
    "# sc = SparkContext(conf=conf)"
   ]
  },
  {
   "cell_type": "code",
   "execution_count": 4,
   "metadata": {},
   "outputs": [],
   "source": [
    "from pyspark.sql.functions import lit\n",
    "from pyspark.sql.functions import col,sum\n",
    "from pyspark.sql.functions import udf, col\n",
    "from pyspark.sql.types import IntegerType"
   ]
  },
  {
   "cell_type": "code",
   "execution_count": 5,
   "metadata": {},
   "outputs": [
    {
     "name": "stdout",
     "output_type": "stream",
     "text": [
      "CPU times: user 3 µs, sys: 0 ns, total: 3 µs\n",
      "Wall time: 5.96 µs\n",
      "22/10/12 11:11:42 WARN Utils: Your hostname, Mac-Pro-de-MARCELO.local resolves to a loopback address: 127.0.0.1; using 192.168.0.62 instead (on interface en2)\n",
      "22/10/12 11:11:42 WARN Utils: Set SPARK_LOCAL_IP if you need to bind to another address\n"
     ]
    },
    {
     "name": "stderr",
     "output_type": "stream",
     "text": [
      "Setting default log level to \"WARN\".\n",
      "To adjust logging level use sc.setLogLevel(newLevel). For SparkR, use setLogLevel(newLevel).\n"
     ]
    },
    {
     "name": "stdout",
     "output_type": "stream",
     "text": [
      "22/10/12 11:11:42 WARN NativeCodeLoader: Unable to load native-hadoop library for your platform... using builtin-java classes where applicable\n"
     ]
    }
   ],
   "source": [
    "%time\n",
    "from pyspark.sql import SparkSession\n",
    "#sc.stop()\n",
    "spark = SparkSession.builder\\\n",
    "        .master(\"local[2]\")\\\n",
    "        .appName(\"8INF919D1\")\\\n",
    "        .getOrCreate()\n",
    "       "
   ]
  },
  {
   "cell_type": "code",
   "execution_count": 6,
   "metadata": {},
   "outputs": [
    {
     "name": "stdout",
     "output_type": "stream",
     "text": [
      "CPU times: user 2 µs, sys: 1 µs, total: 3 µs\n",
      "Wall time: 5.96 µs\n"
     ]
    }
   ],
   "source": [
    "%time\n",
    "from pyspark import SparkContext\n",
    "sc = spark.sparkContext.getOrCreate()"
   ]
  },
  {
   "cell_type": "code",
   "execution_count": 7,
   "metadata": {},
   "outputs": [
    {
     "name": "stdout",
     "output_type": "stream",
     "text": [
      "CPU times: user 3 µs, sys: 1e+03 ns, total: 4 µs\n",
      "Wall time: 5.96 µs\n"
     ]
    }
   ],
   "source": [
    "%time\n",
    "from pyspark.mllib.tree import DecisionTree, DecisionTreeModel\n",
    "from pyspark.mllib.util import MLUtils\n",
    "from pyspark.mllib.regression import LabeledPoint\n",
    "\n",
    "# # Load and parse the data file into an RDD of LabeledPoint.\n",
    "# data = MLUtils.loadLibSVMFile(sc, 'iris_libsvm.txt')"
   ]
  },
  {
   "cell_type": "code",
   "execution_count": 8,
   "metadata": {},
   "outputs": [
    {
     "name": "stdout",
     "output_type": "stream",
     "text": [
      "+---+-----------------+-------+----------+-------------+-------------------+------------------+--------------+------+-------+------------+------------+--------------+--------------+------+\n",
      "|age|        workclass| fnlwgt| education|education_num|     marital_status|        occupation|  relationship|  race|    sex|capital_gain|capital_loss|hours_per_week|native_country| class|\n",
      "+---+-----------------+-------+----------+-------------+-------------------+------------------+--------------+------+-------+------------+------------+--------------+--------------+------+\n",
      "| 39|        State-gov|  77516| Bachelors|           13|      Never-married|      Adm-clerical| Not-in-family| White|   Male|        2174|           0|            40| United-States| <=50K|\n",
      "| 50| Self-emp-not-inc|  83311| Bachelors|           13| Married-civ-spouse|   Exec-managerial|       Husband| White|   Male|           0|           0|            13| United-States| <=50K|\n",
      "| 38|          Private| 215646|   HS-grad|            9|           Divorced| Handlers-cleaners| Not-in-family| White|   Male|           0|           0|            40| United-States| <=50K|\n",
      "| 53|          Private| 234721|      11th|            7| Married-civ-spouse| Handlers-cleaners|       Husband| Black|   Male|           0|           0|            40| United-States| <=50K|\n",
      "| 28|          Private| 338409| Bachelors|           13| Married-civ-spouse|    Prof-specialty|          Wife| Black| Female|           0|           0|            40|          Cuba| <=50K|\n",
      "+---+-----------------+-------+----------+-------------+-------------------+------------------+--------------+------+-------+------------+------------+--------------+--------------+------+\n",
      "only showing top 5 rows\n",
      "\n"
     ]
    }
   ],
   "source": [
    "from pyspark.sql.types import StructType, StructField, IntegerType, StringType, LongType\n",
    "\n",
    "schema = StructType([\n",
    "    StructField(\"age\", IntegerType(), True),\n",
    "    StructField(\"workclass\", StringType(), True),\n",
    "    StructField(\"fnlwgt\", StringType(), True),\n",
    "    StructField(\"education\", StringType(), True),\n",
    "    StructField(\"education_num\", StringType(), True),\n",
    "    StructField(\"marital_status\", StringType(), True),\n",
    "    StructField(\"occupation\", StringType(), True),\n",
    "    StructField(\"relationship\", StringType(), True),\n",
    "    StructField(\"race\", StringType(), True),\n",
    "    StructField(\"sex\", StringType(), True),\n",
    "    StructField(\"capital_gain\", StringType(), True),\n",
    "    StructField(\"capital_loss\", StringType(), True),\n",
    "    StructField(\"hours_per_week\", StringType(), True),\n",
    "    StructField(\"native_country\", StringType(), True),\n",
    "    StructField(\"class\", StringType(), True),])\n",
    "\n",
    "file = '/Users/marcelovasconcellos/PycharmProjects/8INF919_Devoir1_Classification-distribuée-par-arbre-de-décision/dataset/adult.data'\n",
    "df = spark.read.csv(\n",
    "    file, \n",
    "    header=False, \n",
    "    schema=schema\n",
    ")\n",
    "df.show(5)"
   ]
  },
  {
   "cell_type": "code",
   "execution_count": 9,
   "metadata": {},
   "outputs": [
    {
     "name": "stdout",
     "output_type": "stream",
     "text": [
      "root\n",
      " |-- age: integer (nullable = true)\n",
      " |-- workclass: string (nullable = true)\n",
      " |-- fnlwgt: string (nullable = true)\n",
      " |-- education: string (nullable = true)\n",
      " |-- education_num: string (nullable = true)\n",
      " |-- marital_status: string (nullable = true)\n",
      " |-- occupation: string (nullable = true)\n",
      " |-- relationship: string (nullable = true)\n",
      " |-- race: string (nullable = true)\n",
      " |-- sex: string (nullable = true)\n",
      " |-- capital_gain: string (nullable = true)\n",
      " |-- capital_loss: string (nullable = true)\n",
      " |-- hours_per_week: string (nullable = true)\n",
      " |-- native_country: string (nullable = true)\n",
      " |-- class: string (nullable = true)\n",
      "\n"
     ]
    }
   ],
   "source": [
    "df.printSchema()"
   ]
  },
  {
   "cell_type": "code",
   "execution_count": 10,
   "metadata": {},
   "outputs": [],
   "source": [
    "df.createOrReplaceTempView(\"CastExample\")\n",
    "df = spark.sql(\"\"\"\n",
    "SELECT  CASE\n",
    "        WHEN TRIM(class) = '>50K' THEN 1\n",
    "        ELSE 0 END AS label,\n",
    "        INT(age) AS age, \n",
    "        TRIM(workclass) AS workclass,\n",
    "        INT(fnlwgt) AS fnlwgt,\n",
    "        TRIM(education) AS education,\n",
    "        INT(education_num) AS education_num,\n",
    "        TRIM(marital_status) AS marital_status,\n",
    "        TRIM(occupation) AS occupation,\n",
    "        TRIM(relationship) AS relationship,\n",
    "        TRIM(race) AS race,\n",
    "        TRIM(sex) AS sex,\n",
    "        INT(capital_gain) AS capital_gain,\n",
    "        INT(capital_loss) AS capital_loss,\n",
    "        INT(hours_per_week) AS hours_per_week,\n",
    "        TRIM(native_country) AS native_country\n",
    "FROM CastExample\"\"\")"
   ]
  },
  {
   "cell_type": "code",
   "execution_count": 11,
   "metadata": {},
   "outputs": [
    {
     "name": "stdout",
     "output_type": "stream",
     "text": [
      "+-----+---+----------------+------+---------+-------------+------------------+-----------------+-------------+-----+------+------------+------------+--------------+--------------+\n",
      "|label|age|       workclass|fnlwgt|education|education_num|    marital_status|       occupation| relationship| race|   sex|capital_gain|capital_loss|hours_per_week|native_country|\n",
      "+-----+---+----------------+------+---------+-------------+------------------+-----------------+-------------+-----+------+------------+------------+--------------+--------------+\n",
      "|    0| 39|       State-gov| 77516|Bachelors|           13|     Never-married|     Adm-clerical|Not-in-family|White|  Male|        2174|           0|            40| United-States|\n",
      "|    0| 50|Self-emp-not-inc| 83311|Bachelors|           13|Married-civ-spouse|  Exec-managerial|      Husband|White|  Male|           0|           0|            13| United-States|\n",
      "|    0| 38|         Private|215646|  HS-grad|            9|          Divorced|Handlers-cleaners|Not-in-family|White|  Male|           0|           0|            40| United-States|\n",
      "|    0| 53|         Private|234721|     11th|            7|Married-civ-spouse|Handlers-cleaners|      Husband|Black|  Male|           0|           0|            40| United-States|\n",
      "|    0| 28|         Private|338409|Bachelors|           13|Married-civ-spouse|   Prof-specialty|         Wife|Black|Female|           0|           0|            40|          Cuba|\n",
      "+-----+---+----------------+------+---------+-------------+------------------+-----------------+-------------+-----+------+------------+------------+--------------+--------------+\n",
      "only showing top 5 rows\n",
      "\n"
     ]
    }
   ],
   "source": [
    "df.show(5)"
   ]
  },
  {
   "cell_type": "code",
   "execution_count": 12,
   "metadata": {},
   "outputs": [
    {
     "name": "stdout",
     "output_type": "stream",
     "text": [
      "root\n",
      " |-- label: integer (nullable = false)\n",
      " |-- age: integer (nullable = true)\n",
      " |-- workclass: string (nullable = true)\n",
      " |-- fnlwgt: integer (nullable = true)\n",
      " |-- education: string (nullable = true)\n",
      " |-- education_num: integer (nullable = true)\n",
      " |-- marital_status: string (nullable = true)\n",
      " |-- occupation: string (nullable = true)\n",
      " |-- relationship: string (nullable = true)\n",
      " |-- race: string (nullable = true)\n",
      " |-- sex: string (nullable = true)\n",
      " |-- capital_gain: integer (nullable = true)\n",
      " |-- capital_loss: integer (nullable = true)\n",
      " |-- hours_per_week: integer (nullable = true)\n",
      " |-- native_country: string (nullable = true)\n",
      "\n"
     ]
    }
   ],
   "source": [
    "df.printSchema()"
   ]
  },
  {
   "cell_type": "code",
   "execution_count": 13,
   "metadata": {},
   "outputs": [
    {
     "name": "stdout",
     "output_type": "stream",
     "text": [
      "+------+--------+\n",
      "| class|count(1)|\n",
      "+------+--------+\n",
      "|  >50K|    7841|\n",
      "| <=50K|   24720|\n",
      "+------+--------+\n",
      "\n"
     ]
    }
   ],
   "source": [
    "spark.sql(\"SELECT DISTINCT class, COUNT(*) FROM CastExample GROUP BY class\").show()"
   ]
  },
  {
   "cell_type": "code",
   "execution_count": 14,
   "metadata": {},
   "outputs": [
    {
     "name": "stdout",
     "output_type": "stream",
     "text": [
      "CPU times: user 4 µs, sys: 1e+03 ns, total: 5 µs\n",
      "Wall time: 10 µs\n"
     ]
    },
    {
     "data": {
      "text/plain": [
       "Row(label=0, age=39, workclass='State-gov', fnlwgt=77516, education='Bachelors', education_num=13, marital_status='Never-married', occupation='Adm-clerical', relationship='Not-in-family', race='White', sex='Male', capital_gain=2174, capital_loss=0, hours_per_week=40, native_country='United-States')"
      ]
     },
     "execution_count": 14,
     "metadata": {},
     "output_type": "execute_result"
    }
   ],
   "source": [
    "%time\n",
    "df.first()"
   ]
  },
  {
   "cell_type": "code",
   "execution_count": 15,
   "metadata": {},
   "outputs": [],
   "source": [
    "def one_hot_encode(df, column_name):\n",
    "    distinct_values = df.select(column_name)\\\n",
    "                        .distinct()\\\n",
    "                        .rdd\\\n",
    "                        .flatMap(lambda x: x).collect()\n",
    "\n",
    "    for distinct_value in distinct_values:\n",
    "        function = udf(lambda item: \n",
    "                       1 if item == distinct_value else 0, \n",
    "                       IntegerType())\n",
    "        new_column_name = column_name+'_'+distinct_value.replace('-', '_').replace('?', 'unknown').lower()\n",
    "        df = df.withColumn(new_column_name, function(col(column_name)))\n",
    "    return df.drop(column_name)"
   ]
  },
  {
   "cell_type": "code",
   "execution_count": 16,
   "metadata": {},
   "outputs": [
    {
     "name": "stderr",
     "output_type": "stream",
     "text": [
      "                                                                                \r"
     ]
    }
   ],
   "source": [
    "columns = [\n",
    "    'workclass', \n",
    "    'education', \n",
    "    'marital_status', \n",
    "    'occupation', \n",
    "    'relationship', \n",
    "    'race', \n",
    "    'sex', \n",
    "    'native_country', ]\n",
    "for column in columns:\n",
    "    df = one_hot_encode(df, column)"
   ]
  },
  {
   "cell_type": "code",
   "execution_count": 17,
   "metadata": {},
   "outputs": [
    {
     "name": "stdout",
     "output_type": "stream",
     "text": [
      "22/10/12 11:11:59 WARN package: Truncated the string representation of a plan since it was too large. This behavior can be adjusted by setting 'spark.sql.debug.maxToStringFields'.\n"
     ]
    },
    {
     "name": "stderr",
     "output_type": "stream",
     "text": [
      "\r",
      "[Stage 30:>                                                         (0 + 1) / 1]\r"
     ]
    },
    {
     "name": "stdout",
     "output_type": "stream",
     "text": [
      "+-----+---+------+-------------+------------+------------+--------------+--------------------------+-------------------+-------------------+-----------------+---------------------+---------------------+----------------------+-----------------+----------------------+-----------------+--------------+-----------------+--------------------+-------------------+-----------------+-------------+-----------------+-------------------+--------------+-----------------+-------------------+--------------+-------------------+----------------------+---------------------+------------------------+----------------------------+------------------------------------+-----------------------+----------------------+--------------------------------+---------------------------------+----------------+--------------------------+-------------------------+----------------------------+--------------------------+-----------------------+---------------------------+--------------------------+--------------------------+------------------------+-----------------------+----------------------------+-----------------------+------------------+-----------------------+----------------------+--------------------------+----------------------+-----------------+---------------------------+--------------------+----------+-----------------------+----------+-----------------------+----------+----------+--------+--------------------------+----------------------+-----------------------+---------------------+---------------------+---------------------+----------------------+------------------------+-------------------+-------------------+--------------------+--------------------+--------------------+---------------------------------+-------------------+--------------------+-------------------+----------------------+-----------------------+-------------------+--------------------------+---------------------+------------------------+-----------------------+-------------------------+--------------------------+----------------------+---------------------+----------------------------+---------------------------------+-----------------------------------------+--------------------+----------------------+--------------------+---------------------+-----------------------+----------------------+-----------------------+-----------------------+----------------------+----------------------+------------------------------+\n",
      "|label|age|fnlwgt|education_num|capital_gain|capital_loss|hours_per_week|workclass_self_emp_not_inc|workclass_local_gov|workclass_state_gov|workclass_private|workclass_without_pay|workclass_federal_gov|workclass_never_worked|workclass_unknown|workclass_self_emp_inc|education_masters|education_10th|education_5th_6th|education_assoc_acdm|education_assoc_voc|education_7th_8th|education_9th|education_hs_grad|education_bachelors|education_11th|education_1st_4th|education_preschool|education_12th|education_doctorate|education_some_college|education_prof_school|marital_status_separated|marital_status_never_married|marital_status_married_spouse_absent|marital_status_divorced|marital_status_widowed|marital_status_married_af_spouse|marital_status_married_civ_spouse|occupation_sales|occupation_exec_managerial|occupation_prof_specialty|occupation_handlers_cleaners|occupation_farming_fishing|occupation_craft_repair|occupation_transport_moving|occupation_priv_house_serv|occupation_protective_serv|occupation_other_service|occupation_tech_support|occupation_machine_op_inspct|occupation_armed_forces|occupation_unknown|occupation_adm_clerical|relationship_own_child|relationship_not_in_family|relationship_unmarried|relationship_wife|relationship_other_relative|relationship_husband|race_other|race_amer_indian_eskimo|race_white|race_asian_pac_islander|race_black|sex_female|sex_male|native_country_philippines|native_country_germany|native_country_cambodia|native_country_france|native_country_greece|native_country_taiwan|native_country_ecuador|native_country_nicaragua|native_country_hong|native_country_peru|native_country_india|native_country_china|native_country_italy|native_country_holand_netherlands|native_country_cuba|native_country_south|native_country_iran|native_country_ireland|native_country_thailand|native_country_laos|native_country_el_salvador|native_country_mexico|native_country_guatemala|native_country_honduras|native_country_yugoslavia|native_country_puerto_rico|native_country_jamaica|native_country_canada|native_country_united_states|native_country_dominican_republic|native_country_outlying_us(guam_usvi_etc)|native_country_japan|native_country_england|native_country_haiti|native_country_poland|native_country_portugal|native_country_unknown|native_country_columbia|native_country_scotland|native_country_hungary|native_country_vietnam|native_country_trinadad&tobago|\n",
      "+-----+---+------+-------------+------------+------------+--------------+--------------------------+-------------------+-------------------+-----------------+---------------------+---------------------+----------------------+-----------------+----------------------+-----------------+--------------+-----------------+--------------------+-------------------+-----------------+-------------+-----------------+-------------------+--------------+-----------------+-------------------+--------------+-------------------+----------------------+---------------------+------------------------+----------------------------+------------------------------------+-----------------------+----------------------+--------------------------------+---------------------------------+----------------+--------------------------+-------------------------+----------------------------+--------------------------+-----------------------+---------------------------+--------------------------+--------------------------+------------------------+-----------------------+----------------------------+-----------------------+------------------+-----------------------+----------------------+--------------------------+----------------------+-----------------+---------------------------+--------------------+----------+-----------------------+----------+-----------------------+----------+----------+--------+--------------------------+----------------------+-----------------------+---------------------+---------------------+---------------------+----------------------+------------------------+-------------------+-------------------+--------------------+--------------------+--------------------+---------------------------------+-------------------+--------------------+-------------------+----------------------+-----------------------+-------------------+--------------------------+---------------------+------------------------+-----------------------+-------------------------+--------------------------+----------------------+---------------------+----------------------------+---------------------------------+-----------------------------------------+--------------------+----------------------+--------------------+---------------------+-----------------------+----------------------+-----------------------+-----------------------+----------------------+----------------------+------------------------------+\n",
      "|    0| 39| 77516|           13|        2174|           0|            40|                         0|                  0|                  1|                0|                    0|                    0|                     0|                0|                     0|                0|             0|                0|                   0|                  0|                0|            0|                0|                  1|             0|                0|                  0|             0|                  0|                     0|                    0|                       0|                           1|                                   0|                      0|                     0|                               0|                                0|               0|                         0|                        0|                           0|                         0|                      0|                          0|                         0|                         0|                       0|                      0|                           0|                      0|                 0|                      1|                     0|                         1|                     0|                0|                          0|                   0|         0|                      0|         1|                      0|         0|         0|       1|                         0|                     0|                      0|                    0|                    0|                    0|                     0|                       0|                  0|                  0|                   0|                   0|                   0|                                0|                  0|                   0|                  0|                     0|                      0|                  0|                         0|                    0|                       0|                      0|                        0|                         0|                     0|                    0|                           1|                                0|                                        0|                   0|                     0|                   0|                    0|                      0|                     0|                      0|                      0|                     0|                     0|                             0|\n",
      "|    0| 50| 83311|           13|           0|           0|            13|                         1|                  0|                  0|                0|                    0|                    0|                     0|                0|                     0|                0|             0|                0|                   0|                  0|                0|            0|                0|                  1|             0|                0|                  0|             0|                  0|                     0|                    0|                       0|                           0|                                   0|                      0|                     0|                               0|                                1|               0|                         1|                        0|                           0|                         0|                      0|                          0|                         0|                         0|                       0|                      0|                           0|                      0|                 0|                      0|                     0|                         0|                     0|                0|                          0|                   1|         0|                      0|         1|                      0|         0|         0|       1|                         0|                     0|                      0|                    0|                    0|                    0|                     0|                       0|                  0|                  0|                   0|                   0|                   0|                                0|                  0|                   0|                  0|                     0|                      0|                  0|                         0|                    0|                       0|                      0|                        0|                         0|                     0|                    0|                           1|                                0|                                        0|                   0|                     0|                   0|                    0|                      0|                     0|                      0|                      0|                     0|                     0|                             0|\n",
      "|    0| 38|215646|            9|           0|           0|            40|                         0|                  0|                  0|                1|                    0|                    0|                     0|                0|                     0|                0|             0|                0|                   0|                  0|                0|            0|                1|                  0|             0|                0|                  0|             0|                  0|                     0|                    0|                       0|                           0|                                   0|                      1|                     0|                               0|                                0|               0|                         0|                        0|                           1|                         0|                      0|                          0|                         0|                         0|                       0|                      0|                           0|                      0|                 0|                      0|                     0|                         1|                     0|                0|                          0|                   0|         0|                      0|         1|                      0|         0|         0|       1|                         0|                     0|                      0|                    0|                    0|                    0|                     0|                       0|                  0|                  0|                   0|                   0|                   0|                                0|                  0|                   0|                  0|                     0|                      0|                  0|                         0|                    0|                       0|                      0|                        0|                         0|                     0|                    0|                           1|                                0|                                        0|                   0|                     0|                   0|                    0|                      0|                     0|                      0|                      0|                     0|                     0|                             0|\n",
      "|    0| 53|234721|            7|           0|           0|            40|                         0|                  0|                  0|                1|                    0|                    0|                     0|                0|                     0|                0|             0|                0|                   0|                  0|                0|            0|                0|                  0|             1|                0|                  0|             0|                  0|                     0|                    0|                       0|                           0|                                   0|                      0|                     0|                               0|                                1|               0|                         0|                        0|                           1|                         0|                      0|                          0|                         0|                         0|                       0|                      0|                           0|                      0|                 0|                      0|                     0|                         0|                     0|                0|                          0|                   1|         0|                      0|         0|                      0|         1|         0|       1|                         0|                     0|                      0|                    0|                    0|                    0|                     0|                       0|                  0|                  0|                   0|                   0|                   0|                                0|                  0|                   0|                  0|                     0|                      0|                  0|                         0|                    0|                       0|                      0|                        0|                         0|                     0|                    0|                           1|                                0|                                        0|                   0|                     0|                   0|                    0|                      0|                     0|                      0|                      0|                     0|                     0|                             0|\n",
      "|    0| 28|338409|           13|           0|           0|            40|                         0|                  0|                  0|                1|                    0|                    0|                     0|                0|                     0|                0|             0|                0|                   0|                  0|                0|            0|                0|                  1|             0|                0|                  0|             0|                  0|                     0|                    0|                       0|                           0|                                   0|                      0|                     0|                               0|                                1|               0|                         0|                        1|                           0|                         0|                      0|                          0|                         0|                         0|                       0|                      0|                           0|                      0|                 0|                      0|                     0|                         0|                     0|                1|                          0|                   0|         0|                      0|         0|                      0|         1|         1|       0|                         0|                     0|                      0|                    0|                    0|                    0|                     0|                       0|                  0|                  0|                   0|                   0|                   0|                                0|                  1|                   0|                  0|                     0|                      0|                  0|                         0|                    0|                       0|                      0|                        0|                         0|                     0|                    0|                           0|                                0|                                        0|                   0|                     0|                   0|                    0|                      0|                     0|                      0|                      0|                     0|                     0|                             0|\n",
      "|    0| 37|284582|           14|           0|           0|            40|                         0|                  0|                  0|                1|                    0|                    0|                     0|                0|                     0|                1|             0|                0|                   0|                  0|                0|            0|                0|                  0|             0|                0|                  0|             0|                  0|                     0|                    0|                       0|                           0|                                   0|                      0|                     0|                               0|                                1|               0|                         1|                        0|                           0|                         0|                      0|                          0|                         0|                         0|                       0|                      0|                           0|                      0|                 0|                      0|                     0|                         0|                     0|                1|                          0|                   0|         0|                      0|         1|                      0|         0|         1|       0|                         0|                     0|                      0|                    0|                    0|                    0|                     0|                       0|                  0|                  0|                   0|                   0|                   0|                                0|                  0|                   0|                  0|                     0|                      0|                  0|                         0|                    0|                       0|                      0|                        0|                         0|                     0|                    0|                           1|                                0|                                        0|                   0|                     0|                   0|                    0|                      0|                     0|                      0|                      0|                     0|                     0|                             0|\n",
      "|    0| 49|160187|            5|           0|           0|            16|                         0|                  0|                  0|                1|                    0|                    0|                     0|                0|                     0|                0|             0|                0|                   0|                  0|                0|            1|                0|                  0|             0|                0|                  0|             0|                  0|                     0|                    0|                       0|                           0|                                   1|                      0|                     0|                               0|                                0|               0|                         0|                        0|                           0|                         0|                      0|                          0|                         0|                         0|                       1|                      0|                           0|                      0|                 0|                      0|                     0|                         1|                     0|                0|                          0|                   0|         0|                      0|         0|                      0|         1|         1|       0|                         0|                     0|                      0|                    0|                    0|                    0|                     0|                       0|                  0|                  0|                   0|                   0|                   0|                                0|                  0|                   0|                  0|                     0|                      0|                  0|                         0|                    0|                       0|                      0|                        0|                         0|                     1|                    0|                           0|                                0|                                        0|                   0|                     0|                   0|                    0|                      0|                     0|                      0|                      0|                     0|                     0|                             0|\n",
      "|    1| 52|209642|            9|           0|           0|            45|                         1|                  0|                  0|                0|                    0|                    0|                     0|                0|                     0|                0|             0|                0|                   0|                  0|                0|            0|                1|                  0|             0|                0|                  0|             0|                  0|                     0|                    0|                       0|                           0|                                   0|                      0|                     0|                               0|                                1|               0|                         1|                        0|                           0|                         0|                      0|                          0|                         0|                         0|                       0|                      0|                           0|                      0|                 0|                      0|                     0|                         0|                     0|                0|                          0|                   1|         0|                      0|         1|                      0|         0|         0|       1|                         0|                     0|                      0|                    0|                    0|                    0|                     0|                       0|                  0|                  0|                   0|                   0|                   0|                                0|                  0|                   0|                  0|                     0|                      0|                  0|                         0|                    0|                       0|                      0|                        0|                         0|                     0|                    0|                           1|                                0|                                        0|                   0|                     0|                   0|                    0|                      0|                     0|                      0|                      0|                     0|                     0|                             0|\n",
      "|    1| 31| 45781|           14|       14084|           0|            50|                         0|                  0|                  0|                1|                    0|                    0|                     0|                0|                     0|                1|             0|                0|                   0|                  0|                0|            0|                0|                  0|             0|                0|                  0|             0|                  0|                     0|                    0|                       0|                           1|                                   0|                      0|                     0|                               0|                                0|               0|                         0|                        1|                           0|                         0|                      0|                          0|                         0|                         0|                       0|                      0|                           0|                      0|                 0|                      0|                     0|                         1|                     0|                0|                          0|                   0|         0|                      0|         1|                      0|         0|         1|       0|                         0|                     0|                      0|                    0|                    0|                    0|                     0|                       0|                  0|                  0|                   0|                   0|                   0|                                0|                  0|                   0|                  0|                     0|                      0|                  0|                         0|                    0|                       0|                      0|                        0|                         0|                     0|                    0|                           1|                                0|                                        0|                   0|                     0|                   0|                    0|                      0|                     0|                      0|                      0|                     0|                     0|                             0|\n",
      "|    1| 42|159449|           13|        5178|           0|            40|                         0|                  0|                  0|                1|                    0|                    0|                     0|                0|                     0|                0|             0|                0|                   0|                  0|                0|            0|                0|                  1|             0|                0|                  0|             0|                  0|                     0|                    0|                       0|                           0|                                   0|                      0|                     0|                               0|                                1|               0|                         1|                        0|                           0|                         0|                      0|                          0|                         0|                         0|                       0|                      0|                           0|                      0|                 0|                      0|                     0|                         0|                     0|                0|                          0|                   1|         0|                      0|         1|                      0|         0|         0|       1|                         0|                     0|                      0|                    0|                    0|                    0|                     0|                       0|                  0|                  0|                   0|                   0|                   0|                                0|                  0|                   0|                  0|                     0|                      0|                  0|                         0|                    0|                       0|                      0|                        0|                         0|                     0|                    0|                           1|                                0|                                        0|                   0|                     0|                   0|                    0|                      0|                     0|                      0|                      0|                     0|                     0|                             0|\n",
      "|    1| 37|280464|           10|           0|           0|            80|                         0|                  0|                  0|                1|                    0|                    0|                     0|                0|                     0|                0|             0|                0|                   0|                  0|                0|            0|                0|                  0|             0|                0|                  0|             0|                  0|                     1|                    0|                       0|                           0|                                   0|                      0|                     0|                               0|                                1|               0|                         1|                        0|                           0|                         0|                      0|                          0|                         0|                         0|                       0|                      0|                           0|                      0|                 0|                      0|                     0|                         0|                     0|                0|                          0|                   1|         0|                      0|         0|                      0|         1|         0|       1|                         0|                     0|                      0|                    0|                    0|                    0|                     0|                       0|                  0|                  0|                   0|                   0|                   0|                                0|                  0|                   0|                  0|                     0|                      0|                  0|                         0|                    0|                       0|                      0|                        0|                         0|                     0|                    0|                           1|                                0|                                        0|                   0|                     0|                   0|                    0|                      0|                     0|                      0|                      0|                     0|                     0|                             0|\n",
      "|    1| 30|141297|           13|           0|           0|            40|                         0|                  0|                  1|                0|                    0|                    0|                     0|                0|                     0|                0|             0|                0|                   0|                  0|                0|            0|                0|                  1|             0|                0|                  0|             0|                  0|                     0|                    0|                       0|                           0|                                   0|                      0|                     0|                               0|                                1|               0|                         0|                        1|                           0|                         0|                      0|                          0|                         0|                         0|                       0|                      0|                           0|                      0|                 0|                      0|                     0|                         0|                     0|                0|                          0|                   1|         0|                      0|         0|                      1|         0|         0|       1|                         0|                     0|                      0|                    0|                    0|                    0|                     0|                       0|                  0|                  0|                   1|                   0|                   0|                                0|                  0|                   0|                  0|                     0|                      0|                  0|                         0|                    0|                       0|                      0|                        0|                         0|                     0|                    0|                           0|                                0|                                        0|                   0|                     0|                   0|                    0|                      0|                     0|                      0|                      0|                     0|                     0|                             0|\n",
      "|    0| 23|122272|           13|           0|           0|            30|                         0|                  0|                  0|                1|                    0|                    0|                     0|                0|                     0|                0|             0|                0|                   0|                  0|                0|            0|                0|                  1|             0|                0|                  0|             0|                  0|                     0|                    0|                       0|                           1|                                   0|                      0|                     0|                               0|                                0|               0|                         0|                        0|                           0|                         0|                      0|                          0|                         0|                         0|                       0|                      0|                           0|                      0|                 0|                      1|                     1|                         0|                     0|                0|                          0|                   0|         0|                      0|         1|                      0|         0|         1|       0|                         0|                     0|                      0|                    0|                    0|                    0|                     0|                       0|                  0|                  0|                   0|                   0|                   0|                                0|                  0|                   0|                  0|                     0|                      0|                  0|                         0|                    0|                       0|                      0|                        0|                         0|                     0|                    0|                           1|                                0|                                        0|                   0|                     0|                   0|                    0|                      0|                     0|                      0|                      0|                     0|                     0|                             0|\n",
      "|    0| 32|205019|           12|           0|           0|            50|                         0|                  0|                  0|                1|                    0|                    0|                     0|                0|                     0|                0|             0|                0|                   1|                  0|                0|            0|                0|                  0|             0|                0|                  0|             0|                  0|                     0|                    0|                       0|                           1|                                   0|                      0|                     0|                               0|                                0|               1|                         0|                        0|                           0|                         0|                      0|                          0|                         0|                         0|                       0|                      0|                           0|                      0|                 0|                      0|                     0|                         1|                     0|                0|                          0|                   0|         0|                      0|         0|                      0|         1|         0|       1|                         0|                     0|                      0|                    0|                    0|                    0|                     0|                       0|                  0|                  0|                   0|                   0|                   0|                                0|                  0|                   0|                  0|                     0|                      0|                  0|                         0|                    0|                       0|                      0|                        0|                         0|                     0|                    0|                           1|                                0|                                        0|                   0|                     0|                   0|                    0|                      0|                     0|                      0|                      0|                     0|                     0|                             0|\n",
      "|    1| 40|121772|           11|           0|           0|            40|                         0|                  0|                  0|                1|                    0|                    0|                     0|                0|                     0|                0|             0|                0|                   0|                  1|                0|            0|                0|                  0|             0|                0|                  0|             0|                  0|                     0|                    0|                       0|                           0|                                   0|                      0|                     0|                               0|                                1|               0|                         0|                        0|                           0|                         0|                      1|                          0|                         0|                         0|                       0|                      0|                           0|                      0|                 0|                      0|                     0|                         0|                     0|                0|                          0|                   1|         0|                      0|         0|                      1|         0|         0|       1|                         0|                     0|                      0|                    0|                    0|                    0|                     0|                       0|                  0|                  0|                   0|                   0|                   0|                                0|                  0|                   0|                  0|                     0|                      0|                  0|                         0|                    0|                       0|                      0|                        0|                         0|                     0|                    0|                           0|                                0|                                        0|                   0|                     0|                   0|                    0|                      0|                     1|                      0|                      0|                     0|                     0|                             0|\n",
      "|    0| 34|245487|            4|           0|           0|            45|                         0|                  0|                  0|                1|                    0|                    0|                     0|                0|                     0|                0|             0|                0|                   0|                  0|                1|            0|                0|                  0|             0|                0|                  0|             0|                  0|                     0|                    0|                       0|                           0|                                   0|                      0|                     0|                               0|                                1|               0|                         0|                        0|                           0|                         0|                      0|                          1|                         0|                         0|                       0|                      0|                           0|                      0|                 0|                      0|                     0|                         0|                     0|                0|                          0|                   1|         0|                      1|         0|                      0|         0|         0|       1|                         0|                     0|                      0|                    0|                    0|                    0|                     0|                       0|                  0|                  0|                   0|                   0|                   0|                                0|                  0|                   0|                  0|                     0|                      0|                  0|                         0|                    1|                       0|                      0|                        0|                         0|                     0|                    0|                           0|                                0|                                        0|                   0|                     0|                   0|                    0|                      0|                     0|                      0|                      0|                     0|                     0|                             0|\n",
      "|    0| 25|176756|            9|           0|           0|            35|                         1|                  0|                  0|                0|                    0|                    0|                     0|                0|                     0|                0|             0|                0|                   0|                  0|                0|            0|                1|                  0|             0|                0|                  0|             0|                  0|                     0|                    0|                       0|                           1|                                   0|                      0|                     0|                               0|                                0|               0|                         0|                        0|                           0|                         1|                      0|                          0|                         0|                         0|                       0|                      0|                           0|                      0|                 0|                      0|                     1|                         0|                     0|                0|                          0|                   0|         0|                      0|         1|                      0|         0|         0|       1|                         0|                     0|                      0|                    0|                    0|                    0|                     0|                       0|                  0|                  0|                   0|                   0|                   0|                                0|                  0|                   0|                  0|                     0|                      0|                  0|                         0|                    0|                       0|                      0|                        0|                         0|                     0|                    0|                           1|                                0|                                        0|                   0|                     0|                   0|                    0|                      0|                     0|                      0|                      0|                     0|                     0|                             0|\n",
      "|    0| 32|186824|            9|           0|           0|            40|                         0|                  0|                  0|                1|                    0|                    0|                     0|                0|                     0|                0|             0|                0|                   0|                  0|                0|            0|                1|                  0|             0|                0|                  0|             0|                  0|                     0|                    0|                       0|                           1|                                   0|                      0|                     0|                               0|                                0|               0|                         0|                        0|                           0|                         0|                      0|                          0|                         0|                         0|                       0|                      0|                           1|                      0|                 0|                      0|                     0|                         0|                     1|                0|                          0|                   0|         0|                      0|         1|                      0|         0|         0|       1|                         0|                     0|                      0|                    0|                    0|                    0|                     0|                       0|                  0|                  0|                   0|                   0|                   0|                                0|                  0|                   0|                  0|                     0|                      0|                  0|                         0|                    0|                       0|                      0|                        0|                         0|                     0|                    0|                           1|                                0|                                        0|                   0|                     0|                   0|                    0|                      0|                     0|                      0|                      0|                     0|                     0|                             0|\n",
      "|    0| 38| 28887|            7|           0|           0|            50|                         0|                  0|                  0|                1|                    0|                    0|                     0|                0|                     0|                0|             0|                0|                   0|                  0|                0|            0|                0|                  0|             1|                0|                  0|             0|                  0|                     0|                    0|                       0|                           0|                                   0|                      0|                     0|                               0|                                1|               1|                         0|                        0|                           0|                         0|                      0|                          0|                         0|                         0|                       0|                      0|                           0|                      0|                 0|                      0|                     0|                         0|                     0|                0|                          0|                   1|         0|                      0|         1|                      0|         0|         0|       1|                         0|                     0|                      0|                    0|                    0|                    0|                     0|                       0|                  0|                  0|                   0|                   0|                   0|                                0|                  0|                   0|                  0|                     0|                      0|                  0|                         0|                    0|                       0|                      0|                        0|                         0|                     0|                    0|                           1|                                0|                                        0|                   0|                     0|                   0|                    0|                      0|                     0|                      0|                      0|                     0|                     0|                             0|\n",
      "|    1| 43|292175|           14|           0|           0|            45|                         1|                  0|                  0|                0|                    0|                    0|                     0|                0|                     0|                1|             0|                0|                   0|                  0|                0|            0|                0|                  0|             0|                0|                  0|             0|                  0|                     0|                    0|                       0|                           0|                                   0|                      1|                     0|                               0|                                0|               0|                         1|                        0|                           0|                         0|                      0|                          0|                         0|                         0|                       0|                      0|                           0|                      0|                 0|                      0|                     0|                         0|                     1|                0|                          0|                   0|         0|                      0|         1|                      0|         0|         1|       0|                         0|                     0|                      0|                    0|                    0|                    0|                     0|                       0|                  0|                  0|                   0|                   0|                   0|                                0|                  0|                   0|                  0|                     0|                      0|                  0|                         0|                    0|                       0|                      0|                        0|                         0|                     0|                    0|                           1|                                0|                                        0|                   0|                     0|                   0|                    0|                      0|                     0|                      0|                      0|                     0|                     0|                             0|\n",
      "+-----+---+------+-------------+------------+------------+--------------+--------------------------+-------------------+-------------------+-----------------+---------------------+---------------------+----------------------+-----------------+----------------------+-----------------+--------------+-----------------+--------------------+-------------------+-----------------+-------------+-----------------+-------------------+--------------+-----------------+-------------------+--------------+-------------------+----------------------+---------------------+------------------------+----------------------------+------------------------------------+-----------------------+----------------------+--------------------------------+---------------------------------+----------------+--------------------------+-------------------------+----------------------------+--------------------------+-----------------------+---------------------------+--------------------------+--------------------------+------------------------+-----------------------+----------------------------+-----------------------+------------------+-----------------------+----------------------+--------------------------+----------------------+-----------------+---------------------------+--------------------+----------+-----------------------+----------+-----------------------+----------+----------+--------+--------------------------+----------------------+-----------------------+---------------------+---------------------+---------------------+----------------------+------------------------+-------------------+-------------------+--------------------+--------------------+--------------------+---------------------------------+-------------------+--------------------+-------------------+----------------------+-----------------------+-------------------+--------------------------+---------------------+------------------------+-----------------------+-------------------------+--------------------------+----------------------+---------------------+----------------------------+---------------------------------+-----------------------------------------+--------------------+----------------------+--------------------+---------------------+-----------------------+----------------------+-----------------------+-----------------------+----------------------+----------------------+------------------------------+\n",
      "only showing top 20 rows\n",
      "\n"
     ]
    },
    {
     "name": "stderr",
     "output_type": "stream",
     "text": [
      "\r",
      "                                                                                \r"
     ]
    }
   ],
   "source": [
    "df.show()"
   ]
  },
  {
   "cell_type": "code",
   "execution_count": 18,
   "metadata": {},
   "outputs": [
    {
     "name": "stderr",
     "output_type": "stream",
     "text": [
      "\r",
      "[Stage 31:>                                                         (0 + 1) / 1]\r"
     ]
    },
    {
     "name": "stdout",
     "output_type": "stream",
     "text": [
      "22/10/12 11:12:05 WARN PythonUDFRunner: Detected deadlock while completing task 0.0 in stage 31 (TID 22): Attempting to kill Python Worker\n"
     ]
    },
    {
     "name": "stderr",
     "output_type": "stream",
     "text": [
      "\r",
      "                                                                                \r"
     ]
    },
    {
     "data": {
      "text/plain": [
       "[LabeledPoint(0.0, [39.0,77516.0,13.0,2174.0,0.0,40.0,0.0,0.0,1.0,0.0,0.0,0.0,0.0,0.0,0.0,0.0,0.0,0.0,0.0,0.0,0.0,0.0,0.0,1.0,0.0,0.0,0.0,0.0,0.0,0.0,0.0,0.0,1.0,0.0,0.0,0.0,0.0,0.0,0.0,0.0,0.0,0.0,0.0,0.0,0.0,0.0,0.0,0.0,0.0,0.0,0.0,0.0,1.0,0.0,1.0,0.0,0.0,0.0,0.0,0.0,0.0,1.0,0.0,0.0,0.0,1.0,0.0,0.0,0.0,0.0,0.0,0.0,0.0,0.0,0.0,0.0,0.0,0.0,0.0,0.0,0.0,0.0,0.0,0.0,0.0,0.0,0.0,0.0,0.0,0.0,0.0,0.0,0.0,0.0,1.0,0.0,0.0,0.0,0.0,0.0,0.0,0.0,0.0,0.0,0.0,0.0,0.0,0.0]),\n",
       " LabeledPoint(0.0, [50.0,83311.0,13.0,0.0,0.0,13.0,1.0,0.0,0.0,0.0,0.0,0.0,0.0,0.0,0.0,0.0,0.0,0.0,0.0,0.0,0.0,0.0,0.0,1.0,0.0,0.0,0.0,0.0,0.0,0.0,0.0,0.0,0.0,0.0,0.0,0.0,0.0,1.0,0.0,1.0,0.0,0.0,0.0,0.0,0.0,0.0,0.0,0.0,0.0,0.0,0.0,0.0,0.0,0.0,0.0,0.0,0.0,0.0,1.0,0.0,0.0,1.0,0.0,0.0,0.0,1.0,0.0,0.0,0.0,0.0,0.0,0.0,0.0,0.0,0.0,0.0,0.0,0.0,0.0,0.0,0.0,0.0,0.0,0.0,0.0,0.0,0.0,0.0,0.0,0.0,0.0,0.0,0.0,0.0,1.0,0.0,0.0,0.0,0.0,0.0,0.0,0.0,0.0,0.0,0.0,0.0,0.0,0.0]),\n",
       " LabeledPoint(0.0, [38.0,215646.0,9.0,0.0,0.0,40.0,0.0,0.0,0.0,1.0,0.0,0.0,0.0,0.0,0.0,0.0,0.0,0.0,0.0,0.0,0.0,0.0,1.0,0.0,0.0,0.0,0.0,0.0,0.0,0.0,0.0,0.0,0.0,0.0,1.0,0.0,0.0,0.0,0.0,0.0,0.0,1.0,0.0,0.0,0.0,0.0,0.0,0.0,0.0,0.0,0.0,0.0,0.0,0.0,1.0,0.0,0.0,0.0,0.0,0.0,0.0,1.0,0.0,0.0,0.0,1.0,0.0,0.0,0.0,0.0,0.0,0.0,0.0,0.0,0.0,0.0,0.0,0.0,0.0,0.0,0.0,0.0,0.0,0.0,0.0,0.0,0.0,0.0,0.0,0.0,0.0,0.0,0.0,0.0,1.0,0.0,0.0,0.0,0.0,0.0,0.0,0.0,0.0,0.0,0.0,0.0,0.0,0.0]),\n",
       " LabeledPoint(0.0, [53.0,234721.0,7.0,0.0,0.0,40.0,0.0,0.0,0.0,1.0,0.0,0.0,0.0,0.0,0.0,0.0,0.0,0.0,0.0,0.0,0.0,0.0,0.0,0.0,1.0,0.0,0.0,0.0,0.0,0.0,0.0,0.0,0.0,0.0,0.0,0.0,0.0,1.0,0.0,0.0,0.0,1.0,0.0,0.0,0.0,0.0,0.0,0.0,0.0,0.0,0.0,0.0,0.0,0.0,0.0,0.0,0.0,0.0,1.0,0.0,0.0,0.0,0.0,1.0,0.0,1.0,0.0,0.0,0.0,0.0,0.0,0.0,0.0,0.0,0.0,0.0,0.0,0.0,0.0,0.0,0.0,0.0,0.0,0.0,0.0,0.0,0.0,0.0,0.0,0.0,0.0,0.0,0.0,0.0,1.0,0.0,0.0,0.0,0.0,0.0,0.0,0.0,0.0,0.0,0.0,0.0,0.0,0.0]),\n",
       " LabeledPoint(0.0, [28.0,338409.0,13.0,0.0,0.0,40.0,0.0,0.0,0.0,1.0,0.0,0.0,0.0,0.0,0.0,0.0,0.0,0.0,0.0,0.0,0.0,0.0,0.0,1.0,0.0,0.0,0.0,0.0,0.0,0.0,0.0,0.0,0.0,0.0,0.0,0.0,0.0,1.0,0.0,0.0,1.0,0.0,0.0,0.0,0.0,0.0,0.0,0.0,0.0,0.0,0.0,0.0,0.0,0.0,0.0,0.0,1.0,0.0,0.0,0.0,0.0,0.0,0.0,1.0,1.0,0.0,0.0,0.0,0.0,0.0,0.0,0.0,0.0,0.0,0.0,0.0,0.0,0.0,0.0,0.0,1.0,0.0,0.0,0.0,0.0,0.0,0.0,0.0,0.0,0.0,0.0,0.0,0.0,0.0,0.0,0.0,0.0,0.0,0.0,0.0,0.0,0.0,0.0,0.0,0.0,0.0,0.0,0.0])]"
      ]
     },
     "execution_count": 18,
     "metadata": {},
     "output_type": "execute_result"
    }
   ],
   "source": [
    "temp = df.rdd.map(lambda line:LabeledPoint(line[0],[line[1:]]))\n",
    "temp.take(5)"
   ]
  },
  {
   "cell_type": "code",
   "execution_count": 19,
   "metadata": {},
   "outputs": [
    {
     "name": "stdout",
     "output_type": "stream",
     "text": [
      "CPU times: user 3 µs, sys: 1 µs, total: 4 µs\n",
      "Wall time: 5.96 µs\n"
     ]
    }
   ],
   "source": [
    "%time\n",
    "(trainingData, testData) = temp.randomSplit([0.7, 0.3])"
   ]
  },
  {
   "cell_type": "code",
   "execution_count": 20,
   "metadata": {},
   "outputs": [
    {
     "name": "stdout",
     "output_type": "stream",
     "text": [
      "CPU times: user 2 µs, sys: 1 µs, total: 3 µs\n",
      "Wall time: 6.91 µs\n"
     ]
    },
    {
     "name": "stderr",
     "output_type": "stream",
     "text": [
      "\r",
      "[Stage 32:>                                                         (0 + 1) / 1]\r"
     ]
    },
    {
     "name": "stdout",
     "output_type": "stream",
     "text": [
      "22/10/12 11:12:09 WARN PythonUDFRunner: Detected deadlock while completing task 0.0 in stage 32 (TID 23): Attempting to kill Python Worker\n"
     ]
    },
    {
     "name": "stderr",
     "output_type": "stream",
     "text": [
      "                                                                                \r"
     ]
    }
   ],
   "source": [
    "%time\n",
    "model = DecisionTree.trainClassifier(\n",
    "    trainingData, \n",
    "    numClasses=2, \n",
    "    categoricalFeaturesInfo={},\n",
    "    impurity='entropy', \n",
    "    maxDepth=5, \n",
    "    maxBins=32)"
   ]
  },
  {
   "cell_type": "code",
   "execution_count": 21,
   "metadata": {},
   "outputs": [
    {
     "name": "stdout",
     "output_type": "stream",
     "text": [
      "CPU times: user 4 µs, sys: 2 µs, total: 6 µs\n",
      "Wall time: 9.06 µs\n",
      "DecisionTreeModel classifier of depth 5 with 27 nodes\n",
      "  If (feature 37 <= 0.5)\n",
      "   If (feature 3 <= 7833.0)\n",
      "    Predict: 0.0\n",
      "   Else (feature 3 > 7833.0)\n",
      "    If (feature 0 <= 19.5)\n",
      "     Predict: 0.0\n",
      "    Else (feature 0 > 19.5)\n",
      "     If (feature 0 <= 66.5)\n",
      "      Predict: 1.0\n",
      "     Else (feature 0 > 66.5)\n",
      "      If (feature 29 <= 0.5)\n",
      "       Predict: 1.0\n",
      "      Else (feature 29 > 0.5)\n",
      "       Predict: 0.0\n",
      "  Else (feature 37 > 0.5)\n",
      "   If (feature 2 <= 12.5)\n",
      "    If (feature 3 <= 3414.5)\n",
      "     Predict: 0.0\n",
      "    Else (feature 3 > 3414.5)\n",
      "     If (feature 3 <= 7833.0)\n",
      "      If (feature 5 <= 29.5)\n",
      "       Predict: 0.0\n",
      "      Else (feature 5 > 29.5)\n",
      "       Predict: 1.0\n",
      "     Else (feature 3 > 7833.0)\n",
      "      If (feature 2 <= 4.5)\n",
      "       Predict: 0.0\n",
      "      Else (feature 2 > 4.5)\n",
      "       Predict: 1.0\n",
      "   Else (feature 2 > 12.5)\n",
      "    If (feature 3 <= 3414.5)\n",
      "     If (feature 4 <= 1695.5)\n",
      "      If (feature 5 <= 30.5)\n",
      "       Predict: 0.0\n",
      "      Else (feature 5 > 30.5)\n",
      "       Predict: 1.0\n",
      "     Else (feature 4 > 1695.5)\n",
      "      Predict: 1.0\n",
      "    Else (feature 3 > 3414.5)\n",
      "     Predict: 1.0\n",
      "\n"
     ]
    }
   ],
   "source": [
    "%time\n",
    "print(model.toDebugString())"
   ]
  },
  {
   "cell_type": "code",
   "execution_count": 22,
   "metadata": {},
   "outputs": [
    {
     "name": "stdout",
     "output_type": "stream",
     "text": [
      "CPU times: user 3 µs, sys: 1 µs, total: 4 µs\n",
      "Wall time: 6.2 µs\n"
     ]
    },
    {
     "name": "stderr",
     "output_type": "stream",
     "text": [
      "[Stage 48:>                                                         (0 + 1) / 1]\r"
     ]
    },
    {
     "name": "stdout",
     "output_type": "stream",
     "text": [
      "Test Error = 0.16594157862026104\n",
      "Learned classification tree model:\n"
     ]
    },
    {
     "name": "stderr",
     "output_type": "stream",
     "text": [
      "\r",
      "                                                                                \r"
     ]
    }
   ],
   "source": [
    "%time\n",
    "predictions = model.predict(testData.map(lambda x: x.features))\n",
    "labelsAndPredictions = testData.map(lambda lp: lp.label).zip(predictions)\n",
    "testErr = labelsAndPredictions.filter(\n",
    "    lambda lp: lp[0] != lp[1]).count() / float(testData.count())\n",
    "print('Test Error = ' + str(testErr))\n",
    "print('Learned classification tree model:')\n"
   ]
  },
  {
   "cell_type": "code",
   "execution_count": 23,
   "metadata": {},
   "outputs": [],
   "source": [
    "from pyspark.mllib.evaluation import BinaryClassificationMetrics"
   ]
  },
  {
   "cell_type": "code",
   "execution_count": 24,
   "metadata": {},
   "outputs": [
    {
     "name": "stderr",
     "output_type": "stream",
     "text": [
      "/Users/marcelovasconcellos/opt/anaconda3/lib/python3.9/site-packages/pyspark/sql/context.py:157: FutureWarning: Deprecated in 3.0.0. Use SparkSession.builder.getOrCreate() instead.\n",
      "  warnings.warn(\n",
      "[Stage 50:>                                                         (0 + 1) / 1]\r"
     ]
    },
    {
     "name": "stdout",
     "output_type": "stream",
     "text": [
      "Area under PR = 0.433911372388986\n",
      "Area under ROC = 0.7750028162667568\n"
     ]
    },
    {
     "name": "stderr",
     "output_type": "stream",
     "text": [
      "\r",
      "                                                                                \r"
     ]
    }
   ],
   "source": [
    "# Instantiate metrics object\n",
    "metrics = BinaryClassificationMetrics(labelsAndPredictions)\n",
    "\n",
    "# Area under precision-recall curve\n",
    "print(\"Area under PR = %s\" % metrics.areaUnderPR)\n",
    "\n",
    "# Area under ROC curve\n",
    "print(\"Area under ROC = %s\" % metrics.areaUnderROC)"
   ]
  }
 ],
 "metadata": {
  "kernelspec": {
   "display_name": "Python 3 (ipykernel)",
   "language": "python",
   "name": "python3"
  },
  "language_info": {
   "codemirror_mode": {
    "name": "ipython",
    "version": 3
   },
   "file_extension": ".py",
   "mimetype": "text/x-python",
   "name": "python",
   "nbconvert_exporter": "python",
   "pygments_lexer": "ipython3",
   "version": "3.9.12"
  }
 },
 "nbformat": 4,
 "nbformat_minor": 1
}

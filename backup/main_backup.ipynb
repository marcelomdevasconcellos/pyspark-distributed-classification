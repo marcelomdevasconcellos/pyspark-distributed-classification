{
 "cells": [
  {
   "cell_type": "code",
   "execution_count": 1,
   "metadata": {},
   "outputs": [],
   "source": [
    "import pandas as pd\n",
    "from spark_session import LocalSparkSession\n",
    "from dataset import Dataset\n",
    "from mr_id3 import MapReduceIDR3\n",
    "from pyspark.mllib.tree import DecisionTree"
   ]
  },
  {
   "cell_type": "code",
   "execution_count": 2,
   "metadata": {},
   "outputs": [],
   "source": [
    "from log import log\n",
    "from sklearn.impute import SimpleImputer\n",
    "from pyspark.sql.functions import lit\n",
    "from pyspark.sql.functions import col, sum\n",
    "from pyspark.sql.functions import udf, col\n",
    "from pyspark.sql.types import IntegerType\n",
    "from pyspark.sql import SparkSession\n",
    "from pyspark import SparkContext\n",
    "from pyspark.mllib.tree import DecisionTree, DecisionTreeModel\n",
    "from pyspark.mllib.util import MLUtils\n",
    "from pyspark.mllib.regression import LabeledPoint\n",
    "from pyspark.sql.types import StructType, StructField, IntegerType, StringType, LongType\n",
    "from pyspark.ml.feature import StringIndexer\n",
    "from pyspark.ml.feature import VectorAssembler"
   ]
  },
  {
   "cell_type": "code",
   "execution_count": 3,
   "metadata": {},
   "outputs": [
    {
     "name": "stdout",
     "output_type": "stream",
     "text": [
      "CPU times: user 3 µs, sys: 1 µs, total: 4 µs\n",
      "Wall time: 6.2 µs\n"
     ]
    }
   ],
   "source": [
    "%time\n",
    "num_fields = [\n",
    "    'age', 'fnlwgt', 'education_num', 'capital_gain', 'capital_loss',\n",
    "    'hours_per_week', ]\n",
    "\n",
    "categorical_fields = [\n",
    "    'workclass', 'education',\n",
    "    'marital_status', 'occupation', 'relationship',\n",
    "    'race', 'sex', 'native_country', ]"
   ]
  },
  {
   "cell_type": "code",
   "execution_count": 4,
   "metadata": {},
   "outputs": [
    {
     "name": "stdout",
     "output_type": "stream",
     "text": [
      "CPU times: user 2 µs, sys: 0 ns, total: 2 µs\n",
      "Wall time: 5.96 µs\n"
     ]
    }
   ],
   "source": [
    "%time\n",
    "target = 'label'\n",
    "filename = 'dataset/adult.data'"
   ]
  },
  {
   "cell_type": "code",
   "execution_count": 5,
   "metadata": {},
   "outputs": [
    {
     "name": "stdout",
     "output_type": "stream",
     "text": [
      "CPU times: user 2 µs, sys: 1 µs, total: 3 µs\n",
      "Wall time: 5.96 µs\n"
     ]
    }
   ],
   "source": [
    "%time\n",
    "clusters = [1, 2, 3, 4, ]  # list(range(1, 2))\n",
    "multiply = [5, ]  # list(range(1, 2))\n",
    "metrics = []"
   ]
  },
  {
   "cell_type": "code",
   "execution_count": 6,
   "metadata": {},
   "outputs": [],
   "source": [
    "# spark = LocalSparkSession(2)\n",
    "# spark.start()"
   ]
  },
  {
   "cell_type": "code",
   "execution_count": 7,
   "metadata": {},
   "outputs": [],
   "source": [
    "# dataset = Dataset(spark.spark, filename, num_fields, categorical_fields, target)\n",
    "# dataset.load()\n",
    "# dataset.string_indexer()"
   ]
  },
  {
   "cell_type": "code",
   "execution_count": 8,
   "metadata": {},
   "outputs": [],
   "source": [
    "# 1/0"
   ]
  },
  {
   "cell_type": "code",
   "execution_count": 9,
   "metadata": {},
   "outputs": [],
   "source": [
    "# dataset.df.columns"
   ]
  },
  {
   "cell_type": "code",
   "execution_count": 10,
   "metadata": {},
   "outputs": [],
   "source": [
    "# 1/0"
   ]
  },
  {
   "cell_type": "code",
   "execution_count": 11,
   "metadata": {},
   "outputs": [],
   "source": [
    "# df = dataset.df"
   ]
  },
  {
   "cell_type": "code",
   "execution_count": 12,
   "metadata": {},
   "outputs": [],
   "source": [
    "# df.show(2)"
   ]
  },
  {
   "cell_type": "code",
   "execution_count": 13,
   "metadata": {},
   "outputs": [],
   "source": [
    "# from pyspark.mllib.linalg import Vectors\n",
    "# from pyspark.sql.types import Row"
   ]
  },
  {
   "cell_type": "code",
   "execution_count": 14,
   "metadata": {},
   "outputs": [],
   "source": [
    "# df.rdd.map(lambda r: Row(\n",
    "#         label = r.label,\n",
    "# #         age = r.age,\n",
    "# #         fnlwgt = r.fnlwgt,\n",
    "# #         education_num = r.education_num,\n",
    "# #         capital_gain = r.capital_gain,\n",
    "# #         capital_loss = r.capital_loss,\n",
    "# #         hours_per_week = r.hours_per_week,\n",
    "# #         workclass_idx = r.workclass_idx,\n",
    "# #         education_idx = r.education_idx,\n",
    "# #         marital_status_idx = r.marital_status_idx,\n",
    "# #         occupation_idx = r.occupation_idx,\n",
    "# #         relationship_idx = r.relationship_idx,\n",
    "# #         race_idx = r.race_idx,\n",
    "# #         sex_idx = r.sex_idx,\n",
    "# #         native_country_idx = r.native_country_idx,\n",
    "#         features = Vectors.dense(\n",
    "#             r.age, \n",
    "#             r.fnlwgt, \n",
    "#             r.education_num, \n",
    "#             r.capital_gain, \n",
    "#             r.capital_loss, \n",
    "#             r.hours_per_week, \n",
    "#             r.workclass_idx, \n",
    "#             r.education_idx, \n",
    "#             r.marital_status_idx, \n",
    "#             r.occupation_idx, \n",
    "#             r.relationship_idx, \n",
    "#             r.race_idx, \n",
    "#             r.sex_idx, \n",
    "#             r.native_country_idx\n",
    "#         ))\n",
    "#         ).toDF().show()"
   ]
  },
  {
   "cell_type": "code",
   "execution_count": 15,
   "metadata": {},
   "outputs": [],
   "source": [
    "# df.rdd.map(lambda r: Row(\n",
    "#                     label = r.label,\n",
    "#                     age = r.age,\n",
    "#                     features = Vectors.dense(r.label, r.age))\n",
    "#                     ).toDF().show()"
   ]
  },
  {
   "cell_type": "code",
   "execution_count": 16,
   "metadata": {},
   "outputs": [],
   "source": [
    "# df.withColumn(\"features\", Vectors.dense([df.label, df.age])) \\\n",
    "#   .show()"
   ]
  },
  {
   "cell_type": "code",
   "execution_count": null,
   "metadata": {},
   "outputs": [],
   "source": []
  },
  {
   "cell_type": "code",
   "execution_count": null,
   "metadata": {},
   "outputs": [],
   "source": []
  },
  {
   "cell_type": "code",
   "execution_count": null,
   "metadata": {},
   "outputs": [],
   "source": []
  },
  {
   "cell_type": "code",
   "execution_count": null,
   "metadata": {},
   "outputs": [],
   "source": []
  },
  {
   "cell_type": "code",
   "execution_count": 17,
   "metadata": {},
   "outputs": [],
   "source": [
    "# dataset.string_indexer()\n"
   ]
  },
  {
   "cell_type": "code",
   "execution_count": 18,
   "metadata": {},
   "outputs": [],
   "source": [
    "# dataset.assemble_features()"
   ]
  },
  {
   "cell_type": "code",
   "execution_count": 19,
   "metadata": {},
   "outputs": [],
   "source": [
    "# dataset.df.show(5)"
   ]
  },
  {
   "cell_type": "code",
   "execution_count": 20,
   "metadata": {},
   "outputs": [],
   "source": [
    "# dataset.df.toPandas().head(5)"
   ]
  },
  {
   "cell_type": "code",
   "execution_count": 21,
   "metadata": {},
   "outputs": [],
   "source": [
    "# 1/0"
   ]
  },
  {
   "cell_type": "code",
   "execution_count": 22,
   "metadata": {},
   "outputs": [],
   "source": [
    "# mr_id3 = MapReduceIDR3(dataset)"
   ]
  },
  {
   "cell_type": "code",
   "execution_count": 23,
   "metadata": {},
   "outputs": [],
   "source": [
    "# mr_id3.set_labeled_point()"
   ]
  },
  {
   "cell_type": "code",
   "execution_count": 24,
   "metadata": {},
   "outputs": [],
   "source": [
    "# mr_id3.split()"
   ]
  },
  {
   "cell_type": "code",
   "execution_count": 25,
   "metadata": {},
   "outputs": [],
   "source": [
    "# mr_id3.dataset.df.schema"
   ]
  },
  {
   "cell_type": "code",
   "execution_count": 26,
   "metadata": {},
   "outputs": [],
   "source": [
    "# mr_id3.training_data.toDF()"
   ]
  },
  {
   "cell_type": "code",
   "execution_count": 27,
   "metadata": {},
   "outputs": [],
   "source": [
    "# mr_id3.train()"
   ]
  },
  {
   "cell_type": "code",
   "execution_count": 28,
   "metadata": {},
   "outputs": [],
   "source": [
    "# mr_id3.model = DecisionTree.trainClassifier(\n",
    "#             mr_id3.training_data,\n",
    "#             numClasses=2,\n",
    "#             categoricalFeaturesInfo={},\n",
    "#             impurity='entropy',\n",
    "#             maxDepth=5,\n",
    "#             maxBins=42,\n",
    "#         )"
   ]
  },
  {
   "cell_type": "code",
   "execution_count": 29,
   "metadata": {},
   "outputs": [],
   "source": [
    "# mr_id3.predictions = mr_id3.model.predict(\n",
    "#             mr_id3.test_data.map(lambda x: x.features))"
   ]
  },
  {
   "cell_type": "code",
   "execution_count": 30,
   "metadata": {},
   "outputs": [],
   "source": [
    "# labels_and_predictions = mr_id3.test_data.map(\n",
    "#             lambda lp: lp.label).zip(mr_id3.predictions)"
   ]
  },
  {
   "cell_type": "code",
   "execution_count": 31,
   "metadata": {},
   "outputs": [],
   "source": [
    "# dfl = labels_and_predictions.toDF()\n",
    "# dfl.printSchema()\n",
    "# dfl.show()"
   ]
  },
  {
   "cell_type": "code",
   "execution_count": 32,
   "metadata": {},
   "outputs": [],
   "source": [
    "# 1/0 #labels_and_predictions"
   ]
  },
  {
   "cell_type": "code",
   "execution_count": 33,
   "metadata": {},
   "outputs": [],
   "source": [
    "# mr_id3.errors = labels_and_predictions.filter(\n",
    "#             lambda lp: lp[0] != lp[1]).count() / float(mr_id3.test_data.count())"
   ]
  },
  {
   "cell_type": "code",
   "execution_count": 34,
   "metadata": {},
   "outputs": [],
   "source": [
    "# metrics = BinaryClassificationMetrics(labels_and_predictions)"
   ]
  },
  {
   "cell_type": "code",
   "execution_count": 35,
   "metadata": {},
   "outputs": [],
   "source": [
    "# from pyspark.mllib.evaluation import BinaryClassificationMetrics"
   ]
  },
  {
   "cell_type": "code",
   "execution_count": 36,
   "metadata": {},
   "outputs": [],
   "source": [
    "# mr_id3.predict()"
   ]
  },
  {
   "cell_type": "code",
   "execution_count": null,
   "metadata": {},
   "outputs": [],
   "source": []
  },
  {
   "cell_type": "code",
   "execution_count": 37,
   "metadata": {},
   "outputs": [],
   "source": [
    "# mr_id3 = MapReduceIDR3(dataset)"
   ]
  },
  {
   "cell_type": "code",
   "execution_count": 38,
   "metadata": {},
   "outputs": [],
   "source": [
    "# dataset.df.show(5)"
   ]
  },
  {
   "cell_type": "code",
   "execution_count": 39,
   "metadata": {},
   "outputs": [],
   "source": [
    "# 1/0"
   ]
  },
  {
   "cell_type": "code",
   "execution_count": 40,
   "metadata": {
    "scrolled": false
   },
   "outputs": [
    {
     "name": "stdout",
     "output_type": "stream",
     "text": [
      "CPU times: user 3 µs, sys: 1 µs, total: 4 µs\n",
      "Wall time: 5.96 µs\n"
     ]
    },
    {
     "name": "stderr",
     "output_type": "stream",
     "text": [
      "Setting default log level to \"WARN\".\n",
      "To adjust logging level use sc.setLogLevel(newLevel). For SparkR, use setLogLevel(newLevel).\n"
     ]
    },
    {
     "name": "stdout",
     "output_type": "stream",
     "text": [
      "22/10/14 07:45:03 WARN NativeCodeLoader: Unable to load native-hadoop library for your platform... using builtin-java classes where applicable\n",
      "22/10/14 07:45:08 WARN package: Truncated the string representation of a plan since it was too large. This behavior can be adjusted by setting 'spark.sql.debug.maxToStringFields'.\n"
     ]
    },
    {
     "name": "stderr",
     "output_type": "stream",
     "text": [
      "                                                                                \r"
     ]
    },
    {
     "name": "stdout",
     "output_type": "stream",
     "text": [
      "22/10/14 07:45:23 WARN DAGScheduler: Broadcasting large task binary with size 1147.2 KiB\n"
     ]
    },
    {
     "name": "stderr",
     "output_type": "stream",
     "text": [
      "\r",
      "[Stage 24:>                                                         (0 + 1) / 1]\r"
     ]
    },
    {
     "name": "stdout",
     "output_type": "stream",
     "text": [
      "22/10/14 07:45:28 WARN PythonUDFRunner: Detected deadlock while completing task 0.0 in stage 24 (TID 16): Attempting to kill Python Worker\n"
     ]
    },
    {
     "name": "stderr",
     "output_type": "stream",
     "text": [
      "\r",
      "                                                                                \r"
     ]
    },
    {
     "name": "stdout",
     "output_type": "stream",
     "text": [
      "22/10/14 07:45:28 WARN DAGScheduler: Broadcasting large task binary with size 1148.2 KiB\n"
     ]
    },
    {
     "name": "stderr",
     "output_type": "stream",
     "text": [
      "                                                                                \r"
     ]
    },
    {
     "name": "stdout",
     "output_type": "stream",
     "text": [
      "22/10/14 07:45:33 WARN DAGScheduler: Broadcasting large task binary with size 1148.2 KiB\n"
     ]
    },
    {
     "name": "stderr",
     "output_type": "stream",
     "text": [
      "[Stage 26:===================================>                    (20 + 1) / 32]\r"
     ]
    },
    {
     "name": "stdout",
     "output_type": "stream",
     "text": [
      "22/10/14 07:46:43 WARN MemoryStore: Not enough space to cache rdd_279_20 in memory! (computed 13.5 MiB so far)\n",
      "22/10/14 07:46:43 WARN BlockManager: Persisting block rdd_279_20 to disk instead.\n",
      "22/10/14 07:46:44 WARN MemoryStore: Not enough space to cache rdd_279_20 in memory! (computed 13.5 MiB so far)\n"
     ]
    },
    {
     "name": "stderr",
     "output_type": "stream",
     "text": [
      "\r",
      "[Stage 26:====================================>                   (21 + 1) / 32]\r"
     ]
    },
    {
     "name": "stdout",
     "output_type": "stream",
     "text": [
      "22/10/14 07:46:47 WARN MemoryStore: Not enough space to cache rdd_279_21 in memory! (computed 13.5 MiB so far)\n",
      "22/10/14 07:46:47 WARN BlockManager: Persisting block rdd_279_21 to disk instead.\n",
      "22/10/14 07:46:48 WARN MemoryStore: Not enough space to cache rdd_279_21 in memory! (computed 13.5 MiB so far)\n"
     ]
    },
    {
     "name": "stderr",
     "output_type": "stream",
     "text": [
      "\r",
      "[Stage 26:======================================>                 (22 + 1) / 32]\r"
     ]
    },
    {
     "name": "stdout",
     "output_type": "stream",
     "text": [
      "22/10/14 07:46:51 WARN MemoryStore: Not enough space to cache rdd_279_22 in memory! (computed 13.5 MiB so far)\n",
      "22/10/14 07:46:51 WARN BlockManager: Persisting block rdd_279_22 to disk instead.\n",
      "22/10/14 07:46:52 WARN MemoryStore: Not enough space to cache rdd_279_22 in memory! (computed 13.5 MiB so far)\n"
     ]
    },
    {
     "name": "stderr",
     "output_type": "stream",
     "text": [
      "\r",
      "[Stage 26:========================================>               (23 + 1) / 32]\r"
     ]
    },
    {
     "name": "stdout",
     "output_type": "stream",
     "text": [
      "22/10/14 07:46:55 WARN MemoryStore: Not enough space to cache rdd_279_23 in memory! (computed 13.5 MiB so far)\n",
      "22/10/14 07:46:55 WARN BlockManager: Persisting block rdd_279_23 to disk instead.\n",
      "22/10/14 07:46:56 WARN MemoryStore: Not enough space to cache rdd_279_23 in memory! (computed 13.5 MiB so far)\n"
     ]
    },
    {
     "name": "stderr",
     "output_type": "stream",
     "text": [
      "\r",
      "[Stage 26:==========================================>             (24 + 1) / 32]\r"
     ]
    },
    {
     "name": "stdout",
     "output_type": "stream",
     "text": [
      "22/10/14 07:46:59 WARN MemoryStore: Not enough space to cache rdd_279_24 in memory! (computed 13.5 MiB so far)\n",
      "22/10/14 07:46:59 WARN BlockManager: Persisting block rdd_279_24 to disk instead.\n",
      "22/10/14 07:47:00 WARN MemoryStore: Not enough space to cache rdd_279_24 in memory! (computed 13.5 MiB so far)\n"
     ]
    },
    {
     "name": "stderr",
     "output_type": "stream",
     "text": [
      "\r",
      "[Stage 26:===========================================>            (25 + 1) / 32]\r"
     ]
    },
    {
     "name": "stdout",
     "output_type": "stream",
     "text": [
      "22/10/14 07:47:02 WARN MemoryStore: Not enough space to cache rdd_279_25 in memory! (computed 13.5 MiB so far)\n",
      "22/10/14 07:47:02 WARN BlockManager: Persisting block rdd_279_25 to disk instead.\n",
      "22/10/14 07:47:03 WARN MemoryStore: Not enough space to cache rdd_279_25 in memory! (computed 13.5 MiB so far)\n"
     ]
    },
    {
     "name": "stderr",
     "output_type": "stream",
     "text": [
      "\r",
      "[Stage 26:=============================================>          (26 + 1) / 32]\r"
     ]
    },
    {
     "name": "stdout",
     "output_type": "stream",
     "text": [
      "22/10/14 07:47:06 WARN MemoryStore: Not enough space to cache rdd_279_26 in memory! (computed 13.5 MiB so far)\n",
      "22/10/14 07:47:06 WARN BlockManager: Persisting block rdd_279_26 to disk instead.\n",
      "22/10/14 07:47:07 WARN MemoryStore: Not enough space to cache rdd_279_26 in memory! (computed 13.5 MiB so far)\n"
     ]
    },
    {
     "name": "stderr",
     "output_type": "stream",
     "text": [
      "\r",
      "[Stage 26:===============================================>        (27 + 1) / 32]\r"
     ]
    },
    {
     "name": "stdout",
     "output_type": "stream",
     "text": [
      "22/10/14 07:47:09 WARN MemoryStore: Not enough space to cache rdd_279_27 in memory! (computed 13.5 MiB so far)\n",
      "22/10/14 07:47:09 WARN BlockManager: Persisting block rdd_279_27 to disk instead.\n",
      "22/10/14 07:47:10 WARN MemoryStore: Not enough space to cache rdd_279_27 in memory! (computed 13.5 MiB so far)\n"
     ]
    },
    {
     "name": "stderr",
     "output_type": "stream",
     "text": [
      "\r",
      "[Stage 26:=================================================>      (28 + 1) / 32]\r"
     ]
    },
    {
     "name": "stdout",
     "output_type": "stream",
     "text": [
      "22/10/14 07:47:13 WARN MemoryStore: Not enough space to cache rdd_279_28 in memory! (computed 13.5 MiB so far)\n",
      "22/10/14 07:47:13 WARN BlockManager: Persisting block rdd_279_28 to disk instead.\n",
      "22/10/14 07:47:14 WARN MemoryStore: Not enough space to cache rdd_279_28 in memory! (computed 13.5 MiB so far)\n"
     ]
    },
    {
     "name": "stderr",
     "output_type": "stream",
     "text": [
      "\r",
      "[Stage 26:==================================================>     (29 + 1) / 32]\r"
     ]
    },
    {
     "name": "stdout",
     "output_type": "stream",
     "text": [
      "22/10/14 07:47:17 WARN MemoryStore: Not enough space to cache rdd_279_29 in memory! (computed 13.5 MiB so far)\n",
      "22/10/14 07:47:17 WARN BlockManager: Persisting block rdd_279_29 to disk instead.\n",
      "22/10/14 07:47:18 WARN MemoryStore: Not enough space to cache rdd_279_29 in memory! (computed 13.5 MiB so far)\n"
     ]
    },
    {
     "name": "stderr",
     "output_type": "stream",
     "text": [
      "\r",
      "[Stage 26:====================================================>   (30 + 1) / 32]\r"
     ]
    },
    {
     "name": "stdout",
     "output_type": "stream",
     "text": [
      "22/10/14 07:47:20 WARN MemoryStore: Not enough space to cache rdd_279_30 in memory! (computed 13.5 MiB so far)\n",
      "22/10/14 07:47:20 WARN BlockManager: Persisting block rdd_279_30 to disk instead.\n",
      "22/10/14 07:47:21 WARN MemoryStore: Not enough space to cache rdd_279_30 in memory! (computed 13.5 MiB so far)\n"
     ]
    },
    {
     "name": "stderr",
     "output_type": "stream",
     "text": [
      "\r",
      "[Stage 26:======================================================> (31 + 1) / 32]\r"
     ]
    },
    {
     "name": "stdout",
     "output_type": "stream",
     "text": [
      "22/10/14 07:47:24 WARN MemoryStore: Not enough space to cache rdd_279_31 in memory! (computed 13.5 MiB so far)\n",
      "22/10/14 07:47:24 WARN BlockManager: Persisting block rdd_279_31 to disk instead.\n",
      "22/10/14 07:47:25 WARN MemoryStore: Not enough space to cache rdd_279_31 in memory! (computed 13.5 MiB so far)\n",
      "22/10/14 07:47:25 WARN DAGScheduler: Broadcasting large task binary with size 1153.7 KiB\n"
     ]
    },
    {
     "name": "stderr",
     "output_type": "stream",
     "text": [
      "[Stage 27:====================================>                   (21 + 1) / 32]\r"
     ]
    },
    {
     "name": "stdout",
     "output_type": "stream",
     "text": [
      "22/10/14 07:47:26 WARN MemoryStore: Not enough space to cache rdd_279_21 in memory! (computed 13.5 MiB so far)\n",
      "22/10/14 07:47:26 WARN MemoryStore: Not enough space to cache rdd_279_22 in memory! (computed 13.5 MiB so far)\n"
     ]
    },
    {
     "name": "stderr",
     "output_type": "stream",
     "text": [
      "\r",
      "[Stage 27:======================================>                 (22 + 1) / 32]\r"
     ]
    },
    {
     "name": "stdout",
     "output_type": "stream",
     "text": [
      "22/10/14 07:47:26 WARN MemoryStore: Not enough space to cache rdd_279_23 in memory! (computed 13.5 MiB so far)\n",
      "22/10/14 07:47:27 WARN MemoryStore: Not enough space to cache rdd_279_24 in memory! (computed 13.5 MiB so far)\n"
     ]
    },
    {
     "name": "stderr",
     "output_type": "stream",
     "text": [
      "\r",
      "[Stage 27:==========================================>             (24 + 1) / 32]\r"
     ]
    },
    {
     "name": "stdout",
     "output_type": "stream",
     "text": [
      "22/10/14 07:47:27 WARN MemoryStore: Not enough space to cache rdd_279_25 in memory! (computed 13.5 MiB so far)\n",
      "22/10/14 07:47:27 WARN MemoryStore: Not enough space to cache rdd_279_26 in memory! (computed 13.5 MiB so far)\n"
     ]
    },
    {
     "name": "stderr",
     "output_type": "stream",
     "text": [
      "\r",
      "[Stage 27:=============================================>          (26 + 1) / 32]\r"
     ]
    },
    {
     "name": "stdout",
     "output_type": "stream",
     "text": [
      "22/10/14 07:47:27 WARN MemoryStore: Not enough space to cache rdd_279_27 in memory! (computed 13.5 MiB so far)\n",
      "22/10/14 07:47:27 WARN MemoryStore: Not enough space to cache rdd_279_28 in memory! (computed 13.5 MiB so far)\n"
     ]
    },
    {
     "name": "stderr",
     "output_type": "stream",
     "text": [
      "\r",
      "[Stage 27:=================================================>      (28 + 1) / 32]\r"
     ]
    },
    {
     "name": "stdout",
     "output_type": "stream",
     "text": [
      "22/10/14 07:47:27 WARN MemoryStore: Not enough space to cache rdd_279_29 in memory! (computed 13.5 MiB so far)\n",
      "22/10/14 07:47:27 WARN MemoryStore: Not enough space to cache rdd_279_30 in memory! (computed 13.5 MiB so far)\n"
     ]
    },
    {
     "name": "stderr",
     "output_type": "stream",
     "text": [
      "[Stage 27:======================================================> (31 + 1) / 32]\r"
     ]
    },
    {
     "name": "stdout",
     "output_type": "stream",
     "text": [
      "22/10/14 07:47:27 WARN MemoryStore: Not enough space to cache rdd_279_31 in memory! (computed 13.5 MiB so far)\n"
     ]
    },
    {
     "name": "stderr",
     "output_type": "stream",
     "text": [
      "\r",
      "[Stage 28:===============================================>        (27 + 1) / 32]\r",
      "\r",
      "                                                                                \r"
     ]
    },
    {
     "name": "stdout",
     "output_type": "stream",
     "text": [
      "22/10/14 07:47:28 WARN DAGScheduler: Broadcasting large task binary with size 1156.4 KiB\n"
     ]
    },
    {
     "name": "stderr",
     "output_type": "stream",
     "text": [
      "                                                                                \r"
     ]
    },
    {
     "name": "stdout",
     "output_type": "stream",
     "text": [
      "22/10/14 07:47:36 WARN DAGScheduler: Broadcasting large task binary with size 1157.2 KiB\n"
     ]
    },
    {
     "name": "stderr",
     "output_type": "stream",
     "text": [
      "                                                                                \r"
     ]
    },
    {
     "name": "stdout",
     "output_type": "stream",
     "text": [
      "22/10/14 07:47:40 WARN DAGScheduler: Broadcasting large task binary with size 1157.6 KiB\n"
     ]
    },
    {
     "name": "stderr",
     "output_type": "stream",
     "text": [
      "                                                                                \r"
     ]
    },
    {
     "name": "stdout",
     "output_type": "stream",
     "text": [
      "22/10/14 07:47:41 WARN DAGScheduler: Broadcasting large task binary with size 1158.7 KiB\n"
     ]
    },
    {
     "name": "stderr",
     "output_type": "stream",
     "text": [
      "                                                                                \r"
     ]
    },
    {
     "name": "stdout",
     "output_type": "stream",
     "text": [
      "22/10/14 07:47:43 WARN DAGScheduler: Broadcasting large task binary with size 1160.7 KiB\n"
     ]
    },
    {
     "name": "stderr",
     "output_type": "stream",
     "text": [
      "                                                                                \r"
     ]
    },
    {
     "name": "stdout",
     "output_type": "stream",
     "text": [
      "22/10/14 07:47:44 WARN DAGScheduler: Broadcasting large task binary with size 1162.5 KiB\n"
     ]
    },
    {
     "name": "stderr",
     "output_type": "stream",
     "text": [
      "                                                                                \r"
     ]
    },
    {
     "name": "stdout",
     "output_type": "stream",
     "text": [
      "22/10/14 07:49:45 WARN DAGScheduler: Broadcasting large task binary with size 1148.4 KiB\n"
     ]
    },
    {
     "name": "stderr",
     "output_type": "stream",
     "text": [
      "/Users/marcelovasconcellos/opt/anaconda3/lib/python3.9/site-packages/pyspark/sql/context.py:157: FutureWarning: Deprecated in 3.0.0. Use SparkSession.builder.getOrCreate() instead.\n",
      "  warnings.warn(\n"
     ]
    },
    {
     "name": "stdout",
     "output_type": "stream",
     "text": [
      "22/10/14 07:51:34 WARN DAGScheduler: Broadcasting large task binary with size 1160.3 KiB\n"
     ]
    },
    {
     "name": "stderr",
     "output_type": "stream",
     "text": [
      "                                                                                \r"
     ]
    },
    {
     "name": "stdout",
     "output_type": "stream",
     "text": [
      "22/10/14 07:51:38 WARN DAGScheduler: Broadcasting large task binary with size 1172.3 KiB\n"
     ]
    },
    {
     "name": "stderr",
     "output_type": "stream",
     "text": [
      "                                                                                \r"
     ]
    },
    {
     "name": "stdout",
     "output_type": "stream",
     "text": [
      "22/10/14 07:53:52 WARN DAGScheduler: Broadcasting large task binary with size 1147.2 KiB\n"
     ]
    },
    {
     "name": "stderr",
     "output_type": "stream",
     "text": [
      "\r",
      "[Stage 24:>                                                         (0 + 1) / 1]\r"
     ]
    },
    {
     "name": "stdout",
     "output_type": "stream",
     "text": [
      "22/10/14 07:53:57 WARN PythonUDFRunner: Detected deadlock while completing task 0.0 in stage 24 (TID 16): Attempting to kill Python Worker\n",
      "22/10/14 07:53:57 WARN DAGScheduler: Broadcasting large task binary with size 1148.2 KiB\n"
     ]
    },
    {
     "name": "stderr",
     "output_type": "stream",
     "text": [
      "                                                                                \r"
     ]
    },
    {
     "name": "stdout",
     "output_type": "stream",
     "text": [
      "22/10/14 07:54:00 WARN DAGScheduler: Broadcasting large task binary with size 1148.2 KiB\n"
     ]
    },
    {
     "name": "stderr",
     "output_type": "stream",
     "text": [
      "[Stage 26:=================================>                      (19 + 2) / 32]\r"
     ]
    },
    {
     "name": "stdout",
     "output_type": "stream",
     "text": [
      "22/10/14 07:54:39 WARN MemoryStore: Not enough space to cache rdd_279_20 in memory! (computed 13.5 MiB so far)\n",
      "22/10/14 07:54:39 WARN BlockManager: Persisting block rdd_279_20 to disk instead.\n"
     ]
    },
    {
     "name": "stderr",
     "output_type": "stream",
     "text": [
      "\r",
      "[Stage 26:===================================>                    (20 + 2) / 32]\r"
     ]
    },
    {
     "name": "stdout",
     "output_type": "stream",
     "text": [
      "22/10/14 07:54:40 WARN MemoryStore: Not enough space to cache rdd_279_20 in memory! (computed 13.5 MiB so far)\n"
     ]
    },
    {
     "name": "stderr",
     "output_type": "stream",
     "text": [
      "\r",
      "[Stage 26:====================================>                   (21 + 2) / 32]\r"
     ]
    },
    {
     "name": "stdout",
     "output_type": "stream",
     "text": [
      "22/10/14 07:54:42 WARN MemoryStore: Not enough space to cache rdd_279_21 in memory! (computed 9.0 MiB so far)\n",
      "22/10/14 07:54:42 WARN BlockManager: Persisting block rdd_279_21 to disk instead.\n",
      "22/10/14 07:54:43 WARN MemoryStore: Not enough space to cache rdd_279_22 in memory! (computed 13.5 MiB so far)\n",
      "22/10/14 07:54:43 WARN BlockManager: Persisting block rdd_279_22 to disk instead.\n",
      "22/10/14 07:54:43 WARN MemoryStore: Not enough space to cache rdd_279_21 in memory! (computed 13.5 MiB so far)\n"
     ]
    },
    {
     "name": "stderr",
     "output_type": "stream",
     "text": [
      "\r",
      "[Stage 26:======================================>                 (22 + 2) / 32]\r"
     ]
    },
    {
     "name": "stdout",
     "output_type": "stream",
     "text": [
      "22/10/14 07:54:44 WARN MemoryStore: Not enough space to cache rdd_279_22 in memory! (computed 13.5 MiB so far)\n"
     ]
    },
    {
     "name": "stderr",
     "output_type": "stream",
     "text": [
      "\r",
      "[Stage 26:========================================>               (23 + 2) / 32]\r"
     ]
    },
    {
     "name": "stdout",
     "output_type": "stream",
     "text": [
      "22/10/14 07:54:46 WARN MemoryStore: Not enough space to cache rdd_279_23 in memory! (computed 9.0 MiB so far)\n",
      "22/10/14 07:54:46 WARN BlockManager: Persisting block rdd_279_23 to disk instead.\n",
      "22/10/14 07:54:47 WARN MemoryStore: Not enough space to cache rdd_279_24 in memory! (computed 13.5 MiB so far)\n",
      "22/10/14 07:54:47 WARN BlockManager: Persisting block rdd_279_24 to disk instead.\n",
      "22/10/14 07:54:47 WARN MemoryStore: Not enough space to cache rdd_279_23 in memory! (computed 13.5 MiB so far)\n"
     ]
    },
    {
     "name": "stderr",
     "output_type": "stream",
     "text": [
      "\r",
      "[Stage 26:==========================================>             (24 + 2) / 32]\r"
     ]
    },
    {
     "name": "stdout",
     "output_type": "stream",
     "text": [
      "22/10/14 07:54:48 WARN MemoryStore: Not enough space to cache rdd_279_24 in memory! (computed 9.0 MiB so far)\n"
     ]
    },
    {
     "name": "stderr",
     "output_type": "stream",
     "text": [
      "\r",
      "[Stage 26:===========================================>            (25 + 2) / 32]\r"
     ]
    },
    {
     "name": "stdout",
     "output_type": "stream",
     "text": [
      "22/10/14 07:54:50 WARN MemoryStore: Not enough space to cache rdd_279_25 in memory! (computed 9.0 MiB so far)\n",
      "22/10/14 07:54:50 WARN BlockManager: Persisting block rdd_279_25 to disk instead.\n",
      "22/10/14 07:54:51 WARN MemoryStore: Not enough space to cache rdd_279_26 in memory! (computed 13.5 MiB so far)\n",
      "22/10/14 07:54:51 WARN BlockManager: Persisting block rdd_279_26 to disk instead.\n",
      "22/10/14 07:54:51 WARN MemoryStore: Not enough space to cache rdd_279_25 in memory! (computed 13.5 MiB so far)\n"
     ]
    },
    {
     "name": "stderr",
     "output_type": "stream",
     "text": [
      "\r",
      "[Stage 26:=============================================>          (26 + 2) / 32]\r"
     ]
    },
    {
     "name": "stdout",
     "output_type": "stream",
     "text": [
      "22/10/14 07:54:52 WARN MemoryStore: Not enough space to cache rdd_279_26 in memory! (computed 9.0 MiB so far)\n"
     ]
    },
    {
     "name": "stderr",
     "output_type": "stream",
     "text": [
      "\r",
      "[Stage 26:===============================================>        (27 + 2) / 32]\r"
     ]
    },
    {
     "name": "stdout",
     "output_type": "stream",
     "text": [
      "22/10/14 07:54:54 WARN MemoryStore: Not enough space to cache rdd_279_27 in memory! (computed 9.0 MiB so far)\n",
      "22/10/14 07:54:54 WARN BlockManager: Persisting block rdd_279_27 to disk instead.\n",
      "22/10/14 07:54:55 WARN MemoryStore: Not enough space to cache rdd_279_28 in memory! (computed 13.5 MiB so far)\n",
      "22/10/14 07:54:55 WARN BlockManager: Persisting block rdd_279_28 to disk instead.\n",
      "22/10/14 07:54:55 WARN MemoryStore: Not enough space to cache rdd_279_27 in memory! (computed 13.5 MiB so far)\n"
     ]
    },
    {
     "name": "stderr",
     "output_type": "stream",
     "text": [
      "\r",
      "[Stage 26:=================================================>      (28 + 2) / 32]\r"
     ]
    },
    {
     "name": "stdout",
     "output_type": "stream",
     "text": [
      "22/10/14 07:54:56 WARN MemoryStore: Not enough space to cache rdd_279_28 in memory! (computed 13.5 MiB so far)\n"
     ]
    },
    {
     "name": "stderr",
     "output_type": "stream",
     "text": [
      "\r",
      "[Stage 26:==================================================>     (29 + 2) / 32]\r"
     ]
    },
    {
     "name": "stdout",
     "output_type": "stream",
     "text": [
      "22/10/14 07:54:58 WARN MemoryStore: Not enough space to cache rdd_279_29 in memory! (computed 9.0 MiB so far)\n",
      "22/10/14 07:54:58 WARN BlockManager: Persisting block rdd_279_29 to disk instead.\n",
      "22/10/14 07:54:59 WARN MemoryStore: Not enough space to cache rdd_279_30 in memory! (computed 13.5 MiB so far)\n",
      "22/10/14 07:54:59 WARN BlockManager: Persisting block rdd_279_30 to disk instead.\n",
      "22/10/14 07:55:00 WARN MemoryStore: Not enough space to cache rdd_279_29 in memory! (computed 13.5 MiB so far)\n"
     ]
    },
    {
     "name": "stderr",
     "output_type": "stream",
     "text": [
      "\r",
      "[Stage 26:====================================================>   (30 + 2) / 32]\r"
     ]
    },
    {
     "name": "stdout",
     "output_type": "stream",
     "text": [
      "22/10/14 07:55:00 WARN MemoryStore: Not enough space to cache rdd_279_30 in memory! (computed 9.0 MiB so far)\n"
     ]
    },
    {
     "name": "stderr",
     "output_type": "stream",
     "text": [
      "                                                                                \r"
     ]
    },
    {
     "name": "stdout",
     "output_type": "stream",
     "text": [
      "22/10/14 07:55:03 WARN DAGScheduler: Broadcasting large task binary with size 1153.6 KiB\n",
      "22/10/14 07:55:04 WARN MemoryStore: Not enough space to cache rdd_279_21 in memory! (computed 3.9 MiB so far)\n",
      "22/10/14 07:55:04 WARN MemoryStore: Not enough space to cache rdd_279_20 in memory! (computed 9.0 MiB so far)\n",
      "22/10/14 07:55:04 WARN MemoryStore: Not enough space to cache rdd_279_22 in memory! (computed 6.0 MiB so far)\n",
      "22/10/14 07:55:04 WARN MemoryStore: Not enough space to cache rdd_279_23 in memory! (computed 6.0 MiB so far)\n"
     ]
    },
    {
     "name": "stderr",
     "output_type": "stream",
     "text": [
      "[Stage 27:==========================================>             (24 + 2) / 32]\r"
     ]
    },
    {
     "name": "stdout",
     "output_type": "stream",
     "text": [
      "22/10/14 07:55:04 WARN MemoryStore: Not enough space to cache rdd_279_24 in memory! (computed 6.0 MiB so far)\n",
      "22/10/14 07:55:04 WARN MemoryStore: Not enough space to cache rdd_279_25 in memory! (computed 6.0 MiB so far)\n",
      "22/10/14 07:55:04 WARN MemoryStore: Not enough space to cache rdd_279_26 in memory! (computed 6.0 MiB so far)\n",
      "22/10/14 07:55:04 WARN MemoryStore: Not enough space to cache rdd_279_27 in memory! (computed 6.0 MiB so far)\n"
     ]
    },
    {
     "name": "stderr",
     "output_type": "stream",
     "text": [
      "\r",
      "[Stage 27:=============================================>          (26 + 2) / 32]\r"
     ]
    },
    {
     "name": "stdout",
     "output_type": "stream",
     "text": [
      "22/10/14 07:55:04 WARN MemoryStore: Not enough space to cache rdd_279_28 in memory! (computed 6.0 MiB so far)\n",
      "22/10/14 07:55:04 WARN MemoryStore: Not enough space to cache rdd_279_29 in memory! (computed 6.0 MiB so far)\n",
      "22/10/14 07:55:05 WARN MemoryStore: Not enough space to cache rdd_279_30 in memory! (computed 13.5 MiB so far)\n"
     ]
    },
    {
     "name": "stderr",
     "output_type": "stream",
     "text": [
      "                                                                                \r"
     ]
    },
    {
     "name": "stdout",
     "output_type": "stream",
     "text": [
      "22/10/14 07:55:05 WARN DAGScheduler: Broadcasting large task binary with size 1156.4 KiB\n"
     ]
    },
    {
     "name": "stderr",
     "output_type": "stream",
     "text": [
      "[Stage 29:=================================>                      (19 + 2) / 32]\r"
     ]
    },
    {
     "name": "stdout",
     "output_type": "stream",
     "text": [
      "22/10/14 07:55:08 WARN MemoryStore: Not enough space to cache rdd_279_21 in memory! (computed 9.0 MiB so far)\n",
      "22/10/14 07:55:08 WARN MemoryStore: Not enough space to cache rdd_279_20 in memory! (computed 20.5 MiB so far)\n"
     ]
    },
    {
     "name": "stderr",
     "output_type": "stream",
     "text": [
      "[Stage 29:=================================================>      (28 + 2) / 32]\r"
     ]
    },
    {
     "name": "stdout",
     "output_type": "stream",
     "text": [
      "22/10/14 07:55:10 WARN MemoryStore: Not enough space to cache rdd_279_29 in memory! (computed 9.0 MiB so far)\n"
     ]
    },
    {
     "name": "stderr",
     "output_type": "stream",
     "text": [
      "\r",
      "[Stage 29:====================================================>   (30 + 2) / 32]\r"
     ]
    },
    {
     "name": "stdout",
     "output_type": "stream",
     "text": [
      "22/10/14 07:55:10 WARN MemoryStore: Not enough space to cache rdd_279_31 in memory! (computed 9.0 MiB so far)\n"
     ]
    },
    {
     "name": "stderr",
     "output_type": "stream",
     "text": [
      "\r",
      "                                                                                \r"
     ]
    },
    {
     "name": "stdout",
     "output_type": "stream",
     "text": [
      "22/10/14 07:55:10 WARN DAGScheduler: Broadcasting large task binary with size 1157.2 KiB\n"
     ]
    },
    {
     "name": "stderr",
     "output_type": "stream",
     "text": [
      "                                                                                \r"
     ]
    },
    {
     "name": "stdout",
     "output_type": "stream",
     "text": [
      "22/10/14 07:55:13 WARN DAGScheduler: Broadcasting large task binary with size 1157.6 KiB\n"
     ]
    },
    {
     "name": "stderr",
     "output_type": "stream",
     "text": [
      "                                                                                \r"
     ]
    },
    {
     "name": "stdout",
     "output_type": "stream",
     "text": [
      "22/10/14 07:55:13 WARN DAGScheduler: Broadcasting large task binary with size 1158.7 KiB\n"
     ]
    },
    {
     "name": "stderr",
     "output_type": "stream",
     "text": [
      "                                                                                \r"
     ]
    },
    {
     "name": "stdout",
     "output_type": "stream",
     "text": [
      "22/10/14 07:55:14 WARN DAGScheduler: Broadcasting large task binary with size 1160.4 KiB\n"
     ]
    },
    {
     "name": "stderr",
     "output_type": "stream",
     "text": [
      "                                                                                \r"
     ]
    },
    {
     "name": "stdout",
     "output_type": "stream",
     "text": [
      "22/10/14 07:55:15 WARN DAGScheduler: Broadcasting large task binary with size 1161.5 KiB\n"
     ]
    },
    {
     "name": "stderr",
     "output_type": "stream",
     "text": [
      "                                                                                \r"
     ]
    },
    {
     "name": "stdout",
     "output_type": "stream",
     "text": [
      "22/10/14 07:56:44 WARN DAGScheduler: Broadcasting large task binary with size 1148.4 KiB\n"
     ]
    },
    {
     "name": "stderr",
     "output_type": "stream",
     "text": [
      "                                                                                \r"
     ]
    },
    {
     "name": "stdout",
     "output_type": "stream",
     "text": [
      "22/10/14 07:57:41 WARN DAGScheduler: Broadcasting large task binary with size 1159.3 KiB\n"
     ]
    },
    {
     "name": "stderr",
     "output_type": "stream",
     "text": [
      "                                                                                \r"
     ]
    },
    {
     "name": "stdout",
     "output_type": "stream",
     "text": [
      "22/10/14 07:57:45 WARN DAGScheduler: Broadcasting large task binary with size 1171.3 KiB\n"
     ]
    },
    {
     "name": "stderr",
     "output_type": "stream",
     "text": [
      "                                                                                \r"
     ]
    },
    {
     "name": "stdout",
     "output_type": "stream",
     "text": [
      "22/10/14 07:59:21 WARN DAGScheduler: Broadcasting large task binary with size 1147.2 KiB\n"
     ]
    },
    {
     "name": "stderr",
     "output_type": "stream",
     "text": [
      "\r",
      "[Stage 24:>                                                         (0 + 1) / 1]\r"
     ]
    },
    {
     "name": "stdout",
     "output_type": "stream",
     "text": [
      "22/10/14 07:59:26 WARN PythonUDFRunner: Detected deadlock while completing task 0.0 in stage 24 (TID 16): Attempting to kill Python Worker\n",
      "22/10/14 07:59:26 WARN DAGScheduler: Broadcasting large task binary with size 1148.2 KiB\n"
     ]
    },
    {
     "name": "stderr",
     "output_type": "stream",
     "text": [
      "                                                                                \r"
     ]
    },
    {
     "name": "stdout",
     "output_type": "stream",
     "text": [
      "22/10/14 07:59:30 WARN DAGScheduler: Broadcasting large task binary with size 1148.2 KiB\n"
     ]
    },
    {
     "name": "stderr",
     "output_type": "stream",
     "text": [
      "[Stage 26:=================================>                      (19 + 3) / 32]\r"
     ]
    },
    {
     "name": "stdout",
     "output_type": "stream",
     "text": [
      "22/10/14 08:00:05 WARN MemoryStore: Not enough space to cache rdd_279_20 in memory! (computed 6.0 MiB so far)\n",
      "22/10/14 08:00:05 WARN MemoryStore: Not enough space to cache rdd_279_21 in memory! (computed 9.0 MiB so far)\n",
      "22/10/14 08:00:05 WARN BlockManager: Persisting block rdd_279_20 to disk instead.\n",
      "22/10/14 08:00:05 WARN BlockManager: Persisting block rdd_279_21 to disk instead.\n",
      "22/10/14 08:00:05 WARN MemoryStore: Not enough space to cache rdd_279_19 in memory! (computed 20.5 MiB so far)\n",
      "22/10/14 08:00:05 WARN BlockManager: Persisting block rdd_279_19 to disk instead.\n",
      "22/10/14 08:00:05 WARN MemoryStore: Not enough space to cache rdd_279_19 in memory! (computed 13.5 MiB so far)\n",
      "22/10/14 08:00:05 WARN MemoryStore: Not enough space to cache rdd_279_21 in memory! (computed 13.5 MiB so far)\n"
     ]
    },
    {
     "name": "stderr",
     "output_type": "stream",
     "text": [
      "[Stage 26:======================================>                 (22 + 3) / 32]\r"
     ]
    },
    {
     "name": "stdout",
     "output_type": "stream",
     "text": [
      "22/10/14 08:00:07 WARN MemoryStore: Not enough space to cache rdd_279_24 in memory! (computed 1048.2 KiB so far)\n",
      "22/10/14 08:00:07 WARN BlockManager: Persisting block rdd_279_24 to disk instead.\n",
      "22/10/14 08:00:07 WARN MemoryStore: Not enough space to cache rdd_279_22 in memory! (computed 3.9 MiB so far)\n",
      "22/10/14 08:00:07 WARN BlockManager: Persisting block rdd_279_22 to disk instead.\n",
      "22/10/14 08:00:08 WARN MemoryStore: Not enough space to cache rdd_279_23 in memory! (computed 6.0 MiB so far)\n",
      "22/10/14 08:00:08 WARN BlockManager: Persisting block rdd_279_23 to disk instead.\n",
      "22/10/14 08:00:11 WARN MemoryStore: Not enough space to cache rdd_279_22 in memory! (computed 2.3 MiB so far)\n",
      "22/10/14 08:00:11 WARN MemoryStore: Not enough space to cache rdd_279_23 in memory! (computed 6.0 MiB so far)\n"
     ]
    },
    {
     "name": "stderr",
     "output_type": "stream",
     "text": [
      "\r",
      "[Stage 26:==========================================>             (24 + 3) / 32]\r"
     ]
    },
    {
     "name": "stdout",
     "output_type": "stream",
     "text": [
      "22/10/14 08:00:11 WARN MemoryStore: Not enough space to cache rdd_279_24 in memory! (computed 6.0 MiB so far)\n"
     ]
    },
    {
     "name": "stderr",
     "output_type": "stream",
     "text": [
      "\r",
      "[Stage 26:===========================================>            (25 + 3) / 32]\r"
     ]
    },
    {
     "name": "stdout",
     "output_type": "stream",
     "text": [
      "22/10/14 08:00:12 WARN MemoryStore: Not enough space to cache rdd_279_27 in memory! (computed 1048.2 KiB so far)\n",
      "22/10/14 08:00:12 WARN BlockManager: Persisting block rdd_279_27 to disk instead.\n",
      "22/10/14 08:00:12 WARN MemoryStore: Not enough space to cache rdd_279_25 in memory! (computed 3.9 MiB so far)\n",
      "22/10/14 08:00:12 WARN BlockManager: Persisting block rdd_279_25 to disk instead.\n",
      "22/10/14 08:00:12 WARN MemoryStore: Not enough space to cache rdd_279_26 in memory! (computed 3.9 MiB so far)\n",
      "22/10/14 08:00:12 WARN BlockManager: Persisting block rdd_279_26 to disk instead.\n",
      "22/10/14 08:00:16 WARN MemoryStore: Not enough space to cache rdd_279_25 in memory! (computed 6.0 MiB so far)\n",
      "22/10/14 08:00:16 WARN MemoryStore: Not enough space to cache rdd_279_26 in memory! (computed 6.0 MiB so far)\n"
     ]
    },
    {
     "name": "stderr",
     "output_type": "stream",
     "text": [
      "[Stage 26:===============================================>        (27 + 3) / 32]\r"
     ]
    },
    {
     "name": "stdout",
     "output_type": "stream",
     "text": [
      "22/10/14 08:00:16 WARN MemoryStore: Not enough space to cache rdd_279_27 in memory! (computed 6.0 MiB so far)\n"
     ]
    },
    {
     "name": "stderr",
     "output_type": "stream",
     "text": [
      "\r",
      "[Stage 26:=================================================>      (28 + 3) / 32]\r"
     ]
    },
    {
     "name": "stdout",
     "output_type": "stream",
     "text": [
      "22/10/14 08:00:17 WARN MemoryStore: Not enough space to cache rdd_279_29 in memory! (computed 2.3 MiB so far)\n",
      "22/10/14 08:00:17 WARN BlockManager: Persisting block rdd_279_29 to disk instead.\n",
      "22/10/14 08:00:17 WARN MemoryStore: Not enough space to cache rdd_279_28 in memory! (computed 3.9 MiB so far)\n",
      "22/10/14 08:00:17 WARN BlockManager: Persisting block rdd_279_28 to disk instead.\n",
      "22/10/14 08:00:19 WARN MemoryStore: Not enough space to cache rdd_279_30 in memory! (computed 6.0 MiB so far)\n",
      "22/10/14 08:00:19 WARN BlockManager: Persisting block rdd_279_30 to disk instead.\n",
      "22/10/14 08:00:21 WARN MemoryStore: Not enough space to cache rdd_279_29 in memory! (computed 2.3 MiB so far)\n",
      "22/10/14 08:00:21 WARN MemoryStore: Not enough space to cache rdd_279_28 in memory! (computed 6.0 MiB so far)\n"
     ]
    },
    {
     "name": "stderr",
     "output_type": "stream",
     "text": [
      "\r",
      "[Stage 26:====================================================>   (30 + 2) / 32]\r"
     ]
    },
    {
     "name": "stdout",
     "output_type": "stream",
     "text": [
      "22/10/14 08:00:21 WARN MemoryStore: Not enough space to cache rdd_279_30 in memory! (computed 13.5 MiB so far)\n"
     ]
    },
    {
     "name": "stderr",
     "output_type": "stream",
     "text": [
      "                                                                                \r"
     ]
    },
    {
     "name": "stdout",
     "output_type": "stream",
     "text": [
      "22/10/14 08:00:24 WARN DAGScheduler: Broadcasting large task binary with size 1153.6 KiB\n",
      "22/10/14 08:00:25 WARN MemoryStore: Not enough space to cache rdd_279_19 in memory! (computed 9.0 MiB so far)\n",
      "22/10/14 08:00:25 WARN MemoryStore: Not enough space to cache rdd_279_21 in memory! (computed 6.0 MiB so far)\n",
      "22/10/14 08:00:25 WARN MemoryStore: Not enough space to cache rdd_279_22 in memory! (computed 6.0 MiB so far)\n",
      "22/10/14 08:00:25 WARN MemoryStore: Not enough space to cache rdd_279_23 in memory! (computed 9.0 MiB so far)\n",
      "22/10/14 08:00:25 WARN MemoryStore: Not enough space to cache rdd_279_24 in memory! (computed 6.0 MiB so far)\n",
      "22/10/14 08:00:25 WARN MemoryStore: Not enough space to cache rdd_279_25 in memory! (computed 6.0 MiB so far)\n"
     ]
    },
    {
     "name": "stderr",
     "output_type": "stream",
     "text": [
      "\r",
      "[Stage 27:==========================================>             (24 + 3) / 32]\r"
     ]
    },
    {
     "name": "stdout",
     "output_type": "stream",
     "text": [
      "22/10/14 08:00:25 WARN MemoryStore: Not enough space to cache rdd_279_26 in memory! (computed 9.0 MiB so far)\n",
      "22/10/14 08:00:25 WARN MemoryStore: Not enough space to cache rdd_279_28 in memory! (computed 6.0 MiB so far)\n",
      "22/10/14 08:00:25 WARN MemoryStore: Not enough space to cache rdd_279_27 in memory! (computed 6.0 MiB so far)\n",
      "22/10/14 08:00:25 WARN MemoryStore: Not enough space to cache rdd_279_29 in memory! (computed 9.0 MiB so far)\n"
     ]
    },
    {
     "name": "stderr",
     "output_type": "stream",
     "text": [
      "\r",
      "[Stage 27:=================================================>      (28 + 3) / 32]\r"
     ]
    },
    {
     "name": "stdout",
     "output_type": "stream",
     "text": [
      "22/10/14 08:00:25 WARN MemoryStore: Not enough space to cache rdd_279_30 in memory! (computed 9.0 MiB so far)\n"
     ]
    },
    {
     "name": "stderr",
     "output_type": "stream",
     "text": [
      "\r",
      "                                                                                \r"
     ]
    },
    {
     "name": "stdout",
     "output_type": "stream",
     "text": [
      "22/10/14 08:00:26 WARN DAGScheduler: Broadcasting large task binary with size 1156.4 KiB\n"
     ]
    },
    {
     "name": "stderr",
     "output_type": "stream",
     "text": [
      "[Stage 29:===========================================>            (25 + 3) / 32]\r"
     ]
    },
    {
     "name": "stdout",
     "output_type": "stream",
     "text": [
      "22/10/14 08:00:29 WARN MemoryStore: Not enough space to cache rdd_279_27 in memory! (computed 13.5 MiB so far)\n"
     ]
    },
    {
     "name": "stderr",
     "output_type": "stream",
     "text": [
      "                                                                                \r"
     ]
    },
    {
     "name": "stdout",
     "output_type": "stream",
     "text": [
      "22/10/14 08:00:30 WARN DAGScheduler: Broadcasting large task binary with size 1157.2 KiB\n"
     ]
    },
    {
     "name": "stderr",
     "output_type": "stream",
     "text": [
      "                                                                                \r"
     ]
    },
    {
     "name": "stdout",
     "output_type": "stream",
     "text": [
      "22/10/14 08:00:32 WARN DAGScheduler: Broadcasting large task binary with size 1157.6 KiB\n"
     ]
    },
    {
     "name": "stderr",
     "output_type": "stream",
     "text": [
      "\r",
      "[Stage 33:==========================================>             (24 + 3) / 32]\r",
      "\r",
      "                                                                                \r"
     ]
    },
    {
     "name": "stdout",
     "output_type": "stream",
     "text": [
      "22/10/14 08:00:33 WARN DAGScheduler: Broadcasting large task binary with size 1158.7 KiB\n",
      "22/10/14 08:00:33 WARN DAGScheduler: Broadcasting large task binary with size 1160.7 KiB\n"
     ]
    },
    {
     "name": "stderr",
     "output_type": "stream",
     "text": [
      "\r",
      "[Stage 37:====================================================>   (30 + 2) / 32]\r",
      "\r",
      "                                                                                \r"
     ]
    },
    {
     "name": "stdout",
     "output_type": "stream",
     "text": [
      "22/10/14 08:00:34 WARN DAGScheduler: Broadcasting large task binary with size 1162.5 KiB\n"
     ]
    },
    {
     "name": "stderr",
     "output_type": "stream",
     "text": [
      "[Stage 40:>                                                        (0 + 3) / 32]\r"
     ]
    },
    {
     "name": "stdout",
     "output_type": "stream",
     "text": [
      "22/10/14 08:47:26 WARN DAGScheduler: Broadcasting large task binary with size 1148.4 KiB\n"
     ]
    },
    {
     "name": "stderr",
     "output_type": "stream",
     "text": [
      "                                                                                \r"
     ]
    },
    {
     "name": "stdout",
     "output_type": "stream",
     "text": [
      "22/10/14 08:48:11 WARN DAGScheduler: Broadcasting large task binary with size 1160.2 KiB\n"
     ]
    },
    {
     "name": "stderr",
     "output_type": "stream",
     "text": [
      "                                                                                \r"
     ]
    },
    {
     "name": "stdout",
     "output_type": "stream",
     "text": [
      "22/10/14 08:48:15 WARN DAGScheduler: Broadcasting large task binary with size 1172.3 KiB\n"
     ]
    },
    {
     "name": "stderr",
     "output_type": "stream",
     "text": [
      "                                                                                \r"
     ]
    },
    {
     "name": "stdout",
     "output_type": "stream",
     "text": [
      "22/10/14 09:21:19 WARN DAGScheduler: Broadcasting large task binary with size 1147.2 KiB\n"
     ]
    },
    {
     "name": "stderr",
     "output_type": "stream",
     "text": [
      "\r",
      "[Stage 24:>                                                         (0 + 1) / 1]\r"
     ]
    },
    {
     "name": "stdout",
     "output_type": "stream",
     "text": [
      "22/10/14 09:21:24 WARN PythonUDFRunner: Detected deadlock while completing task 0.0 in stage 24 (TID 16): Attempting to kill Python Worker\n",
      "22/10/14 09:21:24 WARN DAGScheduler: Broadcasting large task binary with size 1148.2 KiB\n"
     ]
    },
    {
     "name": "stderr",
     "output_type": "stream",
     "text": [
      "                                                                                \r"
     ]
    },
    {
     "name": "stdout",
     "output_type": "stream",
     "text": [
      "22/10/14 09:21:27 WARN DAGScheduler: Broadcasting large task binary with size 1148.2 KiB\n"
     ]
    },
    {
     "name": "stderr",
     "output_type": "stream",
     "text": [
      "[Stage 26:=============================>                          (17 + 4) / 32]\r"
     ]
    },
    {
     "name": "stdout",
     "output_type": "stream",
     "text": [
      "22/10/14 10:02:01 WARN MemoryStore: Not enough space to cache rdd_279_20 in memory! (computed 13.5 MiB so far)\n",
      "22/10/14 10:02:01 WARN BlockManager: Persisting block rdd_279_20 to disk instead.\n"
     ]
    },
    {
     "name": "stderr",
     "output_type": "stream",
     "text": [
      "\r",
      "[Stage 26:=================================>                      (19 + 4) / 32]\r",
      "\r",
      "[Stage 26:===================================>                    (20 + 4) / 32]\r"
     ]
    },
    {
     "name": "stdout",
     "output_type": "stream",
     "text": [
      "22/10/14 10:02:03 WARN MemoryStore: Not enough space to cache rdd_279_20 in memory! (computed 13.5 MiB so far)\n"
     ]
    },
    {
     "name": "stderr",
     "output_type": "stream",
     "text": [
      "\r",
      "[Stage 26:====================================>                   (21 + 4) / 32]\r"
     ]
    },
    {
     "name": "stdout",
     "output_type": "stream",
     "text": [
      "22/10/14 10:02:05 WARN MemoryStore: Not enough space to cache rdd_279_24 in memory! (computed 2.3 MiB so far)\n",
      "22/10/14 10:02:05 WARN BlockManager: Persisting block rdd_279_24 to disk instead.\n",
      "22/10/14 10:02:05 WARN MemoryStore: Not enough space to cache rdd_279_21 in memory! (computed 6.0 MiB so far)\n",
      "22/10/14 10:02:05 WARN BlockManager: Persisting block rdd_279_21 to disk instead.\n",
      "22/10/14 10:02:07 WARN MemoryStore: Not enough space to cache rdd_279_22 in memory! (computed 13.5 MiB so far)\n",
      "22/10/14 10:02:07 WARN BlockManager: Persisting block rdd_279_22 to disk instead.\n",
      "22/10/14 10:02:09 WARN MemoryStore: Not enough space to cache rdd_279_22 in memory! (computed 6.0 MiB so far)\n",
      "22/10/14 10:02:09 WARN MemoryStore: Not enough space to cache rdd_279_21 in memory! (computed 13.5 MiB so far)\n"
     ]
    },
    {
     "name": "stderr",
     "output_type": "stream",
     "text": [
      "[Stage 26:==========================================>             (24 + 4) / 32]\r"
     ]
    },
    {
     "name": "stdout",
     "output_type": "stream",
     "text": [
      "22/10/14 10:02:12 WARN MemoryStore: Not enough space to cache rdd_279_24 in memory! (computed 6.0 MiB so far)\n"
     ]
    },
    {
     "name": "stderr",
     "output_type": "stream",
     "text": [
      "\r",
      "[Stage 26:===========================================>            (25 + 4) / 32]\r"
     ]
    },
    {
     "name": "stdout",
     "output_type": "stream",
     "text": [
      "22/10/14 10:02:13 WARN MemoryStore: Not enough space to cache rdd_279_28 in memory! (computed 2.3 MiB so far)\n",
      "22/10/14 10:02:13 WARN BlockManager: Persisting block rdd_279_28 to disk instead.\n",
      "22/10/14 10:02:14 WARN MemoryStore: Not enough space to cache rdd_279_26 in memory! (computed 6.0 MiB so far)\n",
      "22/10/14 10:02:14 WARN BlockManager: Persisting block rdd_279_26 to disk instead.\n",
      "22/10/14 10:02:16 WARN MemoryStore: Not enough space to cache rdd_279_25 in memory! (computed 13.5 MiB so far)\n",
      "22/10/14 10:02:16 WARN BlockManager: Persisting block rdd_279_25 to disk instead.\n",
      "22/10/14 10:02:18 WARN MemoryStore: Not enough space to cache rdd_279_25 in memory! (computed 6.0 MiB so far)\n"
     ]
    },
    {
     "name": "stderr",
     "output_type": "stream",
     "text": [
      "\r",
      "[Stage 26:=============================================>          (26 + 4) / 32]\r",
      "\r",
      "[Stage 26:=================================================>      (28 + 4) / 32]\r"
     ]
    },
    {
     "name": "stdout",
     "output_type": "stream",
     "text": [
      "22/10/14 10:02:21 WARN MemoryStore: Not enough space to cache rdd_279_28 in memory! (computed 6.0 MiB so far)\n"
     ]
    },
    {
     "name": "stderr",
     "output_type": "stream",
     "text": [
      "\r",
      "[Stage 26:==================================================>     (29 + 3) / 32]\r"
     ]
    },
    {
     "name": "stdout",
     "output_type": "stream",
     "text": [
      "22/10/14 10:02:23 WARN MemoryStore: Not enough space to cache rdd_279_31 in memory! (computed 9.0 MiB so far)\n",
      "22/10/14 10:02:23 WARN BlockManager: Persisting block rdd_279_31 to disk instead.\n",
      "22/10/14 10:02:24 WARN MemoryStore: Not enough space to cache rdd_279_30 in memory! (computed 13.5 MiB so far)\n",
      "22/10/14 10:02:24 WARN BlockManager: Persisting block rdd_279_30 to disk instead.\n"
     ]
    },
    {
     "name": "stderr",
     "output_type": "stream",
     "text": [
      "\r",
      "[Stage 26:====================================================>   (30 + 2) / 32]\r",
      "\r",
      "                                                                                \r"
     ]
    },
    {
     "name": "stdout",
     "output_type": "stream",
     "text": [
      "22/10/14 10:02:25 WARN MemoryStore: Not enough space to cache rdd_279_31 in memory! (computed 9.0 MiB so far)\n",
      "22/10/14 10:02:25 WARN DAGScheduler: Broadcasting large task binary with size 1153.7 KiB\n",
      "22/10/14 10:02:25 WARN MemoryStore: Not enough space to cache rdd_279_0 in memory! (computed 3.9 MiB so far)\n",
      "22/10/14 10:02:25 WARN MemoryStore: Not enough space to cache rdd_279_2 in memory! (computed 3.9 MiB so far)\n",
      "22/10/14 10:02:25 WARN MemoryStore: Not enough space to cache rdd_279_3 in memory! (computed 3.9 MiB so far)\n",
      "22/10/14 10:02:25 WARN MemoryStore: Not enough space to cache rdd_279_4 in memory! (computed 13.5 MiB so far)\n",
      "22/10/14 10:02:26 WARN MemoryStore: Not enough space to cache rdd_279_22 in memory! (computed 3.9 MiB so far)\n",
      "22/10/14 10:02:26 WARN MemoryStore: Not enough space to cache rdd_279_21 in memory! (computed 3.9 MiB so far)\n",
      "22/10/14 10:02:26 WARN MemoryStore: Not enough space to cache rdd_279_20 in memory! (computed 6.0 MiB so far)\n",
      "22/10/14 10:02:26 WARN MemoryStore: Not enough space to cache rdd_279_24 in memory! (computed 9.0 MiB so far)\n",
      "22/10/14 10:02:26 WARN MemoryStore: Not enough space to cache rdd_279_25 in memory! (computed 3.9 MiB so far)\n"
     ]
    },
    {
     "name": "stderr",
     "output_type": "stream",
     "text": [
      "\r",
      "[Stage 27:========================================>               (23 + 4) / 32]\r"
     ]
    },
    {
     "name": "stdout",
     "output_type": "stream",
     "text": [
      "22/10/14 10:02:26 WARN MemoryStore: Not enough space to cache rdd_279_28 in memory! (computed 13.5 MiB so far)\n",
      "22/10/14 10:02:26 WARN MemoryStore: Failed to reserve initial memory threshold of 1024.0 KiB for computing block rdd_279_31 in memory.\n",
      "22/10/14 10:02:26 WARN MemoryStore: Not enough space to cache rdd_279_31 in memory! (computed 384.0 B so far)\n"
     ]
    },
    {
     "name": "stderr",
     "output_type": "stream",
     "text": [
      "\r",
      "[Stage 27:==================================================>     (29 + 3) / 32]\r",
      "\r",
      "                                                                                \r"
     ]
    },
    {
     "name": "stdout",
     "output_type": "stream",
     "text": [
      "22/10/14 10:02:26 WARN DAGScheduler: Broadcasting large task binary with size 1156.4 KiB\n",
      "22/10/14 10:02:26 WARN MemoryStore: Not enough space to cache rdd_279_3 in memory! (computed 2.3 MiB so far)\n",
      "22/10/14 10:02:26 WARN MemoryStore: Not enough space to cache rdd_279_2 in memory! (computed 13.5 MiB so far)\n"
     ]
    },
    {
     "name": "stderr",
     "output_type": "stream",
     "text": [
      "\r",
      "[Stage 29:=======>                                                 (4 + 4) / 32]\r"
     ]
    },
    {
     "name": "stdout",
     "output_type": "stream",
     "text": [
      "22/10/14 10:02:27 WARN MemoryStore: Not enough space to cache rdd_279_7 in memory! (computed 3.9 MiB so far)\n",
      "22/10/14 10:02:27 WARN MemoryStore: Not enough space to cache rdd_279_6 in memory! (computed 13.5 MiB so far)\n"
     ]
    },
    {
     "name": "stderr",
     "output_type": "stream",
     "text": [
      "                                                                                \r"
     ]
    },
    {
     "name": "stdout",
     "output_type": "stream",
     "text": [
      "22/10/14 10:02:31 WARN DAGScheduler: Broadcasting large task binary with size 1157.2 KiB\n"
     ]
    },
    {
     "name": "stderr",
     "output_type": "stream",
     "text": [
      "                                                                                \r"
     ]
    },
    {
     "name": "stdout",
     "output_type": "stream",
     "text": [
      "22/10/14 10:02:33 WARN DAGScheduler: Broadcasting large task binary with size 1157.6 KiB\n",
      "22/10/14 10:02:34 WARN DAGScheduler: Broadcasting large task binary with size 1158.7 KiB\n",
      "22/10/14 10:02:34 WARN DAGScheduler: Broadcasting large task binary with size 1160.7 KiB\n"
     ]
    },
    {
     "name": "stderr",
     "output_type": "stream",
     "text": [
      "\r",
      "[Stage 37:=================================================>      (28 + 4) / 32]\r",
      "\r",
      "                                                                                \r"
     ]
    },
    {
     "name": "stdout",
     "output_type": "stream",
     "text": [
      "22/10/14 10:02:35 WARN DAGScheduler: Broadcasting large task binary with size 1162.5 KiB\n"
     ]
    },
    {
     "name": "stderr",
     "output_type": "stream",
     "text": [
      "                                                                                \r"
     ]
    },
    {
     "name": "stdout",
     "output_type": "stream",
     "text": [
      "22/10/14 10:04:12 WARN DAGScheduler: Broadcasting large task binary with size 1148.4 KiB\n"
     ]
    },
    {
     "name": "stderr",
     "output_type": "stream",
     "text": [
      "                                                                                \r"
     ]
    },
    {
     "name": "stdout",
     "output_type": "stream",
     "text": [
      "22/10/14 10:04:56 WARN DAGScheduler: Broadcasting large task binary with size 1160.3 KiB\n"
     ]
    },
    {
     "name": "stderr",
     "output_type": "stream",
     "text": [
      "                                                                                \r"
     ]
    },
    {
     "name": "stdout",
     "output_type": "stream",
     "text": [
      "22/10/14 10:04:59 WARN DAGScheduler: Broadcasting large task binary with size 1172.3 KiB\n"
     ]
    },
    {
     "name": "stderr",
     "output_type": "stream",
     "text": [
      "                                                                                \r"
     ]
    }
   ],
   "source": [
    "%time\n",
    "for n_clusters in clusters:\n",
    "    for m_factor in multiply:\n",
    "        spark = LocalSparkSession(n_clusters)\n",
    "        spark.start()\n",
    "\n",
    "        dataset = Dataset(spark.spark, filename, num_fields, categorical_fields, target)\n",
    "        dataset.load()\n",
    "        dataset.one_hot_encode_categorical_fields()\n",
    "        dataset.multiply_dataset(m_factor)\n",
    "\n",
    "        mr_id3 = MapReduceIDR3(dataset)\n",
    "        mr_id3.set_labeled_point()\n",
    "        mr_id3.split()\n",
    "        mr_id3.train()\n",
    "        mr_id3.predict()\n",
    "        \n",
    "        metric = mr_id3.get_metrics()\n",
    "        metric['length_rows'] = dataset.df.count()\n",
    "        metric['m_factor'] = m_factor\n",
    "        metric['n_clusters'] = n_clusters\n",
    "        metrics.append(metric)\n",
    "\n",
    "        spark.stop()"
   ]
  },
  {
   "cell_type": "code",
   "execution_count": 41,
   "metadata": {},
   "outputs": [
    {
     "name": "stdout",
     "output_type": "stream",
     "text": [
      "CPU times: user 4 µs, sys: 2 µs, total: 6 µs\n",
      "Wall time: 12.2 µs\n"
     ]
    }
   ],
   "source": [
    "%time\n",
    "df = pd.DataFrame.from_dict(metrics)"
   ]
  },
  {
   "cell_type": "code",
   "execution_count": 42,
   "metadata": {},
   "outputs": [
    {
     "data": {
      "text/html": [
       "<div>\n",
       "<style scoped>\n",
       "    .dataframe tbody tr th:only-of-type {\n",
       "        vertical-align: middle;\n",
       "    }\n",
       "\n",
       "    .dataframe tbody tr th {\n",
       "        vertical-align: top;\n",
       "    }\n",
       "\n",
       "    .dataframe thead th {\n",
       "        text-align: right;\n",
       "    }\n",
       "</style>\n",
       "<table border=\"1\" class=\"dataframe\">\n",
       "  <thead>\n",
       "    <tr style=\"text-align: right;\">\n",
       "      <th></th>\n",
       "      <th>time</th>\n",
       "      <th>errors</th>\n",
       "      <th>area_under_pr</th>\n",
       "      <th>area_under_roc</th>\n",
       "      <th>length_rows</th>\n",
       "      <th>m_factor</th>\n",
       "      <th>n_clusters</th>\n",
       "    </tr>\n",
       "  </thead>\n",
       "  <tbody>\n",
       "    <tr>\n",
       "      <th>0</th>\n",
       "      <td>141.487169</td>\n",
       "      <td>0.174388</td>\n",
       "      <td>0.410725</td>\n",
       "      <td>0.756192</td>\n",
       "      <td>1041952</td>\n",
       "      <td>5</td>\n",
       "      <td>1</td>\n",
       "    </tr>\n",
       "    <tr>\n",
       "      <th>1</th>\n",
       "      <td>83.355127</td>\n",
       "      <td>0.170787</td>\n",
       "      <td>0.421962</td>\n",
       "      <td>0.770086</td>\n",
       "      <td>1041952</td>\n",
       "      <td>5</td>\n",
       "      <td>2</td>\n",
       "    </tr>\n",
       "    <tr>\n",
       "      <th>2</th>\n",
       "      <td>72.910038</td>\n",
       "      <td>0.165940</td>\n",
       "      <td>0.437139</td>\n",
       "      <td>0.787724</td>\n",
       "      <td>1041952</td>\n",
       "      <td>5</td>\n",
       "      <td>3</td>\n",
       "    </tr>\n",
       "    <tr>\n",
       "      <th>3</th>\n",
       "      <td>2475.912175</td>\n",
       "      <td>0.166134</td>\n",
       "      <td>0.439570</td>\n",
       "      <td>0.793499</td>\n",
       "      <td>1041952</td>\n",
       "      <td>5</td>\n",
       "      <td>4</td>\n",
       "    </tr>\n",
       "  </tbody>\n",
       "</table>\n",
       "</div>"
      ],
      "text/plain": [
       "          time    errors  area_under_pr  area_under_roc  length_rows  \\\n",
       "0   141.487169  0.174388       0.410725        0.756192      1041952   \n",
       "1    83.355127  0.170787       0.421962        0.770086      1041952   \n",
       "2    72.910038  0.165940       0.437139        0.787724      1041952   \n",
       "3  2475.912175  0.166134       0.439570        0.793499      1041952   \n",
       "\n",
       "   m_factor  n_clusters  \n",
       "0         5           1  \n",
       "1         5           2  \n",
       "2         5           3  \n",
       "3         5           4  "
      ]
     },
     "execution_count": 42,
     "metadata": {},
     "output_type": "execute_result"
    }
   ],
   "source": [
    "df['time', ']"
   ]
  }
 ],
 "metadata": {
  "kernelspec": {
   "display_name": "Python 3 (ipykernel)",
   "language": "python",
   "name": "python3"
  },
  "language_info": {
   "codemirror_mode": {
    "name": "ipython",
    "version": 3
   },
   "file_extension": ".py",
   "mimetype": "text/x-python",
   "name": "python",
   "nbconvert_exporter": "python",
   "pygments_lexer": "ipython3",
   "version": "3.9.12"
  }
 },
 "nbformat": 4,
 "nbformat_minor": 1
}

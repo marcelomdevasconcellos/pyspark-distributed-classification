{
 "cells": [
  {
   "cell_type": "code",
   "execution_count": 1,
   "id": "7e777a81",
   "metadata": {},
   "outputs": [],
   "source": [
    "import sys\n",
    "import pandas as pd\n",
    "from spark_session import LocalSparkSession\n",
    "from dataset import Dataset\n",
    "from mr_id3 import MapReduceIDR3\n",
    "from pyspark.mllib.tree import DecisionTree, DecisionTreeModel\n",
    "from decisiontree_pyspark import DecisionTreePySpark\n",
    "from decisiontree_sklearn import DecisionTreeSklearn\n",
    "from pyspark.ml.tuning import ParamGridBuilder\n",
    "from pyspark.mllib.tree import DecisionTree"
   ]
  },
  {
   "cell_type": "code",
   "execution_count": 2,
   "id": "7fc354fd",
   "metadata": {},
   "outputs": [
    {
     "name": "stdout",
     "output_type": "stream",
     "text": [
      "CPU times: user 2 µs, sys: 1e+03 ns, total: 3 µs\n",
      "Wall time: 5.96 µs\n"
     ]
    }
   ],
   "source": [
    "%time\n",
    "num_fields = [\n",
    "    'age', 'fnlwgt', 'education_num', 'capital_gain', 'capital_loss',\n",
    "    'hours_per_week', ]\n",
    "\n",
    "categorical_fields = [\n",
    "    'workclass', 'education',\n",
    "    'marital_status', 'occupation', 'relationship',\n",
    "    'race', 'sex', 'native_country', ]"
   ]
  },
  {
   "cell_type": "code",
   "execution_count": 3,
   "id": "1c8513c7",
   "metadata": {},
   "outputs": [
    {
     "name": "stdout",
     "output_type": "stream",
     "text": [
      "CPU times: user 4 µs, sys: 1 µs, total: 5 µs\n",
      "Wall time: 8.82 µs\n"
     ]
    }
   ],
   "source": [
    "%time\n",
    "target = 'label'\n",
    "filename = 'dataset/adult.data'"
   ]
  },
  {
   "cell_type": "code",
   "execution_count": 4,
   "id": "6b438fa7",
   "metadata": {},
   "outputs": [
    {
     "name": "stdout",
     "output_type": "stream",
     "text": [
      "CPU times: user 2 µs, sys: 0 ns, total: 2 µs\n",
      "Wall time: 5.25 µs\n"
     ]
    }
   ],
   "source": [
    "%time\n",
    "number_of_cores = 4\n",
    "dataset_size = 1000\n",
    "dataset_sizes = list(range(1, 2))\n",
    "metrics = []"
   ]
  },
  {
   "cell_type": "code",
   "execution_count": 5,
   "id": "7cdf6869",
   "metadata": {},
   "outputs": [
    {
     "name": "stderr",
     "output_type": "stream",
     "text": [
      "2022-10-16 11:06:08,662 [INFO] LocalSparkSession : Starting with 4 clusters\n"
     ]
    },
    {
     "name": "stdout",
     "output_type": "stream",
     "text": [
      "CPU times: user 3 µs, sys: 0 ns, total: 3 µs\n",
      "Wall time: 5.96 µs\n",
      "22/10/16 11:06:10 WARN Utils: Your hostname, Mac-Pro-de-MARCELO.local resolves to a loopback address: 127.0.0.1; using 192.168.0.62 instead (on interface en2)\n",
      "22/10/16 11:06:10 WARN Utils: Set SPARK_LOCAL_IP if you need to bind to another address\n"
     ]
    },
    {
     "name": "stderr",
     "output_type": "stream",
     "text": [
      "Setting default log level to \"WARN\".\n",
      "To adjust logging level use sc.setLogLevel(newLevel). For SparkR, use setLogLevel(newLevel).\n"
     ]
    },
    {
     "name": "stdout",
     "output_type": "stream",
     "text": [
      "22/10/16 11:06:10 WARN NativeCodeLoader: Unable to load native-hadoop library for your platform... using builtin-java classes where applicable\n",
      "22/10/16 11:06:11 WARN Utils: Service 'SparkUI' could not bind on port 4040. Attempting port 4041.\n",
      "22/10/16 11:06:11 WARN Utils: Service 'SparkUI' could not bind on port 4041. Attempting port 4042.\n"
     ]
    }
   ],
   "source": [
    "%time\n",
    "spark = LocalSparkSession(number_of_cores)\n",
    "spark.start()"
   ]
  },
  {
   "cell_type": "code",
   "execution_count": 6,
   "id": "59e6d0df",
   "metadata": {},
   "outputs": [
    {
     "name": "stderr",
     "output_type": "stream",
     "text": [
      "2022-10-16 11:06:12,680 [INFO] Dataset : Starting\n",
      "2022-10-16 11:06:12,681 [INFO] Dataset : Loading Dataset dataset/adult.data\n"
     ]
    },
    {
     "name": "stdout",
     "output_type": "stream",
     "text": [
      "CPU times: user 4 µs, sys: 1e+03 ns, total: 5 µs\n",
      "Wall time: 8.11 µs\n"
     ]
    },
    {
     "name": "stderr",
     "output_type": "stream",
     "text": [
      "2022-10-16 11:06:15,936 [INFO] Dataset : One Hot Encode Categorical Features\n",
      "                                                                                \r"
     ]
    }
   ],
   "source": [
    "%time\n",
    "dataset = Dataset(spark.spark, filename, num_fields, categorical_fields, target)\n",
    "dataset.load()\n",
    "dataset.one_hot_encode_categorical_fields()"
   ]
  },
  {
   "cell_type": "code",
   "execution_count": 7,
   "id": "89e2a9cc",
   "metadata": {},
   "outputs": [],
   "source": [
    "metrics = []"
   ]
  },
  {
   "cell_type": "code",
   "execution_count": 8,
   "id": "3a0dd889",
   "metadata": {},
   "outputs": [],
   "source": [
    "dt = DecisionTree()"
   ]
  },
  {
   "cell_type": "code",
   "execution_count": 11,
   "id": "6e6d272b",
   "metadata": {},
   "outputs": [
    {
     "name": "stderr",
     "output_type": "stream",
     "text": [
      "2022-10-16 11:07:54,922 [INFO] Dataset : Multiplying Dataset by 1x\n",
      "2022-10-16 11:07:55,629 [INFO] DecisionTreePySpark : Starting\n"
     ]
    },
    {
     "ename": "AttributeError",
     "evalue": "'function' object has no attribute 'maxDepth'",
     "output_type": "error",
     "traceback": [
      "\u001b[0;31m---------------------------------------------------------------------------\u001b[0m",
      "\u001b[0;31mAttributeError\u001b[0m                            Traceback (most recent call last)",
      "Input \u001b[0;32mIn [11]\u001b[0m, in \u001b[0;36m<cell line: 1>\u001b[0;34m()\u001b[0m\n\u001b[1;32m      6\u001b[0m \u001b[38;5;66;03m# PySpark\u001b[39;00m\n\u001b[1;32m      7\u001b[0m cvp \u001b[38;5;241m=\u001b[39m DecisionTreePySpark(df)\n\u001b[1;32m      8\u001b[0m parameters \u001b[38;5;241m=\u001b[39m ParamGridBuilder() \\\n\u001b[0;32m----> 9\u001b[0m     \u001b[38;5;241m.\u001b[39maddGrid(\u001b[43mdt\u001b[49m\u001b[38;5;241;43m.\u001b[39;49m\u001b[43mtrainClassifier\u001b[49m\u001b[38;5;241;43m.\u001b[39;49m\u001b[43mmaxDepth\u001b[49m, [\u001b[38;5;241m10\u001b[39m, \u001b[38;5;241m20\u001b[39m, \u001b[38;5;241m30\u001b[39m, \u001b[38;5;241m40\u001b[39m, \u001b[38;5;241m50\u001b[39m, \u001b[38;5;241m60\u001b[39m, \u001b[38;5;241m70\u001b[39m])\u001b[38;5;241m.\u001b[39mbuild()\n\u001b[1;32m     10\u001b[0m cvp\u001b[38;5;241m.\u001b[39mcrossvalidation_train(parameters)\n\u001b[1;32m     11\u001b[0m m \u001b[38;5;241m=\u001b[39m cvp\u001b[38;5;241m.\u001b[39mget_metrics()\n",
      "\u001b[0;31mAttributeError\u001b[0m: 'function' object has no attribute 'maxDepth'"
     ]
    }
   ],
   "source": [
    "for dataset_size in dataset_sizes:\n",
    "    df = dataset.multiply_dataset(dataset_size)\n",
    "    df_pandas = df.toPandas()\n",
    "    metric_dict = {'dataset_size_num': dataset_size, 'dataset_size': sys.getsizeof(df_pandas)}\n",
    "    \n",
    "    # PySpark\n",
    "    cvp = DecisionTreePySpark(df)\n",
    "    parameters = ParamGridBuilder() \\\n",
    "        .addGrid(dt.trainClassifier.maxDepth, [10, 20, 30, 40, 50, 60, 70]).build()\n",
    "    cvp.crossvalidation_train(parameters)\n",
    "    m = cvp.get_metrics()\n",
    "    metric_dict['pyspark'] = m['time']\n",
    "    \n",
    "    # SKLearn\n",
    "    cvs = DecisionTreeSklearn(df_pandas)\n",
    "    cvs.set_x_y()\n",
    "    parameters = dict(\n",
    "        #df__criterion=['entropy', ],\n",
    "        dt__max_depth=[10, 20, 30, 40, 50, 60, 70],\n",
    "        dt__min_samples_split=[1, 2, 3],\n",
    "        #dt__max_features=[16, 32, 64]\n",
    "    )\n",
    "    cvs.crossvalidation_train(parameters)\n",
    "    m = cvs.get_metrics()\n",
    "    metric_dict['sklearn'] = m['time']\n",
    "    \n",
    "    metrics.append(metric_dict)"
   ]
  },
  {
   "cell_type": "code",
   "execution_count": null,
   "id": "19553753",
   "metadata": {},
   "outputs": [],
   "source": []
  },
  {
   "cell_type": "markdown",
   "id": "c671e4ae",
   "metadata": {},
   "source": [
    "# CrossValidationPySpark"
   ]
  },
  {
   "cell_type": "code",
   "execution_count": null,
   "id": "a00196a4",
   "metadata": {},
   "outputs": [],
   "source": [
    "# %time\n",
    "# crossvalidation_pyspark = CrossValidationPySpark(df)"
   ]
  },
  {
   "cell_type": "code",
   "execution_count": null,
   "id": "b3dcdbcb",
   "metadata": {},
   "outputs": [],
   "source": [
    "# parameters = ParamGridBuilder() \\\n",
    "#     .addGrid(dt.maxDepth, [10, 20, 30, 40, 50, 60, 70]).build()"
   ]
  },
  {
   "cell_type": "code",
   "execution_count": null,
   "id": "6a9eda03",
   "metadata": {},
   "outputs": [],
   "source": [
    "# %time\n",
    "# crossvalidation_pyspark.train(parameters)"
   ]
  },
  {
   "cell_type": "code",
   "execution_count": null,
   "id": "4cf737e0",
   "metadata": {},
   "outputs": [],
   "source": [
    "# m = crossvalidation_pyspark.get_metrics()\n",
    "# m['Algorithm'] = 'PySpark'\n",
    "# metrics.append(m)"
   ]
  },
  {
   "cell_type": "markdown",
   "id": "9554deb3",
   "metadata": {},
   "source": [
    "# CrossValidationSkLearn"
   ]
  },
  {
   "cell_type": "code",
   "execution_count": null,
   "id": "ff5bdd5b",
   "metadata": {},
   "outputs": [],
   "source": [
    "# %time\n",
    "# crossvalidation_sklearn = CrossValidationSkLearn(df)\n",
    "# crossvalidation_sklearn.set_x_y()"
   ]
  },
  {
   "cell_type": "code",
   "execution_count": null,
   "id": "a988cb18",
   "metadata": {},
   "outputs": [],
   "source": [
    "# parameters = dict(\n",
    "#     #df__criterion=['entropy', ],\n",
    "#     dt__max_depth=[10, 20, 30, 40, 50, 60, 70],\n",
    "#     #dt__min_samples_split=[1, 2, 3],\n",
    "#     #dt__max_features=[16, 32, 64]\n",
    "# )"
   ]
  },
  {
   "cell_type": "code",
   "execution_count": null,
   "id": "097ab17b",
   "metadata": {},
   "outputs": [],
   "source": [
    "# %time\n",
    "# crossvalidation_sklearn.train(parameters)"
   ]
  },
  {
   "cell_type": "code",
   "execution_count": null,
   "id": "ec9a284c",
   "metadata": {},
   "outputs": [],
   "source": [
    "# m = crossvalidation_sklearn.get_metrics()\n",
    "# m['Algorithm'] = 'SkLearn'\n",
    "# metrics.append(m)"
   ]
  },
  {
   "cell_type": "markdown",
   "id": "78b419e4",
   "metadata": {},
   "source": [
    "# Results"
   ]
  },
  {
   "cell_type": "code",
   "execution_count": null,
   "id": "630f89d7",
   "metadata": {},
   "outputs": [],
   "source": [
    "%time\n",
    "df = pd.DataFrame.from_dict(metrics)"
   ]
  },
  {
   "cell_type": "code",
   "execution_count": null,
   "id": "e76dfa80",
   "metadata": {},
   "outputs": [],
   "source": [
    "df"
   ]
  },
  {
   "cell_type": "code",
   "execution_count": null,
   "id": "5513cdbc",
   "metadata": {},
   "outputs": [],
   "source": []
  },
  {
   "cell_type": "code",
   "execution_count": null,
   "id": "2b1c388d",
   "metadata": {},
   "outputs": [],
   "source": []
  }
 ],
 "metadata": {
  "kernelspec": {
   "display_name": "Python 3 (ipykernel)",
   "language": "python",
   "name": "python3"
  },
  "language_info": {
   "codemirror_mode": {
    "name": "ipython",
    "version": 3
   },
   "file_extension": ".py",
   "mimetype": "text/x-python",
   "name": "python",
   "nbconvert_exporter": "python",
   "pygments_lexer": "ipython3",
   "version": "3.9.12"
  }
 },
 "nbformat": 4,
 "nbformat_minor": 5
}

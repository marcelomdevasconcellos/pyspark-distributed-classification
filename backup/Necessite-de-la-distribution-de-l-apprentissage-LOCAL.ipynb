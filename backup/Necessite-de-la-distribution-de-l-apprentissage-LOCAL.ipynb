{
 "cells": [
  {
   "cell_type": "code",
   "execution_count": 1,
   "metadata": {},
   "outputs": [],
   "source": [
    "import pandas as pd\n",
    "from spark_session import LocalSparkSession\n",
    "from dataset import Dataset\n",
    "from mr_id3 import MapReduceIDR3\n",
    "from pyspark.mllib.tree import DecisionTree"
   ]
  },
  {
   "cell_type": "code",
   "execution_count": 2,
   "metadata": {},
   "outputs": [],
   "source": [
    "from log import log\n",
    "from sklearn.impute import SimpleImputer\n",
    "from pyspark.sql.functions import lit\n",
    "from pyspark.sql.functions import col, sum\n",
    "from pyspark.sql.functions import udf, col\n",
    "from pyspark.sql.types import IntegerType\n",
    "from pyspark.sql import SparkSession\n",
    "from pyspark import SparkContext\n",
    "from pyspark.mllib.tree import DecisionTree, DecisionTreeModel\n",
    "from pyspark.mllib.util import MLUtils\n",
    "from pyspark.mllib.regression import LabeledPoint\n",
    "from pyspark.sql.types import StructType, StructField, IntegerType, StringType, LongType\n",
    "from pyspark.ml.feature import StringIndexer\n",
    "from pyspark.ml.feature import VectorAssembler"
   ]
  },
  {
   "cell_type": "code",
   "execution_count": 3,
   "metadata": {},
   "outputs": [
    {
     "name": "stdout",
     "output_type": "stream",
     "text": [
      "CPU times: user 4 µs, sys: 1 µs, total: 5 µs\n",
      "Wall time: 10 µs\n"
     ]
    }
   ],
   "source": [
    "%time\n",
    "num_fields = [\n",
    "    'age', 'fnlwgt', 'education_num', 'capital_gain', 'capital_loss',\n",
    "    'hours_per_week', ]\n",
    "\n",
    "categorical_fields = [\n",
    "    'workclass', 'education',\n",
    "    'marital_status', 'occupation', 'relationship',\n",
    "    'race', 'sex', 'native_country', ]"
   ]
  },
  {
   "cell_type": "code",
   "execution_count": 4,
   "metadata": {},
   "outputs": [
    {
     "name": "stdout",
     "output_type": "stream",
     "text": [
      "CPU times: user 3 µs, sys: 2 µs, total: 5 µs\n",
      "Wall time: 9.06 µs\n"
     ]
    }
   ],
   "source": [
    "%time\n",
    "target = 'label'\n",
    "filename = 'dataset/adult_100x.data'"
   ]
  },
  {
   "cell_type": "code",
   "execution_count": 5,
   "metadata": {},
   "outputs": [
    {
     "name": "stdout",
     "output_type": "stream",
     "text": [
      "CPU times: user 3 µs, sys: 1e+03 ns, total: 4 µs\n",
      "Wall time: 6.91 µs\n"
     ]
    }
   ],
   "source": [
    "%time\n",
    "numbers_of_cores = list(range(1, 5))\n",
    "dataset_sizes = [0, ]\n",
    "metrics = []"
   ]
  },
  {
   "cell_type": "code",
   "execution_count": 6,
   "metadata": {
    "scrolled": false
   },
   "outputs": [
    {
     "name": "stderr",
     "output_type": "stream",
     "text": [
      "2022-10-16 12:32:27,078 [INFO] LocalSparkSession : Starting with 1 clusters\n"
     ]
    },
    {
     "name": "stdout",
     "output_type": "stream",
     "text": [
      "CPU times: user 4 µs, sys: 1 µs, total: 5 µs\n",
      "Wall time: 9.06 µs\n",
      "22/10/16 12:32:29 WARN Utils: Your hostname, Mac-Pro-de-MARCELO.local resolves to a loopback address: 127.0.0.1; using 192.168.0.62 instead (on interface en2)\n",
      "22/10/16 12:32:29 WARN Utils: Set SPARK_LOCAL_IP if you need to bind to another address\n"
     ]
    },
    {
     "name": "stderr",
     "output_type": "stream",
     "text": [
      "Setting default log level to \"WARN\".\n",
      "To adjust logging level use sc.setLogLevel(newLevel). For SparkR, use setLogLevel(newLevel).\n"
     ]
    },
    {
     "name": "stdout",
     "output_type": "stream",
     "text": [
      "22/10/16 12:32:30 WARN NativeCodeLoader: Unable to load native-hadoop library for your platform... using builtin-java classes where applicable\n",
      "22/10/16 12:32:32 WARN Utils: Service 'SparkUI' could not bind on port 4040. Attempting port 4041.\n",
      "22/10/16 12:32:32 WARN Utils: Service 'SparkUI' could not bind on port 4041. Attempting port 4042.\n",
      "22/10/16 12:32:32 WARN Utils: Service 'SparkUI' could not bind on port 4042. Attempting port 4043.\n",
      "22/10/16 12:32:32 WARN Utils: Service 'SparkUI' could not bind on port 4043. Attempting port 4044.\n"
     ]
    },
    {
     "name": "stderr",
     "output_type": "stream",
     "text": [
      "2022-10-16 12:32:33,202 [INFO] Dataset : Starting\n",
      "2022-10-16 12:32:33,203 [INFO] Dataset : Loading Dataset dataset/adult_100x.data\n",
      "2022-10-16 12:32:37,826 [INFO] Dataset : Select Only Numerical Features\n",
      "2022-10-16 12:32:37,909 [INFO] Dataset : Multiplying Dataset by 0x\n",
      "2022-10-16 12:32:37,911 [INFO] MapReduceIDR3 : Starting\n",
      "2022-10-16 12:32:37,912 [INFO] MapReduceIDR3 : Setting Labeled Point\n",
      "2022-10-16 12:32:39,136 [INFO] MapReduceIDR3 : Splitting\n",
      "2022-10-16 12:32:39,138 [INFO] MapReduceIDR3 : Training\n",
      "2022-10-16 12:34:00,124 [INFO] MapReduceIDR3 : Training time 80.984188 seconds  \n",
      "2022-10-16 12:34:00,126 [INFO] MapReduceIDR3 : Get metrics\n",
      "2022-10-16 12:34:02,453 [INFO] Metrics: Clusters 1 - Dataset size 0x - Time 80.984188 seconds\n",
      "2022-10-16 12:34:02,454 [INFO] LocalSparkSession : Stopping\n",
      "2022-10-16 12:34:03,024 [INFO] LocalSparkSession : Starting with 2 clusters\n",
      "2022-10-16 12:34:03,173 [INFO] Dataset : Starting\n",
      "2022-10-16 12:34:03,174 [INFO] Dataset : Loading Dataset dataset/adult_100x.data\n",
      "2022-10-16 12:34:03,292 [INFO] Dataset : Select Only Numerical Features\n",
      "2022-10-16 12:34:03,325 [INFO] Dataset : Multiplying Dataset by 0x\n",
      "2022-10-16 12:34:03,326 [INFO] MapReduceIDR3 : Starting\n",
      "2022-10-16 12:34:03,328 [INFO] MapReduceIDR3 : Setting Labeled Point\n",
      "2022-10-16 12:34:03,471 [INFO] MapReduceIDR3 : Splitting\n",
      "2022-10-16 12:34:03,472 [INFO] MapReduceIDR3 : Training\n",
      "2022-10-16 12:35:04,772 [INFO] MapReduceIDR3 : Training time 61.298731 seconds  \n",
      "2022-10-16 12:35:04,773 [INFO] MapReduceIDR3 : Get metrics\n",
      "2022-10-16 12:35:06,410 [INFO] Metrics: Clusters 2 - Dataset size 0x - Time 61.298731 seconds\n",
      "2022-10-16 12:35:06,411 [INFO] LocalSparkSession : Stopping\n",
      "2022-10-16 12:35:06,743 [INFO] LocalSparkSession : Starting with 3 clusters\n",
      "2022-10-16 12:35:06,878 [INFO] Dataset : Starting\n",
      "2022-10-16 12:35:06,879 [INFO] Dataset : Loading Dataset dataset/adult_100x.data\n",
      "2022-10-16 12:35:06,978 [INFO] Dataset : Select Only Numerical Features\n",
      "2022-10-16 12:35:07,012 [INFO] Dataset : Multiplying Dataset by 0x\n",
      "2022-10-16 12:35:07,013 [INFO] MapReduceIDR3 : Starting\n",
      "2022-10-16 12:35:07,015 [INFO] MapReduceIDR3 : Setting Labeled Point\n",
      "2022-10-16 12:35:07,166 [INFO] MapReduceIDR3 : Splitting\n",
      "2022-10-16 12:35:07,167 [INFO] MapReduceIDR3 : Training\n",
      "2022-10-16 12:35:54,141 [INFO] MapReduceIDR3 : Training time 46.972981 seconds  \n",
      "2022-10-16 12:35:54,143 [INFO] MapReduceIDR3 : Get metrics\n",
      "2022-10-16 12:35:55,019 [INFO] Metrics: Clusters 3 - Dataset size 0x - Time 46.972981 seconds\n",
      "2022-10-16 12:35:55,020 [INFO] LocalSparkSession : Stopping\n",
      "2022-10-16 12:35:55,110 [INFO] LocalSparkSession : Starting with 4 clusters\n",
      "2022-10-16 12:35:55,201 [INFO] Dataset : Starting\n",
      "2022-10-16 12:35:55,202 [INFO] Dataset : Loading Dataset dataset/adult_100x.data\n",
      "2022-10-16 12:35:55,268 [INFO] Dataset : Select Only Numerical Features\n",
      "2022-10-16 12:35:55,289 [INFO] Dataset : Multiplying Dataset by 0x\n",
      "2022-10-16 12:35:55,290 [INFO] MapReduceIDR3 : Starting\n",
      "2022-10-16 12:35:55,291 [INFO] MapReduceIDR3 : Setting Labeled Point\n",
      "2022-10-16 12:35:55,375 [INFO] MapReduceIDR3 : Splitting\n",
      "2022-10-16 12:35:55,376 [INFO] MapReduceIDR3 : Training\n",
      "2022-10-16 12:36:27,466 [INFO] MapReduceIDR3 : Training time 32.089364 seconds  \n",
      "2022-10-16 12:36:27,467 [INFO] MapReduceIDR3 : Get metrics\n",
      "2022-10-16 12:36:28,093 [INFO] Metrics: Clusters 4 - Dataset size 0x - Time 32.089364 seconds\n",
      "2022-10-16 12:36:28,094 [INFO] LocalSparkSession : Stopping\n"
     ]
    }
   ],
   "source": [
    "%time\n",
    "for number_of_cores in numbers_of_cores:\n",
    "\n",
    "    spark = LocalSparkSession(number_of_cores)\n",
    "    spark.start()\n",
    "\n",
    "    dataset = Dataset(spark.spark, filename, num_fields, categorical_fields, target)\n",
    "    dataset.load()\n",
    "    dataset.select_only_numerical_features()\n",
    "\n",
    "    for dataset_size in dataset_sizes:\n",
    "        df = dataset.multiply_dataset(dataset_size)\n",
    "\n",
    "        mr_id3 = MapReduceIDR3(df)\n",
    "        mr_id3.train()\n",
    "\n",
    "        metric = mr_id3.get_metrics()\n",
    "        metric['length_rows'] = df.count()\n",
    "        metric['dataset_size'] = dataset_size\n",
    "        metric['number_of_cores'] = number_of_cores\n",
    "        metrics.append(metric)\n",
    "        log(f\"Metrics: Clusters {metric['number_of_cores']} - Dataset size {metric['dataset_size']}x - Time {metric['time']} seconds\")\n",
    "\n",
    "    spark.stop()"
   ]
  },
  {
   "cell_type": "code",
   "execution_count": 7,
   "metadata": {},
   "outputs": [
    {
     "name": "stdout",
     "output_type": "stream",
     "text": [
      "CPU times: user 2 µs, sys: 1 µs, total: 3 µs\n",
      "Wall time: 5.96 µs\n"
     ]
    }
   ],
   "source": [
    "%time\n",
    "df = pd.DataFrame.from_dict(metrics)"
   ]
  },
  {
   "cell_type": "code",
   "execution_count": 8,
   "metadata": {},
   "outputs": [
    {
     "name": "stdout",
     "output_type": "stream",
     "text": [
      "CPU times: user 2 µs, sys: 1e+03 ns, total: 3 µs\n",
      "Wall time: 5.96 µs\n"
     ]
    },
    {
     "data": {
      "text/plain": [
       "<AxesSubplot:>"
      ]
     },
     "execution_count": 8,
     "metadata": {},
     "output_type": "execute_result"
    },
    {
     "data": {
      "image/png": "[encoded data removed]",
      "text/plain": [
       "<Figure size 432x288 with 1 Axes>"
      ]
     },
     "metadata": {
      "needs_background": "light"
     },
     "output_type": "display_data"
    }
   ],
   "source": [
    "%time\n",
    "df[['number_of_cores', 'time']].plot()"
   ]
  },
  {
   "cell_type": "code",
   "execution_count": 9,
   "metadata": {},
   "outputs": [
    {
     "data": {
      "text/html": [
       "<div>\n",
       "<style scoped>\n",
       "    .dataframe tbody tr th:only-of-type {\n",
       "        vertical-align: middle;\n",
       "    }\n",
       "\n",
       "    .dataframe tbody tr th {\n",
       "        vertical-align: top;\n",
       "    }\n",
       "\n",
       "    .dataframe thead th {\n",
       "        text-align: right;\n",
       "    }\n",
       "</style>\n",
       "<table border=\"1\" class=\"dataframe\">\n",
       "  <thead>\n",
       "    <tr style=\"text-align: right;\">\n",
       "      <th></th>\n",
       "      <th>time</th>\n",
       "      <th>length_rows</th>\n",
       "      <th>dataset_size</th>\n",
       "      <th>number_of_cores</th>\n",
       "    </tr>\n",
       "  </thead>\n",
       "  <tbody>\n",
       "    <tr>\n",
       "      <th>0</th>\n",
       "      <td>80.984188</td>\n",
       "      <td>3256100</td>\n",
       "      <td>0</td>\n",
       "      <td>1</td>\n",
       "    </tr>\n",
       "    <tr>\n",
       "      <th>1</th>\n",
       "      <td>61.298731</td>\n",
       "      <td>3256100</td>\n",
       "      <td>0</td>\n",
       "      <td>2</td>\n",
       "    </tr>\n",
       "    <tr>\n",
       "      <th>2</th>\n",
       "      <td>46.972981</td>\n",
       "      <td>3256100</td>\n",
       "      <td>0</td>\n",
       "      <td>3</td>\n",
       "    </tr>\n",
       "    <tr>\n",
       "      <th>3</th>\n",
       "      <td>32.089364</td>\n",
       "      <td>3256100</td>\n",
       "      <td>0</td>\n",
       "      <td>4</td>\n",
       "    </tr>\n",
       "  </tbody>\n",
       "</table>\n",
       "</div>"
      ],
      "text/plain": [
       "        time  length_rows  dataset_size  number_of_cores\n",
       "0  80.984188      3256100             0                1\n",
       "1  61.298731      3256100             0                2\n",
       "2  46.972981      3256100             0                3\n",
       "3  32.089364      3256100             0                4"
      ]
     },
     "execution_count": 9,
     "metadata": {},
     "output_type": "execute_result"
    }
   ],
   "source": [
    "df"
   ]
  }
 ],
 "metadata": {
  "kernelspec": {
   "display_name": "Python 3 (ipykernel)",
   "language": "python",
   "name": "python3"
  },
  "language_info": {
   "codemirror_mode": {
    "name": "ipython",
    "version": 3
   },
   "file_extension": ".py",
   "mimetype": "text/x-python",
   "name": "python",
   "nbconvert_exporter": "python",
   "pygments_lexer": "ipython3",
   "version": "3.9.12"
  }
 },
 "nbformat": 4,
 "nbformat_minor": 1
}
